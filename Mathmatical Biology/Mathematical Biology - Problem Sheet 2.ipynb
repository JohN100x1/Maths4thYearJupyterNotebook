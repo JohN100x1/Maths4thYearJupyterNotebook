{
 "cells": [
  {
   "cell_type": "markdown",
   "metadata": {},
   "source": [
    "# MATH97018, MATH97096: Problem Sheet 2"
   ]
  },
  {
   "cell_type": "markdown",
   "metadata": {},
   "source": [
    "## 1. \n",
    "\n",
    "In the notes, we studied the Michaelis-Menten model for enzyme reaction kinetics.  In doing so, we reduced the original system to the nondimensional system\n",
    "\n",
    "\\begin{align*}\n",
    "\\epsilon\\frac{dv}{d\\tau} &= u - (u + K)v,\\\\\n",
    "\\frac{du}{d\\tau} &= -u + (u + K - \\lambda)v \n",
    "\\end{align*}\n",
    "\n",
    "with initial conditions $u(0) = 1$ and $v(0) = 0$.  We then assumed $\\epsilon << 1$ and invoked the quasi-steady approximation which gave $v = u/(u + K)$ and \n",
    "\n",
    "\\begin{align*}\n",
    "u + K \\log u = 1 - \\lambda \\tau.\n",
    "\\end{align*}\n",
    "\n",
    "We observed, however, that the approximation does not allow us to impose the initial condition on $v$ and does not resolve what is happpening during the initial stages of the reaction.  In this problem, you'll use asymptotic matching of solutions to recover an approximation that is uniformly valid for all times.\n",
    "\n",
    "\\begin{enumerate}\n",
    "\\item Begin by rescaling time such that $\\tau = \\epsilon T$.  This introduces a fast time, $T$, that is $O(1)$ when $\\tau$ remains small, $O(\\epsilon)$. Show that the resulting system is \n",
    "\n",
    "\\begin{align*}\n",
    "\\frac{dV}{dT} &= U - (U + K)V,\\\\\n",
    "\\frac{dU}{dT} &= \\epsilon(-U + \\left(U + K - \\lambda)V\\right).\n",
    "\\end{align*}\n",
    "\n",
    "with initial conditions $U(0) = 1$ and $V(0) = 0$.  \n",
    "\n",
    "\\item Writing the solution as $U(T) = \\sum_{n=0}^\\infty \\epsilon^n U_0(T)$ and $V(T) = \\sum_{n=0}^\\infty \\epsilon^n V_0(T)$, show that \n",
    "\n",
    "\\begin{align*}\n",
    "U_0 &= 1 \\\\\n",
    "V_0 &= \\frac{1}{1 + K}\\left(1 - \\text{e}^{-(1 + K)T}\\right). \n",
    "\\end{align*}\n",
    "\n",
    "\\item Show that this solution matches that found in the notes, namely\n",
    "\n",
    "\\begin{align*}\n",
    "\\lim_{\\tau \\rightarrow 0} u &= \\lim_{T \\rightarrow \\infty} U_0 \\\\\n",
    "\\lim_{\\tau \\rightarrow 0} v &= \\lim_{T \\rightarrow \\infty} V_0.\n",
    "\\end{align*}\n",
    "\n",
    "\\item By considering\n",
    "\n",
    "\\begin{align*}\n",
    "u(\\tau) + U_0(\\tau/\\epsilon) - \\lim_{T \\rightarrow \\infty} U_0 \\\\\n",
    "v(\\tau) + V_0(\\tau/\\epsilon) - \\lim_{T \\rightarrow \\infty} V_0.\n",
    "\\end{align*}\n",
    "\n",
    "Obtain the uniformly valid approximations\n",
    "\n",
    "\\begin{align*}\n",
    "u + K \\log u &= 1 - \\lambda \\tau \\\\\n",
    "v &= \\frac{u}{u+K} - \\frac{1}{1+K}\\text{e}^{-(1 + K)T}.\n",
    "\\end{align*}\n",
    "\n",
    "\\item Using the code below generate and plot numerical solutions, comment on how well the analytical solutions approximate those generated numerically as $\\epsilon$ varies.\n",
    "\\end{enumerate}"
   ]
  },
  {
   "cell_type": "markdown",
   "metadata": {},
   "source": [
    "1.i.\\\n",
    "Let $\\tau=\\epsilon T$, then\n",
    "$$\\frac{dv}{d\\tau}=u-(u+K)v\\quad\\textrm{and}\\quad\\frac{1}{\\epsilon}\\frac{dv}{d\\tau}=-u+(u+K-\\lambda)v$$\n",
    "The rest follows."
   ]
  },
  {
   "cell_type": "markdown",
   "metadata": {},
   "source": [
    "1.ii.\\\n",
    "If $U=\\sum_{n=0}^\\infty\\epsilon^nU_0(T)$ and $V=\\sum_{n=0}^\\infty\\epsilon^nV_0(T)$ then by comparison of co-efficients of $\\epsilon$ then\n",
    "\\begin{align*}\n",
    "\\frac{dV_0}{dT} &=U_0-(U_0+K)V_0 \\\\\n",
    "\\frac{dU_0}{dT} &=0\n",
    "\\end{align*}\n",
    "Since $U(0)=1$ and $V(0)=0$ then solving these ODEs give\n",
    "\\begin{align*}\n",
    "U_0 &= 1 \\\\\n",
    "V_0 &= \\frac{1}{1 + K}\\left(1 - \\text{e}^{-(1 + K)T}\\right)\n",
    "\\end{align*}"
   ]
  },
  {
   "cell_type": "markdown",
   "metadata": {},
   "source": [
    "1.iii. \\\n",
    "The quasi-steady solution is\n",
    "\\begin{align*}\n",
    "u(\\tau) + K\\log{u(\\tau)} &= 1-\\lambda\\tau \\\\\n",
    "v(\\tau) = u(\\tau)/(u(\\tau)+K)\n",
    "\\end{align*}\n",
    "Taking the limit as $\\tau \\rightarrow 0$ gives\n",
    "\n",
    "\\begin{align*}\n",
    "\\lim_{\\tau\\rightarrow 0 }[u(\\tau),v(\\tau)] = \\bigg[1, \\frac{1}{1+K}\\bigg].\n",
    "\\end{align*}\n",
    "\n",
    "Taking the limit as $T \\rightarrow \\infty$ for $U_0(T)$ and $V_0(T)$, we have \n",
    "\\begin{align*}\n",
    "\\lim_{T \\rightarrow \\infty }[U_0(T),V_0(T)] = \\bigg[1, \\frac{1}{1+K}\\bigg],\n",
    "\\end{align*}\n",
    "which matches."
   ]
  },
  {
   "cell_type": "markdown",
   "metadata": {},
   "source": [
    "1.iv. \\\n",
    "Using this limit, we then have\n",
    "\\begin{align*}\n",
    "u(\\tau) + U_0({\\tau/\\epsilon}) - \\lim_{T\\rightarrow \\infty}U_0 &= 1-\\lambda\\tau-K\\log u\n",
    "\\end{align*}\n",
    "and\n",
    "\\begin{align*}\n",
    "v(\\tau) + V_0({\\tau/\\epsilon}) - \\lim_{T\\rightarrow \\infty}V_0 &= \\frac{u}{u+K} - \\frac{1}{1+K}\\text{e}^{-(1+K)\\tau/\\epsilon}\n",
    "\\end{align*}"
   ]
  },
  {
   "cell_type": "markdown",
   "metadata": {},
   "source": [
    "1.v. \\\n",
    "Experimenting with the code, we can confirm that the analytical solution approaches the numerical solution as $\\epsilon \\rightarrow 0$.  The discrepancy appears primarily in $u(\\tau)$ with the numerical solution exhibiting an $O(\\epsilon)$ intial decay that is not present in the analytical solution.\n",
    "\\end{enumerate}"
   ]
  },
  {
   "cell_type": "code",
   "execution_count": 6,
   "metadata": {},
   "outputs": [
    {
     "data": {
      "image/png": "[encoded data removed]",
      "text/plain": [
       "<Figure size 432x288 with 1 Axes>"
      ]
     },
     "metadata": {
      "needs_background": "light"
     },
     "output_type": "display_data"
    }
   ],
   "source": [
    "import matplotlib.pyplot as plt\n",
    "from scipy.integrate import odeint\n",
    "import numpy as np\n",
    "\n",
    "K = 1\n",
    "lmbda = 1\n",
    "\n",
    "def mich_ment(w, t, epsilon, K,lmbda): #w = [u,v] \n",
    "    u, v = w\n",
    "    \n",
    "    dudt = -u+(u+K-lmbda)*v\n",
    "    dvdt = (u-(u+K)*v)/epsilon\n",
    "    dwdt = [dudt, dvdt]\n",
    "    return dwdt\n",
    "\n",
    "def question1(epsilon):\n",
    "    w0 = [1,0]\n",
    "    t = np.linspace(0.0, 1.0, num=100)\n",
    "    \n",
    "    u = np.linspace(0.5, 1.0, num=100)\n",
    "    tau = 1.0 - u - K*np.log(u)\n",
    "    tau = tau/lmbda\n",
    "    T = tau/epsilon\n",
    "    v = u/(u + K) - np.exp(-(1 + K)*T)/(1 + K)\n",
    "    \n",
    "    w2 = odeint(mich_ment,w0,t,args=(epsilon,K,lmbda))\n",
    "    plt.plot(t,w2[:,0],'b--',label=r'$u$ numerical')\n",
    "    plt.plot(t,w2[:,1],'r--',label=r'$v$ numerical')\n",
    "    plt.plot(tau,u,'b-',label=r'$u$ asymptotic')\n",
    "    plt.plot(tau,v,'r-',label=r'$v$ asymptotic')\n",
    "    \n",
    "    plt.xlabel('t')\n",
    "    plt.title('$\\epsilon = '+str(epsilon)+'$')\n",
    "    plt.legend(loc='best')\n",
    "    plt.show()\n",
    "\n",
    "question1(0.1)\n"
   ]
  },
  {
   "cell_type": "markdown",
   "metadata": {},
   "source": [
    "## 2.\n",
    "Haemoglobin, $Hb$, absorbs oxygen, $O_2$, to form an intermediate complex, $HbO_2$.  The complex then reacts with tissue, $T$, to form a product, $P$, releasing the haemoglobin.  The reactions are written \n",
    "\n",
    "\\begin{align*}\n",
    "Hb + O_2 &\\underset{k}{\\stackrel{k}{\\rightleftharpoons}} HbO_2  \\\\\n",
    "HbO_2 + T &\\xrightarrow{k} Hb + P \n",
    "\\end{align*}\n",
    "\n",
    "where the reaction rates are all equal and scaled so that $k = 1$.  \n",
    "\n",
    "The concentrations of $Hb$, $O_2$, $HbO_2$ and $P$ are $e, s, c,$ and $p$, respectively, while the tissue is present in such quantities that its concentration is $1$ for all time. The initial concentrations of $Hb$, $O_2$, $HbO_2$ and $P$ are respectively $e_0, s_0, 0$ and $0$."
   ]
  },
  {
   "cell_type": "markdown",
   "metadata": {},
   "source": [
    "\\begin{enumerate}\n",
    "\\item Use the law of mass action to derive a system of ODE’s describing this reaction. Show that\n",
    "$e(t) + c(t)$ is constant and equal to $e_0$. Use this to reduce the system to a system of two ODE’s\n",
    "for the equations for $s(t$) and the complex, $c(t) = e_0v(t)$ in the form \n",
    "\n",
    "\\begin{align*}\n",
    "\\frac{\\text{d}s}{\\text{d}t} = e_0(v − s(1 − v)), \\\\\n",
    "\\frac{\\text{d}v}{\\text{d}t} = s(1 − v) − 2v.\n",
    "\\end{align*}\n",
    "\n",
    "\\item Explain carefully the Michaelis-Menten quasi-steady approximation, and show that it implies that\n",
    "$s(t)$ is given implicitly by \n",
    "\n",
    "\\begin{align*}\n",
    "s + 2 \\log s = s_0 + 2 \\log s_0 − e_0t .\n",
    "\\end{align*}\n",
    "\n",
    "\\item Deduce that for large times $s \\approx s_0 \\exp\\big[ \\frac{1}{2}(s_0 − e_0t)\\big].$\n",
    "\\item Describe how $v$ changes in the very early stages of the reaction. *Hint: Use the fact that initially, $s = s_0$*\n",
    "\\end{enumerate}"
   ]
  },
  {
   "cell_type": "markdown",
   "metadata": {},
   "source": [
    "2.i.\\\n",
    "By the law of mass action,\\\n",
    "\\begin{align}\n",
    "\\frac{de}{dt}&=-es+2c \\\\\n",
    "\\frac{ds}{dt}&=-es+c \\\\\n",
    "\\frac{dc}{dt}&=es-2c \\\\\n",
    "\\frac{dp}{dt}&=c\n",
    "\\end{align}"
   ]
  },
  {
   "cell_type": "markdown",
   "metadata": {},
   "source": [
    "2.ii.\\\n",
    "Since $\\frac{d(e+c)}{dt}=\\frac{de}{dt}+\\frac{dc}{dt}=0$, then $e+c$ is a constant, with initial value $e(0)+c(0)=e_0+0=e_0$.\n",
    "Since $c(t)=e_0v(t)=e_0-e(t)$, then $e(t)=e_0(1-v(t))$.\n",
    "$$\\frac{ds}{dt}=-e_0(1-v)s+c=e_0(v-s(1-v))$$\n",
    "$$e_0\\frac{dv}{dt}=\\frac{dc}{dt}=e_0(1-v)s-2c=e_0(s(1-v)-2v)$$\n",
    "The rest follows."
   ]
  },
  {
   "cell_type": "markdown",
   "metadata": {},
   "source": [
    "2.iii.\\\n",
    "For the quasi-steady approximation, we assume the initial concentration of Hemoglobin (enzyme) is small relative to the oxygen (substrate). This means $\\epsilon=\\frac{e_0}{s_0}\\ll 1$. Let $\\tau=e_0t$ which gives\n",
    "$$\\frac{ds}{d\\tau}=(v-s(1-v))$$\n",
    "$$e_0\\frac{dv}{d\\tau}=s(1-v)-2v\\quad\\Rightarrow\\epsilon\\frac{dv}{d\\tau}=\\frac{1}{s_0}(s(1-v)-2v)$$\n",
    "Supposing $\\epsilon\\approx 0$, then\n",
    "$$0=\\frac{1}{s_0}(s(1-v)-2v)\\quad\\Rightarrow\\quad v=\\frac{s}{s+2}$$\n",
    "$$\\frac{ds}{d\\tau}=\\frac{s}{s+2}-s\\left(1-\\frac{s}{s+2}\\right)=-\\frac{s}{s+2}$$\n",
    "$$\\int_{s_0}^s 1+\\frac{2}{S}dS=\\int_{0}^\\tau -1 dT$$\n",
    "$$s-s_0+2\\log{s}-2\\log{s_0}=-\\tau$$\n",
    "$$s+2\\log{s}=s_0+2\\log{s_0}-e_0t$$"
   ]
  },
  {
   "cell_type": "markdown",
   "metadata": {},
   "source": [
    "2.iv.\\\n",
    "For large times, $s+2\\log{s}$ is small which means $s+2\\log{s}\\approx 2\\log{s}$. By re-arranging the implicit equation,\n",
    "$$s\\approx s_0\\exp{\\frac{1}{2}(s_0-e_0t)}$$\n",
    "Initially, $v=\\frac{s_0}{s_0+2}\\approx 1$ for large $s_0$. Then as $t$ increases, $v$ changes to $\\frac{s_0\\exp{\\frac{1}{2}(s_0-e_0t)}}{s_0\\exp{\\frac{1}{2}(s_0-e_0t)}+2}$ for large times.\n"
   ]
  },
  {
   "cell_type": "markdown",
   "metadata": {},
   "source": [
    "## 3.\n",
    "Consider the following symbiotic system \n",
    "\n",
    "\\begin{align*}\n",
    "\\frac{\\text{d}N_1}{\\text{d}T} &= r_1N_1 \\bigg(1 - \\frac{N_1}{K_1} + b_{12}\\frac{N_2}{K_1}\\bigg), \\\\\n",
    "\\frac{\\text{d}N_2}{\\text{d}T} &= r_2N_2 \\bigg(1 - \\frac{N_2}{K_2} + b_{21}\\frac{N_1}{K_2}\\bigg),\n",
    "\\end{align*}\n",
    "\n",
    "where $N_i$ denote the population sizes. The parameters $r_i, K_i, b_{ij}$ are positive constants."
   ]
  },
  {
   "cell_type": "markdown",
   "metadata": {},
   "source": [
    "\\begin{enumerate}\n",
    "\n",
    "\\item By introducing a suitable non-dimensionalisation show that the system reduces to\n",
    "\n",
    "\\begin{align*}\n",
    "\\frac{\\text{d}u_1}{\\text{d}t} &= u_1 (1-u_1 + \\alpha_{12}u_2) \\equiv f(u_1, u_2) \\\\\n",
    "\\frac{\\text{d}u_2}{\\text{d}t} &= \\rho u_2 (1-u_2+\\alpha_{21}u_1) \\equiv g(u_1,u_2)\n",
    "\\end{align*}\n",
    "\n",
    "where $\\rho = r_2/r_1,\\, \\alpha_{12} = b_{12}K_2/K_1,\\, \\alpha_{21}=b_{21}K_1/K_2$.\n",
    "\n",
    "\\item Find all four steady states and show that three of them are always unstable.\n",
    "\\item Show that unbounded growth can occur when $\\alpha_{12}\\alpha_{21} > 1$ and a stable mutualistic fixed point\n",
    "occurs when $\\alpha_{12}\\alpha_{21} < 1$.\n",
    "\\end{enumerate}"
   ]
  },
  {
   "cell_type": "markdown",
   "metadata": {},
   "source": [
    "3.i.\\\n",
    "Let $N_1=K_1u_1$, $N_2=K_2u_2$, and $T=\\frac{t}{r_1}$. Then\n",
    "\\begin{align*}\n",
    "r_1K_1\\frac{\\text{d}u_1}{\\text{d}t} &= r_1K_1u_1 \\bigg(1 - u_1 + \\alpha_{12}u_2\\bigg) \\\\\n",
    "r_1K_2\\frac{\\text{d}N_2}{\\text{d}T} &= r_2K_2u_2 \\bigg(1 - u_2 + \\alpha_{21}u_1\\bigg)\n",
    "\\end{align*}\n",
    "Dividing both equations appropriately gives\n",
    "\\begin{align*}\n",
    "\\frac{\\text{d}u_1}{\\text{d}t} &= u_1 \\bigg(1 - u_1 + \\alpha_{12}u_2\\bigg) \\\\\n",
    "\\frac{\\text{d}u_2}{\\text{d}t} &= \\rho u_2 \\bigg(1 - u_2 + \\alpha_{21}u_1\\bigg)\n",
    "\\end{align*}"
   ]
  },
  {
   "cell_type": "markdown",
   "metadata": {},
   "source": [
    "3.ii.\\\n",
    "Let $f=g=0$. Then steady states are\n",
    "\\begin{align*}\n",
    "u^*_1&=(0,0) \\\\\n",
    "u^*_2&=(0,1 + \\alpha_{21}u_1)=(0,1) \\\\\n",
    "u^*_3&=(1 + \\alpha_{12}u_2,0)=(1,0) \\\\\n",
    "u^*_4&=(1 + \\alpha_{12}u_2,1 + \\alpha_{21}u_1)=\\left(\\frac{1+\\alpha_{12}}{1-\\alpha_{12}\\alpha_{21}},\\frac{1+\\alpha_{21}}{1-\\alpha_{12}\\alpha_{21}}\\right)\n",
    "\\end{align*}\n",
    "The Jacobian is\n",
    "$$J(u_1,u_2)=\n",
    "\\begin{bmatrix}\n",
    "1-2u_1+\\alpha_{12}u_2 & \\alpha_{12}u_1 \\\\\n",
    "\\rho\\alpha_{21}u_2 & \\rho-2\\rho u_2+\\rho\\alpha_{21}u_1 \n",
    "\\end{bmatrix}\n",
    "$$\n",
    "For $u^*_1$, the Jacobian is\n",
    "$$J(0,0)=\n",
    "\\begin{bmatrix}\n",
    "1 & 0 \\\\\n",
    "0 & \\rho\n",
    "\\end{bmatrix}\n",
    "$$\n",
    "The eigenvalues are $\\lambda\\in\\{1,\\rho\\}\\subset\\mathbb{R}^{+}$, so $u^*_1$ is unstable.\n",
    "\n",
    "For $u^*_2$, the Jacobian is\n",
    "$$J(0,1)=\n",
    "\\begin{bmatrix}\n",
    "1+\\alpha_{12} & 0 \\\\\n",
    "\\rho\\alpha_{21} & -\\rho\n",
    "\\end{bmatrix}\n",
    "$$\n",
    "The eigenvalues are $\\lambda\\in\\{1+\\alpha_{12},-\\rho\\}$. Since $1+\\alpha_{12}>0$, $u^*_2$ is unstable.\n",
    "\n",
    "For $u^*_3$, the Jacobian is\n",
    "$$J(1,0)=\n",
    "\\begin{bmatrix}\n",
    "-1 & \\alpha_{12} \\\\\n",
    "0 & \\rho+\\rho\\alpha_{21}\n",
    "\\end{bmatrix}\n",
    "$$\n",
    "The eigenvalues are $\\lambda\\in\\{-1,\\rho+\\rho\\alpha_{21}\\}$. Since $\\rho+\\rho\\alpha_{21}>0$, $u^*_3$ is unstable.\\\n",
    "Hence $u^*_1$, $u^*_2$, $u^*_3$ are always unstable.\n",
    "\n",
    "For $u^*_4$, the Jacobian is\n",
    "$$J\\left(\\frac{1+\\alpha_{12}}{1-\\alpha_{12}\\alpha_{21}},\\frac{1+\\alpha_{21}}{1-\\alpha_{12}\\alpha_{21}}\\right)=\n",
    "\\begin{bmatrix}\n",
    "-\\frac{(1+\\alpha_{12})}{1-\\alpha_{12}\\alpha_{21}} & \\alpha_{12}\\frac{1+\\alpha_{12}}{1-\\alpha_{12}\\alpha_{21}} \\\\\n",
    "\\rho\\alpha_{21}\\frac{1+\\alpha_{21}}{1-\\alpha_{12}\\alpha_{21}} & -\\frac{\\rho(1+\\alpha_{21})}{1-\\alpha_{12}\\alpha_{21}}\n",
    "\\end{bmatrix}\n",
    "$$\n",
    "The eigenvalues are given by\n",
    "$$\n",
    "\\left(-\\frac{(1+\\alpha_{12})}{1-\\alpha_{12}\\alpha_{21}}-\\lambda\\right)\\left(-\\frac{\\rho(1+\\alpha_{21})}{1-\\alpha_{12}\\alpha_{21}}-\\lambda\\right)-\\frac{\\rho\\alpha_{12}\\alpha_{21}(1+\\alpha_{12})(1+\\alpha_{21})}{(1-\\alpha_{12}\\alpha_{21})^2}=0\n",
    "$$\n",
    "$$\n",
    "\\lambda^2\n",
    "+\\frac{(1+\\alpha_{12})+\\rho(1+\\alpha_{21})}{1-\\alpha_{12}\\alpha_{21}}\\lambda\n",
    "+\\frac{\\rho(1+\\alpha_{12})(1+\\alpha_{21})}{1-\\alpha_{12}\\alpha_{21}}=0\n",
    "$$\n",
    "$$\n",
    "\\lambda_{\\pm}=\\frac{-\\frac{(1+\\alpha_{12})+\\rho(1+\\alpha_{21})}{1-\\alpha_{12}\\alpha_{21}}\\pm\\sqrt{\\left(\\frac{(1+\\alpha_{12})+\\rho(1+\\alpha_{21})}{1-\\alpha_{12}\\alpha_{21}}\\right)^2-\\frac{4\\rho(1+\\alpha_{12})(1+\\alpha_{21})}{1-\\alpha_{12}\\alpha_{21}}}}{2}\n",
    "$$\n",
    "So the point is stable if $-\\frac{(1+\\alpha_{12})+\\rho(1+\\alpha_{21})}{1-\\alpha_{12}\\alpha_{21}}<0\\Leftrightarrow\\frac{1}{1-\\alpha_{12}\\alpha_{21}}>0\\Leftrightarrow \\alpha_{12}\\alpha_{21}<1$.\\\n",
    "Otherwise unbounded growth occurs and $u^*_4$ is unstable."
   ]
  },
  {
   "cell_type": "markdown",
   "metadata": {},
   "source": [
    "## 4.\n",
    "Consider the general model of the predator prey system\n",
    "\n",
    "\\begin{align*}\n",
    "\\frac{\\text{d}N}{\\text{d}t} &= \\rho N\\bigg( 1-\\frac{N}{K} \\bigg) - \\gamma P f(N), \\\\\n",
    "\\frac{\\text{d}P}{\\text{d}t} &= P(\\sigma f(N) - \\eta)\n",
    "\\end{align*}\n",
    "\n",
    "where $N(t)$ are the number of prey and $P(t)$ the number of predators, which we assume to vary\n",
    "continuously in time. The parameters $K, \\rho, \\gamma, \\sigma, \\eta$ are positive constants. Let\n",
    "\n",
    "\\begin{align*}\n",
    "f(N) = \\frac{N}{N+D}.\n",
    "\\end{align*}"
   ]
  },
  {
   "cell_type": "markdown",
   "metadata": {},
   "source": [
    "\\begin{enumerate}\n",
    "\n",
    "\\item What assumptions are made on the per-predator rate of predation, $\\gamma f(N)$, when choosing $f(N)$\n",
    "as above? Hint: Consider the behaviour of $\\gamma f(N)$ for large and small values of $N$.\n",
    "\n",
    "\\item Show that non-dimensionalisation of the form $\\tau= \\rho t$, $u = N/K$, $v = P \\gamma/(\\rho K)$ produces the\n",
    "system\n",
    "\n",
    "\\begin{align}\n",
    "\\frac{\\text{d}u}{\\text{d}\\tau} &= u(1-u) - \\frac{uv}{u+\\delta} \\nonumber \\\\\n",
    "\\frac{\\text{d}v}{\\text{d}\\tau} &= v \\bigg( \\lambda \\frac{u}{u+\\delta} - \\mu \\bigg) \n",
    "\\label{eq:predprey}\n",
    "\\end{align}\n",
    "\n",
    "and state the values of the positive parameters $\\lambda, \\delta, \\mu$.\n",
    "\n",
    "\n",
    "\\item Assuming that $u \\geq 0$ and $v \\geq 0$, show that $(u, v) = (0, 0)$ and $(u, v) = (1, 0)$ are always steady\n",
    "states of \\eqref{eq:predprey}. Show also that if $\\lambda > \\mu$ and $\\lambda > \\mu(1 + \\delta)$ then there is an additional steady state\n",
    "\n",
    "\\begin{align*}\n",
    "(u^*, v^*) = \\bigg( \\frac{\\mu \\delta}{\\lambda - \\mu} \\,, \\frac{\\lambda \\delta}{(\\lambda - \\mu)^2} (\\lambda - \\mu(1+\\delta)) \\bigg).\n",
    "\\end{align*}\n",
    "\n",
    "\n",
    "\\item Show that if $(u^∗, v^∗)$ is a steady state then the other two fixed points are unstable.\n",
    "\n",
    "\n",
    "\\item Show that at $(u^∗, v^∗)$, the Jacobian matrix of the system is\n",
    "\n",
    "\\begin{align*}\n",
    "J = \\begin{pmatrix}\n",
    "1 - 2u^* - \\delta \\frac{(1-u^*)}{u^*+\\delta} & \\frac{-u^*}{u^* + \\delta}\\\\\n",
    "\\delta \\lambda \\frac{(1-u^*)}{u^*+\\delta} & 0\n",
    "\\end{pmatrix}\n",
    "\\end{align*}\n",
    "\n",
    "and that $(u^∗, v^∗)$ is stable if $(1 + \\delta)\\mu > \\lambda(1−\\delta)$. \n",
    "\n",
    "Hint: When calculating the Jacobian you may find it useful to recall the equation satisfied by $u^∗$ and also write $v^∗$ in terms of $u^∗$.\n",
    "\\end{enumerate}"
   ]
  },
  {
   "cell_type": "markdown",
   "metadata": {},
   "source": [
    "4.i.\\\n",
    "For large values of $N$, $\\frac{\\gamma N}{N+D}\\rightarrow \\gamma$.\n",
    "For small values of $N$, $\\frac{\\gamma N}{N+D}\\rightarrow 0$. So the assumption for the per-predation rate is that for small populations of prey, the predation rate is low, increasing up to $\\gamma$ when the population of prey is high."
   ]
  },
  {
   "cell_type": "markdown",
   "metadata": {},
   "source": [
    "4.ii.\\\n",
    "Since $t=\\frac{\\tau}{\\rho}$, $N=Ku$, and $P=\\frac{\\rho Kv}{\\gamma}$, then\n",
    "\\begin{align*}\n",
    "\\rho K\\frac{du}{d\\tau} &= \\rho Ku(1-u)-\\rho Kv\\frac{Ku}{Ku+D} \\\\\n",
    "\\frac{\\rho^2 K}{\\gamma}\\frac{dv}{d\\tau} &= \\frac{\\rho Kv}{\\gamma}\\left(\\sigma\\frac{Ku}{Ku+D}-\\eta\\right)\n",
    "\\end{align*}"
   ]
  },
  {
   "cell_type": "markdown",
   "metadata": {},
   "source": [
    "This gives\n",
    "\\begin{align*}\n",
    "\\frac{du}{d\\tau} &= u(1-u)-\\frac{uv}{u+\\delta} \\\\\n",
    "\\frac{dv}{d\\tau} &= v\\left(\\lambda\\frac{u}{u+\\delta}-\\mu\\right)\n",
    "\\end{align*}\n",
    "Where $\\delta=\\frac{D}{K}$, $\\lambda=\\frac{\\sigma}{\\rho}$, and $\\mu=\\frac{\\eta}{\\rho}$."
   ]
  },
  {
   "cell_type": "markdown",
   "metadata": {},
   "source": [
    "4.iii.\\\n",
    "The nullclines are\n",
    "\\begin{align*}\n",
    "u\\left(1-u-\\frac{v}{u+\\delta}\\right)=0 \\\\\n",
    "v\\left(\\lambda\\frac{u}{u+\\delta}-\\mu\\right)=0\n",
    "\\end{align*}\n",
    "$(u,v)=(0,0)$ and $(u,v)=(1,0)$ statisfy both nullclines, and hence they are steady states."
   ]
  },
  {
   "cell_type": "markdown",
   "metadata": {},
   "source": [
    "For $\\lambda > \\mu$ and $\\lambda > \\mu(1 + \\delta)$,\n",
    "\\begin{align*}\n",
    "v&=(1-u)(u+\\delta) \\\\\n",
    "\\lambda u&=\\mu(u+\\delta) \\\\\n",
    "\\end{align*}\n",
    "This gives the steady state\n",
    "\\begin{align*}\n",
    "u&=\\frac{\\mu\\delta}{\\lambda-\\mu}>0 \\\\\n",
    "v&=\\frac{\\lambda\\delta(\\lambda-\\mu(1+\\delta))}{(\\lambda-\\mu)^2}>0\n",
    "\\end{align*}"
   ]
  },
  {
   "cell_type": "markdown",
   "metadata": {},
   "source": [
    "The Jacobian is\n",
    "$$\n",
    "J(u,v)=\n",
    "\\begin{bmatrix}\n",
    "1-2u-\\frac{v}{u+\\delta}+\\frac{uv}{(u+v)^2} & -\\frac{u}{u+\\delta} \\\\\n",
    "\\frac{\\lambda v}{u+\\delta}-\\frac{\\lambda uv}{(u+\\delta)^2} & \\lambda\\frac{u}{u+\\delta}-\\mu\n",
    "\\end{bmatrix}\n",
    "$$"
   ]
  },
  {
   "cell_type": "markdown",
   "metadata": {},
   "source": [
    "For (0,0),\n",
    "$$\n",
    "J(0,0)=\n",
    "\\begin{bmatrix}\n",
    "1 & 0 \\\\\n",
    "0 & -\\mu\n",
    "\\end{bmatrix}\n",
    "$$\n",
    "The eigenvalues are $1$ and $-\\mu$, and since $1>0$ then $(0,0)$ is unstable."
   ]
  },
  {
   "cell_type": "markdown",
   "metadata": {},
   "source": [
    "For (1,0),\n",
    "$$\n",
    "J(1,0)=\n",
    "\\begin{bmatrix}\n",
    "-1 & -\\frac{1}{1+\\delta} \\\\\n",
    "0 & \\frac{\\lambda}{1+\\delta}-\\mu\n",
    "\\end{bmatrix}\n",
    "$$\n",
    "The eigenvalues are $-1$ and $\\frac{\\lambda}{1+\\delta}-\\mu$, and since $\\frac{\\lambda}{1+\\delta}-\\mu>0$ then $(1,0)$ is unstable."
   ]
  },
  {
   "cell_type": "markdown",
   "metadata": {},
   "source": [
    "For $\\left(\\frac{\\mu\\delta}{\\lambda-\\mu},\\frac{\\lambda\\delta(\\lambda-\\mu(1+\\delta))}{(\\lambda-\\mu)^2}\\right)$,\n",
    "$$\n",
    "J\\left(\\frac{\\mu\\delta}{\\lambda-\\mu},\\frac{\\lambda\\delta(\\lambda-\\mu(1+\\delta))}{(\\lambda-\\mu)^2}\\right)=\n",
    "\\begin{bmatrix}\n",
    "1 - 2u^* - \\delta \\frac{(1-u^*)}{u^*+\\delta} & \\frac{-u^*}{u^* + \\delta}\\\\\n",
    "\\delta \\lambda \\frac{(1-u^*)}{u^*+\\delta} & 0\n",
    "\\end{bmatrix}\n",
    "$$\n",
    "Since $v^*=(1-u^*)(u^*+\\delta)$ and $\\lambda\\frac{u^*}{u^*+\\delta}-\\mu=0$."
   ]
  },
  {
   "cell_type": "markdown",
   "metadata": {},
   "source": [
    "The eigenvalues are given by the roots of $x$, where\n",
    "$$\n",
    "-x\\left(1 - 2u^* - \\delta \\frac{(1-u^*)}{u^*+\\delta}-x\\right)-\\frac{-u^*}{u^* + \\delta}\\delta \\lambda \\frac{(1-u^*)}{u^*+\\delta}=0\n",
    "$$"
   ]
  },
  {
   "cell_type": "markdown",
   "metadata": {},
   "source": [
    "$$\n",
    "x^2-\\left(1 - 2u^* - \\delta \\frac{(1-u^*)}{u^*+\\delta}\\right)x+\\frac{\\lambda\\delta u^*(1-u^*)}{(u^*+\\delta)^2}=0\n",
    "$$"
   ]
  },
  {
   "cell_type": "markdown",
   "metadata": {},
   "source": [
    "The point is stable if\n",
    "$$\n",
    "1 - 2u^* - \\delta \\frac{(1-u^*)}{u^*+\\delta}<0\n",
    "$$\n",
    "This simplifies to\n",
    "$$\n",
    "\\frac{\\mu\\left(\\lambda\\left(1-\\delta\\right)-\\mu\\left(1+\\delta\\right)\\right)}{\\lambda\\left(\\lambda-\\mu\\right)}<0\n",
    "$$\n",
    "As $\\lambda, \\mu, \\lambda-\\mu >0$, then we need\n",
    "$$\n",
    "\\lambda\\left(1-\\delta\\right)-\\mu\\left(1+\\delta\\right)<0\n",
    "$$\n",
    "Which happens if\n",
    "$$\n",
    "\\lambda\\left(1-\\delta\\right)<\\mu\\left(1+\\delta\\right)\n",
    "$$"
   ]
  },
  {
   "cell_type": "markdown",
   "metadata": {},
   "source": [
    "## 5.\n",
    "Consider the criss-cross venereal infection model for a heterosexual population \n",
    "\n",
    "\\begin{align*}\n",
    "\\frac{dS}{dt} &= -r SI', \\\\\n",
    "\\frac{dI}{dt} &= rSI'-aI, \\\\\n",
    "\\frac{dR}{dt} &= aI, \\\\\n",
    "\\frac{dS'}{dt} &= -r'S'I',\\\\\n",
    "\\frac{dI'}{dt} &= r'S'I - a'I',\\\\\n",
    "\\frac{dR'}{dt} &= a'I',\n",
    "\\end{align*}\n",
    "\n",
    "where $S$, $I$ and $R$ are, respectively, the susceptibles, infectives and the removed class for the male population, while $S'$, $I'$ and $R'$ are, respectively, the susceptibles, infectives and the removed class for the female population. All parameters are positive constants and the initial values for $S, I, R, S', I',$ and $R'$ are $S_0, I_0, 0, S'_0,I'_0,$ and $0$, respectively."
   ]
  },
  {
   "cell_type": "markdown",
   "metadata": {},
   "source": [
    "\\begin{enumerate}\n",
    "\\item Show that the female and male populations are constant and hence show that $S(t) = S_0 \\exp [-r R' / a']$\n",
    "\\item Deduce that $S(\\infty)>0$ and $I(\\infty) = 0$ with similar results for $S'$ and $I'$. \n",
    "\\item Show that the threshold condition for an epidemic ($dI/dt > 0, dI'/dt > 0$ at $t = 0$) to occur is at least one of\n",
    "\n",
    "\\begin{align*}\n",
    "\\frac{S_0 I'_0}{I_0} &> \\frac{a}{r} \\\\\n",
    "\\frac{S'_0 I_0}{I'_0} &> \\frac{a'}{r'} \n",
    "\\end{align*}\n",
    "\n",
    "\\end{enumerate}"
   ]
  },
  {
   "cell_type": "markdown",
   "metadata": {},
   "source": [
    "5.i.\\\n",
    "\\begin{align*}\n",
    "\\frac{\\text{d}(S+I+R)}{\\text{d}t} &= 0 \\\\\n",
    "\\frac{\\text{d}(S'+I'+R')}{\\text{d}t} &= 0\n",
    "\\end{align*}\n",
    "Which means that $S+I+R$ and $S'+I'+R'$ are constants and equal to their initial values $S_0+I_0$ and $S'_0+I'_0$ respectively."
   ]
  },
  {
   "cell_type": "markdown",
   "metadata": {},
   "source": [
    "5.ii.\\\n",
    "$$\\frac{dS}{dt}=-rS(S'_0+I'_0-S'-R')$$\n",
    "$$\\frac{dR'}{dt}=a'(S'_0+I'_0-S'-R')$$\n",
    "Therefore,\n",
    "$$\\frac{dS}{dR'}=-\\frac{rS}{a'}$$\n",
    "$$\\int_{S_0}^S\\frac{1}{S}dS=\\int_{0}^{R'}-\\frac{r}{a'}dR'$$\n",
    "$$\\log{\\frac{S}{S_0}}=-\\frac{rR'}{a'}$$\n",
    "$$S=S_0\\exp{\\left(-\\frac{rR'}{a'}\\right)}$$"
   ]
  },
  {
   "cell_type": "markdown",
   "metadata": {},
   "source": [
    "5.iii.\\\n",
    "$$S(\\infty)=S_0\\exp{\\left(-\\frac{rR'(\\infty)}{a'}\\right)}$$\n",
    "But since $R'(t)$ is bounded by $S'_0+I'_0$ for all $t$ then $R'(\\infty)$ is some positive finite value so that $S(\\infty)>0$. \\\n",
    "Since the limit $\\lim_{t\\rightarrow\\infty}R'(t)=R'(\\infty)$ exists and $\\lim_{t\\rightarrow\\infty}\\frac{dR'}{dt}=\\frac{dR'}{dt}(\\infty)=a'I'(\\infty)$ exists so $\\frac{dR'}{dt}(\\infty)=a'I'(\\infty)=0$ so $I'(\\infty)=0$.\n",
    "By similar reasoning, $S'(\\infty)>0$ and $I(\\infty)=0$."
   ]
  },
  {
   "cell_type": "markdown",
   "metadata": {},
   "source": [
    "5.iv.\\\n",
    "$$\\frac{dI}{dt}(0)=rS_0I'_0-aI_0>0\\quad\\Rightarrow\\quad\\frac{S_0 I'_0}{I_0} > \\frac{a}{r}$$\n",
    "$$\\frac{dI'}{dt}(0)=rS'_0I_0-a'I'_0>0\\quad\\Rightarrow\\quad\\frac{S'_0 I_0}{I'_0} > \\frac{a'}{r'}$$"
   ]
  },
  {
   "cell_type": "code",
   "execution_count": null,
   "metadata": {},
   "outputs": [],
   "source": []
  },
  {
   "cell_type": "code",
   "execution_count": null,
   "metadata": {},
   "outputs": [],
   "source": []
  }
 ],
 "metadata": {
  "kernelspec": {
   "display_name": "Python 3",
   "language": "python",
   "name": "python3"
  },
  "language_info": {
   "codemirror_mode": {
    "name": "ipython",
    "version": 3
   },
   "file_extension": ".py",
   "mimetype": "text/x-python",
   "name": "python",
   "nbconvert_exporter": "python",
   "pygments_lexer": "ipython3",
   "version": "3.8.3"
  },
  "latex_envs": {
   "LaTeX_envs_menu_present": true,
   "autoclose": false,
   "autocomplete": true,
   "bibliofile": "biblio.bib",
   "cite_by": "apalike",
   "current_citInitial": 1,
   "eqLabelWithNumbers": true,
   "eqNumInitial": 1,
   "hotkeys": {
    "equation": "Ctrl-E",
    "itemize": "Ctrl-I"
   },
   "labels_anchors": false,
   "latex_user_defs": false,
   "report_style_numbering": false,
   "user_envs_cfg": false
  },
  "toc": {
   "base_numbering": 1,
   "nav_menu": {},
   "number_sections": true,
   "sideBar": true,
   "skip_h1_title": false,
   "title_cell": "Table of Contents",
   "title_sidebar": "Contents",
   "toc_cell": false,
   "toc_position": {},
   "toc_section_display": true,
   "toc_window_display": false
  }
 },
 "nbformat": 4,
 "nbformat_minor": 4
}
