{
 "cells": [
  {
   "cell_type": "markdown",
   "metadata": {},
   "source": [
    "# 1. Mean and variance of the Poisson process\n",
    "\n",
    "Starting from its generating function,\n",
    "\n",
    "\\begin{align*}\n",
    "\\mathcal{P}(z,t) = e^{\\lambda (z - 1) t}\n",
    "\\end{align*}\n",
    "\n",
    "compute the mean and variance for a Poisson process."
   ]
  },
  {
   "cell_type": "markdown",
   "metadata": {},
   "source": [
    "1. The mean and variance are given by\n",
    "\\begin{align*}\n",
    "m(t)&=\\frac{\\partial}{\\partial z}\\mathcal{P}(z,t)\\Bigr|_{z=1}=\\lambda t \\\\\n",
    "\\sigma^2(t)&=\\frac{\\partial^2}{\\partial z^2}\\mathcal{P}(z,t)\\Bigr|_{z=1}+\\frac{\\partial}{\\partial z}\\mathcal{P}(z,t)\\Bigr|_{z=1}-\\left(\\frac{\\partial}{\\partial z}\\mathcal{P}(z,t)\\Bigr|_{z=1}\\right)^2=\\left(\\lambda t\\right)^2+\\lambda t-\\left(\\lambda t\\right)^2=\\lambda t\n",
    "\\end{align*}"
   ]
  },
  {
   "cell_type": "markdown",
   "metadata": {},
   "source": [
    "# 2. Variance of the simple birth process\n",
    "\n",
    "Consider the simple birth process with transition probabilities,\n",
    "\n",
    "\\begin{align*}\n",
    "p_{i+j,i}(\\Delta t) &= \\text{Prob}\\left\\{X(t + \\Delta t) = i+j | X(t) = i \\right\\} \\\\\n",
    "& = \\left\\{\n",
    "\\begin{array}{ll}\n",
    "\\lambda i \\Delta t + o(\\Delta t), & j = 1 \\\\\n",
    "1 - \\lambda i \\Delta t + o(\\Delta t), & j = 0 \\\\\n",
    "o(\\Delta t), & j \\geq 2 \\\\\n",
    "0, & j < 0.\n",
    "\\end{array}\\right.\n",
    "\\end{align*}\n",
    "\n",
    "Use the forward Kolmogorov differential equation,\n",
    "\n",
    "\\begin{align*}\n",
    "\\frac{d p_{Nj}}{dt} &= - \\lambda N p_{Nj}, \\\\ \n",
    "\\frac{d p_{ij}}{dt} &= \\lambda (i - 1) p_{i-1,j} - \\lambda i p_{ij}, \\text{   } i \\geq N + 1,\n",
    "\\end{align*}\n",
    "\n",
    "to compute the variance of the process.\n"
   ]
  },
  {
   "cell_type": "markdown",
   "metadata": {},
   "source": [
    "2. From lecture notes, the mean is $m(t)=Ne^{\\lambda t}$. Also,\n",
    "\\begin{align*}\n",
    "\\sum_{i=N}^\\infty i^2\\frac{dp_{ij}}{dt}&=\\lambda\\sum_{i=N+1}^\\infty i^2(i-1)p_{i-1,j}-\\lambda\\sum_{i=N}^\\infty i^3p_{i,j} \\\\\n",
    "&=\\lambda\\sum_{i=N}^\\infty i(i+1)^2p_{i,j}-\\lambda\\sum_{i=N}^\\infty i^3p_{i,j} \\\\\n",
    "&=\\lambda\\sum_{i=N}^\\infty (2i^2+i)p_{i,j} \\\\\n",
    "\\frac{d}{dt}\\sum_{i=N}^\\infty i^2p_{i,j}&=2\\lambda\\sum_{i=N}^\\infty i^2p_{i,j} + \\lambda\\sum_{i=N}^\\infty ip_{i,j} \\\\\n",
    "\\end{align*}\n",
    "Therefore let $\\gamma(t)=\\sum_{i=N}^\\infty i^2p_{i,j}$ then\n",
    "\\begin{align*}\n",
    "\\frac{d}{dt}\\left(\\gamma(t)\\right)&=2\\lambda\\gamma(t) + \\lambda Ne^{\\lambda t} \\\\\n",
    "\\frac{d}{dt}\\left(\\gamma(t)\\right)-2\\lambda\\gamma(t)&=  \\lambda Ne^{\\lambda t} \\\\\n",
    "e^{-2\\lambda t}\\frac{d}{dt}\\left(\\gamma(t)\\right)-2\\lambda e^{-2\\lambda t}\\gamma(t)&=  \\lambda Ne^{-\\lambda t} \\\\\n",
    "\\frac{d}{dt}\\left(e^{-2\\lambda t}\\gamma(t)\\right)&=  \\lambda Ne^{-\\lambda t} \\\\\n",
    "\\gamma(t)&=-Ne^{\\lambda t}+Ce^{2\\lambda t}\n",
    "\\end{align*}\n",
    "Therefore $\\sigma^2(t)=-Ne^{\\lambda t}+Ce^{2\\lambda t}-N^2e^{2\\lambda t}$. For $t=0$, $\\sigma^2(0)=0$, so $C=N^2+N$. Therefore $\\sigma^2(t)=Ne^{\\lambda t}(e^{\\lambda t}-1)$."
   ]
  },
  {
   "cell_type": "markdown",
   "metadata": {},
   "source": [
    "# 3. Simple death process\n",
    "\n",
    "The transition probabilities for a simple death process are \n",
    "\n",
    "\\begin{align*}\n",
    "p_{i+j,i}(\\Delta t) &= \\text{Prob}\\left\\{X(t + \\Delta t) = i+j | X(t) = i \\right\\} \\\\\n",
    "& = \\left\\{\n",
    "\\begin{array}{ll}\n",
    "\\mu i \\Delta t + o(\\Delta t), & j = -1 \\\\\n",
    "1 - \\mu i \\Delta t + o(\\Delta t), & j = 0 \\\\\n",
    "o(\\Delta t), & j \\leq -2 \\\\\n",
    "0, & j > 0.\n",
    "\\end{array}\\right.\n",
    "\\end{align*}\n",
    "\n",
    "and that $X(0) = N$.\n",
    "\n",
    "\\begin{enumerate}\n",
    "\n",
    "\\item Beginning with the forward Kolmogorov differential equation, derive the equation, \n",
    "\n",
    "\\begin{align*}\n",
    "\\frac{\\partial \\mathcal{P}}{\\partial t} = \\mu(1 - z)\\frac{\\partial \\mathcal{P}}{\\partial z}\n",
    "\\end{align*}\n",
    "\n",
    "for the generating function, $\\mathcal{P}(z,t)$. \n",
    "\\item Use the method of characteristics with the correct initial condition to find that \n",
    "\n",
    "\\begin{align*}\n",
    "\\mathcal{P}(z,t) = \\left(1 - e^{-\\mu t}(1 - z)\\right)^N\n",
    "\\end{align*}\n",
    "\n",
    "\\item Finally, compute the mean and variance for the process.\n",
    "\\end{enumerate}"
   ]
  },
  {
   "cell_type": "markdown",
   "metadata": {},
   "source": [
    "3.i. Firstly\n",
    "\\begin{align*}\n",
    "p_i(t+\\Delta t)&=\\mu (i+1)\\Delta tp_{i+1}(t)+(1-\\mu i\\Delta t)p_i(t)+o(\\Delta t) \\\\\n",
    "p_i(t+\\Delta t)-p_i(t)&=\\mu (i+1)\\Delta tp_{i+1}(t)-\\mu i\\Delta tp_i(t)+o(\\Delta t) \\\\\n",
    "\\frac{p_i(t+\\Delta t)-p_i(t)}{\\Delta t}&=\\mu (i+1) p_{i+1}(t)-\\mu i p_i(t)+\\frac{o(\\Delta t)}{\\Delta t} \\\\\n",
    "\\lim_{\\Delta t\\rightarrow 0 }\\frac{p_i(t+\\Delta t)-p_i(t)}{\\Delta t}&=\\mu (i+1) p_{i+1}(t)-\\mu i p_i(t) \\\\\n",
    "\\frac{dp_i}{dt}&=\\mu (i+1) p_{i+1}(t)-\\mu i p_i(t)\\quad\\textrm{for }0\\leq i\\leq N-1\n",
    "\\end{align*}\n",
    "And $\\frac{dp_N}{dt}=-\\mu N p_N(t)$. Therefore\n",
    "\\begin{align*}\n",
    "\\sum_{i}\\frac{dp_i}{dt}z^i&=\\sum_{i}\\mu (i+1) p_{i+1}(t)z^i-\\sum_{i}\\mu i p_i(t)z^i \\\\\n",
    "\\frac{\\partial}{\\partial t}\\sum_{i}p_iz^i&=\\mu\\sum_{i}(i+1) p_{i+1}(t)z^i-\\mu\\sum_{i}i p_i(t)z^i \\\\\n",
    "&=\\mu\\sum_{i}i p_{i}(t)z^{i-1}-z\\mu\\sum_{i}i p_i(t)z^{i-1} \\\\\n",
    "&=\\mu\\frac{\\partial}{\\partial z}\\sum_{i}p_{i}(t)z^i-z\\mu\\frac{\\partial}{\\partial z}\\sum_{i}p_i(t)z^i \\\\\n",
    "\\end{align*}\n",
    "Therefore since $\\mathcal{P}(z,t)=\\sum_{i}p_iz^i$ then\n",
    "\\begin{align*}\n",
    "\\frac{\\partial \\mathcal{P}}{\\partial t} = \\mu(1 - z)\\frac{\\partial \\mathcal{P}}{\\partial z}\n",
    "\\end{align*}"
   ]
  },
  {
   "cell_type": "markdown",
   "metadata": {},
   "source": [
    "3.ii. By the method of characteristics, $\\frac{d\\mathcal{P}}{d\\tau}=\\frac{\\partial P}{\\partial t}\\frac{d t}{d\\tau}+\\frac{\\partial P}{\\partial z}\\frac{d z}{d\\tau}=0$ where $\\frac{d t}{d\\tau}=1$ and $\\frac{d z}{d\\tau}=\\mu(z-1)$. This gives\n",
    "\\begin{align*}\n",
    "\\mathcal{P}&=c_1 \\\\\n",
    "t&=\\tau+c_2 \\\\\n",
    "z&=1+c_3e^{\\mu\\tau}\n",
    "\\end{align*}\n",
    "For $t=0$, we have $\\tau=0$, $\\mathcal{P}(s,0)=s^N=c_1$ and $s=1+c_3$. Therefore\n",
    "\\begin{align*}\n",
    "s=1+c_3&=1+e^{-\\mu t}(z-1) \\\\\n",
    "\\mathcal{P}(z,t)&=\\left(1+e^{-\\mu t}(z-1)\\right)^N\n",
    "\\end{align*}"
   ]
  },
  {
   "cell_type": "markdown",
   "metadata": {},
   "source": [
    "3.iii. The mean and variance are given by\n",
    "\\begin{align*}\n",
    "m(t)&=\\frac{\\partial}{\\partial z}\\mathcal{P}(z,t)\\Bigr|_{z=1}=Ne^{-\\mu t} \\\\\n",
    "\\sigma^2(t)&=\\frac{\\partial^2}{\\partial z^2}\\mathcal{P}(z,t)\\Bigr|_{z=1}+\\frac{\\partial}{\\partial z}\\mathcal{P}(z,t)\\Bigr|_{z=1}-\\left(\\frac{\\partial}{\\partial z}\\mathcal{P}(z,t)\\Bigr|_{z=1}\\right)^2=N(N-1)e^{-2\\mu t}+Ne^{-\\mu t}-N^2e^{-2\\mu t}=Ne^{-\\mu t}(1-e^{-\\mu t})\n",
    "\\end{align*}"
   ]
  },
  {
   "cell_type": "markdown",
   "metadata": {},
   "source": [
    "# 4. Simple birth and death process with immigration\n",
    "\n",
    "Consider now a simple birth and death process that allows for immigration, meaning that individuals can join the system at constant rate $\\nu$.  The transition probabilities are \n",
    "\n",
    "\\begin{align*}\n",
    "p_{i+j,i}(\\Delta t) &= \\text{Prob}\\left\\{X(t + \\Delta t) = i+j | X(t) = i \\right\\} \\\\\n",
    "& = \\left\\{\n",
    "\\begin{array}{ll}\n",
    "\\mu i \\Delta t + o(\\Delta t), & j = -1 \\\\\n",
    "1 - \\left(\\nu + (\\lambda + \\mu) i \\right)\\Delta t + o(\\Delta t), & j = 0 \\\\\n",
    "(\\nu + \\lambda i) \\Delta t + o(\\Delta t), & j = 1 \\\\\n",
    "o(\\Delta t), & j \\neq -1, 0, 1 \n",
    "\\end{array}\\right.,\n",
    "\\end{align*}\n",
    "\n",
    "and $X(0) = N$.\n",
    "\n",
    "\\begin{enumerate}\n",
    "\\item Show that the mean of the process is given by\n",
    "\n",
    "\\begin{align*}\n",
    "m(t) = \\frac{e^{(\\lambda - \\mu)t}\\left[N(\\lambda - \\mu) + \\nu \\right] - \\nu}{\\lambda - \\mu}\n",
    "\\end{align*}\n",
    "\n",
    "for $\\lambda \\neq \\mu$.  Is this what you would expect based on the ODE for the deterministic model?\n",
    "\n",
    "\\end{enumerate}\n"
   ]
  },
  {
   "cell_type": "markdown",
   "metadata": {},
   "source": [
    "4. The forward kolmogorov equation is\n",
    "\\begin{align*}\n",
    "\\frac{dp_i}{dt}&=\\mu (i+1) p_{i+1}(t)-(\\nu + (\\lambda +\\mu)i) p_i(t)+(\\nu+\\lambda(i-1))p_{i-1}(t)\n",
    "\\end{align*}\n",
    "Therefore\n",
    "\\begin{align*}\n",
    "\\sum_{i}i\\frac{dp_i}{dt}&=\\mu\\sum_{i}i(i+1) p_{i+1}(t)-\\sum_{i}(\\nu i+ (\\lambda +\\mu)i^2) p_i(t)+\\sum_{i}i(\\nu+\\lambda(i-1))p_{i-1}(t) \\\\\n",
    "\\frac{d}{dt}\\sum_{i}ip_i(t)&=\\mu\\sum_{i}i(i-1) p_{i}(t)-\\sum_{i}(\\nu i+ (\\lambda +\\mu)i^2) p_i(t)+\\sum_{i}(i+1)(\\nu+\\lambda i)p_{i}(t) \\\\\n",
    "\\frac{d}{dt}\\sum_{i}ip_i(t)&=(\\lambda-\\mu)\\sum_{i}ip_i(t)+\\nu\\sum_{i}p_i(t)\n",
    "\\end{align*}\n",
    "Therefore since $m=\\sum_{i}ip_i(t)$ and $\\sum_{i}p_i(t)=1$ then\n",
    "\\begin{align*}\n",
    "\\frac{dm}{dt}=(\\lambda-\\mu)m+\\nu\n",
    "\\end{align*}\n",
    "\\begin{align*}\n",
    "\\int\\frac{1}{(\\lambda-\\mu)m+\\nu}dm&=\\int dt \\\\\n",
    "\\frac{\\ln((\\lambda-\\mu)m+\\nu)}{\\lambda-\\mu}&=t+c \\\\\n",
    "\\end{align*}\n",
    "Since for $t=0$, $m=N$, then $c=\\frac{\\ln((\\lambda-\\mu)N+\\nu)}{\\lambda-\\mu}$. Therefore\n",
    "\\begin{align*}\n",
    "\\ln((\\lambda-\\mu)m+\\nu)&=(\\lambda-\\mu)t+\\ln((\\lambda-\\mu)N+\\nu) \\\\\n",
    "(\\lambda-\\mu)m+\\nu&=e^{(\\lambda-\\mu)t}\\left((\\lambda-\\mu)N+\\nu\\right) \\\\\n",
    "m&=\\frac{e^{(\\lambda-\\mu)t}\\left((\\lambda-\\mu)N+\\nu\\right)-\\nu}{\\lambda-\\mu}\n",
    "\\end{align*}\n",
    "Based on the ODE for the deterministic model, $\\frac{dN}{dt}=(\\lambda-\\mu)N+\\nu$ which is what you would expect."
   ]
  },
  {
   "cell_type": "markdown",
   "metadata": {},
   "source": [
    "# 5. Burst process\n",
    "\n",
    "A lytic virus is one that uses a host cell to reproduce and release new viruses that go on to infect other cells and the process repeats.  The number new virus particles produced at each releasing event is referred to as the burst size.  This process can be modelled as a branching process with next generation generating function, \n",
    "\n",
    "\\begin{align*}\n",
    "f(z) = z^{\\beta + 1}\n",
    "\\end{align*}\n",
    "\n",
    "where $\\beta$ is a positive integer greater than 1.  \n",
    "\n",
    "\\begin{enumerate}\n",
    "\\item Write the differential equation for the generating function $\\mathcal{P}(z,t)$ for the total virus population size at time $t$.\n",
    "\n",
    "\\item Show that the solution with initial condition $\\mathcal{P}(z,0) = z$ is\n",
    "\n",
    "\\begin{align*}\n",
    "\\mathcal{P}(z,t) = \\left(1 + e^{\\beta\\lambda t}(z^{-\\beta}-1)\\right)^{-1/\\beta}\n",
    "\\end{align*}\n",
    "\n",
    "\\item How does the mean virus population grow over time?\n",
    "\\end{enumerate}"
   ]
  },
  {
   "cell_type": "markdown",
   "metadata": {},
   "source": [
    "5.i.  The differential equation for the branching process is\n",
    "\\[\n",
    "\\frac{d\\mathcal{P}}{dt}=-\\lambda\\left(\\mathcal{P}-f(\\mathcal{P})\\right)=-\\lambda\\left(\\mathcal{P}-\\mathcal{P}^{\\beta+1}\\right)\n",
    "\\]"
   ]
  },
  {
   "cell_type": "markdown",
   "metadata": {},
   "source": [
    "5. ii. Firstly the solution satisfies the initial condition.\n",
    "\\[\n",
    "\\mathcal{P}(z,0)=\\left(1+z^{-\\beta}-1\\right)^{-1/\\beta}=z\n",
    "\\]\n",
    "Secondly,\n",
    "\\[\n",
    "\\frac{d\\mathcal{P}}{dt}=-\\lambda e^{\\beta\\lambda t}\\left(z^{-\\beta}-1\\right)\\left(1+e^{\\beta\\lambda t}\\left(z^{-\\beta}-1\\right)\\right)^{-1/\\beta-1}\n",
    "\\]\n",
    "\\begin{align}\n",
    "-\\lambda\\left(\\mathcal{P}-\\mathcal{P}^{\\beta+1}\\right)\n",
    "&=-\\lambda\\left(1+e^{\\beta\\lambda t}\\left(z^{-\\beta}-1\\right)\\right)^{-1/\\beta}+\\lambda\\left(1+e^{\\beta\\lambda t}\\left(z^{-\\beta}-1\\right)\\right)^{-1-1/\\beta} \\\\\n",
    "&=-\\lambda\\left(1+e^{\\beta\\lambda t}\\left(z^{-\\beta}-1\\right)\\right)\\left(1+e^{\\beta\\lambda t}\\left(z^{-\\beta}-1\\right)\\right)^{-1-1/\\beta}+\\lambda\\left(1+e^{\\beta\\lambda t}\\left(z^{-\\beta}-1\\right)\\right)^{-1-1/\\beta} \\\\\n",
    "&=-\\lambda e^{\\beta\\lambda t}\\left(z^{-\\beta}-1\\right)\\left(1+e^{\\beta\\lambda t}\\left(z^{-\\beta}-1\\right)\\right)^{-1/\\beta-1}\n",
    "\\end{align}\n",
    "Therefore this is a solution to the differential equation."
   ]
  },
  {
   "cell_type": "markdown",
   "metadata": {},
   "source": [
    "5. iii. The mean is given by\n",
    "\\begin{align}\n",
    "m(t)&=\\frac{\\partial}{\\partial z}\\mathcal{P}(z,t)\\Bigr|_{z=1}=e^{\\beta\\lambda t}z^{-\\beta-1}\\left(1+e^{\\beta\\lambda t}\\left(z^{-\\beta}-1\\right)\\right)^{-1/\\beta-1}\\Bigr|_{z=1}=e^{\\beta\\lambda t}\n",
    "\\end{align}\n",
    "So the mean grows exponentially with time."
   ]
  },
  {
   "cell_type": "markdown",
   "metadata": {},
   "source": [
    "# 6. Bivariate birth and death process\n",
    "\n",
    "For the bivariate birth and death process described in the notes with transition probabilities,\n",
    "\n",
    "\\begin{align*}\n",
    "p_{(i+k,j+l),(i,j)} =\\left\\{\n",
    "\\begin{array}{ll}\n",
    "\\lambda_1 i \\Delta t + o(\\Delta t), & (k,l) = (1,0) \\\\\n",
    "\\lambda_2 j \\Delta t + o(\\Delta t), & (k,l) = (0,1) \\\\\n",
    "\\mu_1 i \\Delta t + o(\\Delta t), & (k,l) = (-1,0) \\\\\n",
    "\\mu_2 j \\Delta t + o(\\Delta t), & (k,l) = (0,-1) \\\\\n",
    "1 - \\Delta t \\left((\\lambda_1 + \\mu_1) i + (\\lambda_2 + \\mu_2)j\\right) + o(\\Delta t), (k,l)=(0,0)\n",
    "\\end{array},\n",
    "\\right.\n",
    "\\end{align*}\n",
    "\n",
    "determine the differential equations for $\\mu_X$ and $\\mu_Y$ from the forward Kolmogorov differential equation."
   ]
  },
  {
   "cell_type": "markdown",
   "metadata": {},
   "source": [
    "6. The differential equation for $\\mu_X$ and $\\mu_Y$ are\n",
    "\\begin{align}\n",
    "what\n",
    "\\end{align}"
   ]
  },
  {
   "cell_type": "markdown",
   "metadata": {},
   "source": [
    "# 7. Noise propagation in a gene expression\n",
    "\n",
    "In a model of gene expression, the transcription of mRNA, $M$, and translation into proteins, $P$ is given by the reactions\n",
    "\n",
    "\\begin{align}\n",
    "\t\t&\\varnothing \\xrightarrow{k_1} M, \\ \\ M \\xrightarrow{k_m} \\varnothing, \\notag\\\\\n",
    "\t\t&M \\xrightarrow{k_2} M+P, \\ \\ P \\xrightarrow{k_p} \\varnothing.\\notag\n",
    "\\end{align}\n",
    "\n",
    "\\begin{enumerate}\n",
    "\t\t\\item Starting from the transition probabilities, determine that the ODEs governing the mean numbers of mRNA, $\\mu_m$, and protein, $\\mu_p$, molecules coincide with those for the deterministic system for the chemical concentrations.  \n",
    "\t\t\\item Obtain also the equations for the variances for the numbers of mRNA, $\\sigma^2_m$ and protein, $\\sigma^2_p$, molecules.  Show that the coefficient of variations are related via\n",
    "\t\t\\begin{align}\n",
    "\t\t\\text{CV}^2_p\n",
    "\t\t= \\frac{1}{\\mu_p}+\n",
    "\t\t\\frac{\\gamma}{1+\\gamma}\\text{CV}^2_m,\\notag\n",
    "\t\t\\end{align}\n",
    "\t\twhere $\\gamma=k_p/k_m$, $\\text{CV}^2_p = \\sigma^2_p/\\mu^2_p$, and $\\text{CV}^2_m = \\sigma^2_m/\\mu^2_m$.\n",
    "\t\t\\item Discuss the differences in variability of mRNA and protein levels when $\\gamma \\ll 1$ and $\\gamma \\gg 1$ and provide an interpretation of these limits.\n",
    "\t\\end{enumerate}"
   ]
  }
 ],
 "metadata": {
  "kernelspec": {
   "display_name": "Python 3",
   "language": "python",
   "name": "python3"
  },
  "language_info": {
   "codemirror_mode": {
    "name": "ipython",
    "version": 3
   },
   "file_extension": ".py",
   "mimetype": "text/x-python",
   "name": "python",
   "nbconvert_exporter": "python",
   "pygments_lexer": "ipython3",
   "version": "3.8.3"
  },
  "latex_envs": {
   "LaTeX_envs_menu_present": true,
   "autoclose": false,
   "autocomplete": false,
   "bibliofile": "biblio.bib",
   "cite_by": "apalike",
   "current_citInitial": 1,
   "eqLabelWithNumbers": true,
   "eqNumInitial": 1,
   "hotkeys": {
    "equation": "Ctrl-E",
    "itemize": "Ctrl-I"
   },
   "labels_anchors": false,
   "latex_user_defs": false,
   "report_style_numbering": false,
   "user_envs_cfg": false
  }
 },
 "nbformat": 4,
 "nbformat_minor": 2
}
