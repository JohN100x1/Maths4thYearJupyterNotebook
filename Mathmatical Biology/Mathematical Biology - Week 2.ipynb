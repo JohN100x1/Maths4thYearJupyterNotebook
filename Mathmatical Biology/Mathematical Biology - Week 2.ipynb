{
 "cells": [
  {
   "cell_type": "markdown",
   "metadata": {},
   "source": [
    "### The logistic equation in epidemiology: SIS model\n",
    "\n",
    "For many diseases, such as meningitis, plague, malaria, and venerial diseases, populations can be divided into two types -- those that are susceptible and those that are infective.  This is in contrast to viral diseases where there is a third category of the population that has immunity, but more on that later.  Here, we call the size of the susceptible population, $S$, and the infective population, $I$ and the total population size, $N$, where $S + I = N$.  We assume that the birth and death rates are equal and both given by $\\delta$ and that all newborns are susceptible.  While this means that $N$ is constant and the rate of change of $S$ and $I$ due to deaths is $-\\delta S$ and $-\\delta I$, respectively, while births only affects $S$ with the rate of change, $\\delta N$.  Additionally, the rate at which the susceptible population becomes infective is $-\\lambda S I/N$, while the rate at which the infective population returns to be susceptible due to recovery is $-\\gamma I$.  Putting everything together, we have \n",
    "\\begin{align}\n",
    "\\frac{dS}{dt} &= -\\lambda S I/N + \\gamma I + \\delta N - \\delta S, \\\\\n",
    "\\frac{dI}{dt} &= \\lambda S I/N - \\gamma I - \\delta I, \\\\\n",
    "N &= S + I.\n",
    "\\end{align}\n",
    "This is called the **SIS model**.  Notice that the terms $-\\lambda S I/N$ and $\\gamma I$ in the equation for $S$ appear in the equation for $I$, but with the opposite sign.  This reflects the fact that those that are no longer infective must become susceptible, and similarly, those that were susceptible become infective.  \n",
    "\n",
    "Something else to notice is that this does not appear to be a one dimensional system as there are two differential equations, one for $I$ and one for $S$.  However, by virtue of the fact that $N$ is constant, we know once we know $I$, we can immediately find $S$ through $S = N - I$.  Using this fact, the differential equation for $I$ becomes,\n",
    "\\begin{align}\n",
    "\\frac{dI}{dt} &= \\lambda (1 - I/N) I - \\gamma I - \\delta I,\n",
    "\\end{align}\n",
    "which can be written as \n",
    "\\begin{align}\n",
    "\\frac{dI}{dt} &= (\\lambda - \\gamma - \\delta) I \\left(1 - \\frac{\\lambda}{N(\\lambda  - \\gamma - \\delta)}I\\right), \n",
    "\\end{align}\n",
    "and thus recover the logistic equation with $r = \\lambda  - \\gamma - \\delta$ and $K = N (\\lambda  - \\gamma - \\delta)/\\lambda$.  Knowing what you know about the solution to the logistic equation and what the parameters $\\lambda$, $\\gamma$, $\\delta$ and $N$ represent, what does the SIS model predict about the infective population?"
   ]
  },
  {
   "cell_type": "markdown",
   "metadata": {},
   "source": [
    "### Logistic growth with harvesting\n",
    "\n",
    "Recall that one of the many assumptions made is that our system is closed -- the population changes solely as a result of birth or death.  We can relax this assumption through a simple modification of the logistic equation that accounts for *constant-rate harvesting*.  This modified logistic equation is given by \n",
    "\n",
    "\\begin{align}\n",
    "\\frac{dx}{dt} &= r x\\left(1 - \\frac{x}{K}\\right) - H \n",
    "\\label{eq:logisticH}\n",
    "\\end{align}\n",
    "\n",
    "where $H$ is the harvesting rate.  We find the fixed points of \\eqref{eq:logisticH} by considering $f(x) = rx (1 - x/K) - H = 0$.  The solutions to this quadratic equation are \n",
    "\n",
    "\\begin{align}\n",
    "x^*_{\\pm} = \\frac{K \\pm \\sqrt{K^2 - 4HK/r}}{2}.\n",
    "\\end{align}\n",
    "\n",
    "For $H > rK/4$, the roots are complex and hence no fixed points, though there is still an outcome, just a catastrophic one!  For this case $f(x) < 0$ for all $x$, and hence we will reach $x = 0$ in a finite time -- the population will die out.  This is certainly catastrophic for the population, however, the catastrophe that I am referring to is the mathematical one.  We see that if we start at $H < rK/4$ and slowly increase it, we will have a stable fixed point that approaches $x^* = K/2$.  The moment $H$ goes above $rK/4$, the fixed point disappears and we have the solution $x = 0$ at long time.  This discontinuous jump in the long time solution is known as a catastrophe.\n",
    "\n",
    "Provided $H \\leq rK/4$, there are two real roots and hence two fixed points with $x^*_+$ being asymptotically stable while $x^*_-$ is unstable.  This can be explained using linear stability analysis, or by examining for which values of $x$ is $r x(1 - x/K) - H$ is positive or negative.  \n",
    "\n",
    "Hopefully, from our discussion above, you can see that saddle-node bifurcation has occurred at the bifurcation point $H = rK/4$, where we went from having two fixed points to suddenly having none.  All that has been discussed here is neatly summarised in the bifurcation diagram below with the added arrows indicating the flow for fixed $H$.\n",
    "\n",
    "<img src=\"harvestingbifurcation.png\" alt=\"bifurcation for logistic growth with harvesting\" width=\"500\"/>"
   ]
  },
  {
   "cell_type": "markdown",
   "metadata": {},
   "source": [
    "## Insect outbreak: the spruce budworm \n",
    "\n",
    "One cannot take a mathematical biology course without encountering the spruce budworm.  It shows how a simple, one-dimensional systems can yield rich dynamics with relevant predictions of a biological phenomenon.  The spruce budworm is an insect that infects fir trees in eastern Canada and a budworm infestation can lead to complete defoliation of a forest in about 4 years.  The budworm is preyed upon by birds that for low budworm population feed only upon the budworms once the budworm population has reached a certain level.  Assuming logistic growth for the budworm population in the absence of birds, the budworm population size, $N$, is governed by the differential equation\n",
    "\\begin{align}\n",
    "\\frac{dN}{dt} = rN\\left(1 - \\frac{N}{K}\\right) - p(N),\n",
    "\\end{align}\n",
    "where $p(N)$ is the rate of change in the budworm population size due to predation by birds.  The predation can be described by the function $p(N) = BN^2/(A^2 + N^2)$ where $B > 0$ is the predation rate as $N \\rightarrow \\infty$ and $A > 0$ provides a measure of the threshold population size where predation suddenly increases.  This leaves us with\n",
    "\\begin{align}\n",
    "\\frac{dN}{dt} = rN\\left(1 - \\frac{N}{K}\\right) - \\frac{BN^2}{A^2 + N^2}.\n",
    "\\label{eq:budwormdim}\n",
    "\\end{align}\n",
    "\n",
    "### Nondimensionalisation\n",
    "\n",
    "Thus far we've dealt directly with the dimensional form of the differential equation, meaning that the parameters in the equations have relevant dimensions associated with them.  While this is perhaps convenient for making direct predictions from measured values of the parameters, working with dimensional parameters can at best keep the equations looking 'un-tidy,' and at worst obscure the mathematical structure of the equations or relevant approximations that can be made.\n",
    "\n",
    "Here, we nondimensionalise $N$ by $A$, such that, $N = Ax$.  Thus, the nondimensional budworm population size is given by $x$.  For time, we take $t = (A/B) \\tau$, so $\\tau$ is the nondimensional time.  Substituting these expressions into \\eqref{eq:budwormdim} for $N$ and $t$ gives\n",
    "\n",
    "\\begin{align}\n",
    "B\\frac{dx}{d\\tau} = rAx\\left(1 - \\frac{Ax}{K}\\right) - \\frac{Bx^2}{1 + x^2}.\n",
    "\\end{align}\n",
    "\n",
    "Dividing both sides by $B$ and defining $R = rA/B$ and $k = K/A$, we have\n",
    "\n",
    "\\begin{align}\n",
    "\\frac{dx}{d\\tau} = Rx\\left(1 - \\frac{x}{k}\\right) - \\frac{x^2}{1 + x^2}.\n",
    "\\label{eq:budworm}\n",
    "\\end{align}\n",
    "\n",
    "We see that nondimensionalisation has done a couple of things.  The first is that it has 'tidied up' our equation -- we went from four parameters to two.  Additionally, all of the parameters are found in the logistic growth term on the right hand side.  This will prove useful when we go to find the fixed points.\n",
    "\n",
    "### Fixed points\n",
    "\n",
    "We first note that by inspection of \\eqref{eq:budworm}, $x = 0$ is a fixed point.  To find the other fixed points, we consider \n",
    "\n",
    "\\begin{align}\n",
    "R\\left(1 - \\frac{x}{k}\\right) = \\frac{x}{1 + x^2}\n",
    "\\label{eq:budwormFP}\n",
    "\\end{align}\n",
    "\n",
    "where the logistic growth is balanced by the predation.  Thus, the fixed points occur when the line given by the left-hand side of \\eqref{eq:budwormFP} intersects the curve given by the right-hand side.  Naturally, we'd like to explore how these fixed points vary with $R$ and $k$ and, in doing so, we see the benefit of our choice of nondimensionalisation.  The curve given by $h(x) = x/(1 + x^2)$ does not depend on either parameter, and as for the line $g(x) = R(1 - x/k)$, $R$ is the $y$-intercept, while $k$ is the where it crosses the $x$-axis.  This makes graphical evaluation quite easy!"
   ]
  },
  {
   "cell_type": "code",
   "execution_count": 1,
   "metadata": {},
   "outputs": [
    {
     "data": {
      "image/png": "[encoded data removed]",
      "text/plain": [
       "<Figure size 432x288 with 1 Axes>"
      ]
     },
     "metadata": {
      "needs_background": "light"
     },
     "output_type": "display_data"
    }
   ],
   "source": [
    "import numpy as np\n",
    "import matplotlib.pyplot as plt\n",
    "%matplotlib inline \n",
    "\n",
    "R = 0.5\n",
    "k = 10.0\n",
    "x = np.linspace(0,10,1000)\n",
    "h = R*(1 - x/k)\n",
    "g = x/(1 + x**2);\n",
    "\n",
    "plt.rcParams.update({'font.size': 14})  # increase the font size\n",
    "plt.xlabel(\"x\")\n",
    "plt.ylabel(\"h,g\")\n",
    "plt.plot(x,h)\n",
    "plt.plot(x,g)\n",
    "plt.ylim(0,R)\n",
    "plt.xlim(0,k);"
   ]
  },
  {
   "cell_type": "markdown",
   "metadata": {},
   "source": [
    "The code above can be used to plot the curve $h(x)$ and the line $g(x)$ for different $R$ and $k$.  For values of $k$ sufficiently low, there will be a single additional fixed point for $R >0$.  When $k$ is large, however, we can have either one, two, or three additional fixed points.  Try it! Consider the case of three additional fixed points, labeled $a$, $b$ and $c$, such that $a < b < c$.  If we fix the value of $k$ and decrease $R$, we see that $b$ and $c$ collide and we go from three to one additional fixed point via a saddle-node bifurcation.  Similarly, by increasing $R$, $a$ and $b$ collide and we'll have a saddle-node bifurcation there as well.  "
   ]
  },
  {
   "cell_type": "markdown",
   "metadata": {},
   "source": [
    "\n",
    "### Stability\n",
    "\n",
    "We know that $x^* = 0$ is a fixed point, and since $f(x) > 0$ just to the right of $x^* = 0$, this is an unstable fixed point.  Now, turning our attention to the case where we have three additional fixed points, $a$, $b$, and $c$.  Since the stability of the fixed points must alternate as $x$ increases from $0$ (this is due to the continuity of $f$), $a$ and $c$ will be stable, while $b$ will be unstable.  \n",
    "\n",
    "At this point, it's important to remember that this is a model of a biological process and the fixed points that we found have an interpretation in the context of the system.  The stable fixed points $x^* = a$ and $x^* = c$ correspond to the *refuge* and *outbreak* population levels, respectively.  The unstable fixed point $x^* = b$ is referred to as the *threshold* as initial populations $x_0 > b$ increase to the outbreak level, while for $x_0 < b$ the population will decrease to the refuge size.  We notice something important here -- the system exhibits bistability.  For a fixed set of parameters, we can have two stable fixed points.  \n",
    "\n",
    "We can find the regions in $(k,R)$ parameter space where there is only 1 additional fixed point, or where there are 3 by finding parametric curves $R(x)$ and $k(x)$ that give the bifurcation curves -- the curves containing the bifurcation points.  These are obtained by considering simultaneously $f(x) = 0$ and $f'(x) = 0$, which state that the bifurcation point correspond to a fixed point, and it occurs where the tangent to the curve is zero, i.e. where the line given by $R(1 - x/k)$ is tangent to the curve $x/(1+x^2)$.  Performing this calculation, we find that $R(x) = 2x^3/(1+x^2)^2$ and $k(x) = 2x^3/(x^2 - 1)$.  The code below plots these curves and indicates the number of fixed points in each region."
   ]
  },
  {
   "cell_type": "code",
   "execution_count": 2,
   "metadata": {},
   "outputs": [
    {
     "data": {
      "image/png": "[encoded data removed]",
      "text/plain": [
       "<Figure size 432x288 with 1 Axes>"
      ]
     },
     "metadata": {
      "needs_background": "light"
     },
     "output_type": "display_data"
    }
   ],
   "source": [
    "import numpy as np\n",
    "import matplotlib.pyplot as plt\n",
    "%matplotlib inline \n",
    "\n",
    "x = np.linspace(1.005,100,10000)\n",
    "R = 2*x**3/(1 + x**2)**2;\n",
    "k = 2*x**3/(x**2 - 1)\n",
    "\n",
    "plt.rcParams.update({'font.size': 14})  # increase the font size\n",
    "plt.xlabel(\"k\")\n",
    "plt.ylabel(\"R\")\n",
    "plt.plot(k,R);\n",
    "plt.ylim(-0.2,0.7)\n",
    "plt.xlim(0,200);\n",
    "plt.text(75, 0.6, \"one fixed point - outbreak\", fontsize=12)\n",
    "plt.text(75, 0.3, '3 fixed points - bistability', fontsize=12)\n",
    "plt.text(25, -0.1, 'one fixed point - refuge', fontsize=12);\n"
   ]
  },
  {
   "cell_type": "markdown",
   "metadata": {},
   "source": [
    "How did we do with our analysis: use the code below to integrate the equations numerically and plot the solution as a function of time.  If you vary the parameters, does the solution go to where you think it should?"
   ]
  },
  {
   "cell_type": "code",
   "execution_count": 3,
   "metadata": {},
   "outputs": [
    {
     "data": {
      "image/png": "[encoded data removed]",
      "text/plain": [
       "<Figure size 432x288 with 1 Axes>"
      ]
     },
     "metadata": {
      "needs_background": "light"
     },
     "output_type": "display_data"
    }
   ],
   "source": [
    "from scipy.integrate import odeint\n",
    "\n",
    "def dx_dt(x, t):\n",
    "    R = 0.5\n",
    "    k = 10.0\n",
    "    f = R*(1 - x/k)\n",
    "    g = x/(1 + x**2);\n",
    "    return f-g\n",
    "\n",
    "t = np.linspace(0,100,100)\n",
    "x0 = 4.0  # the initial condition\n",
    "x = odeint(dx_dt, x0, t)\n",
    "x = np.array(x).flatten()\n",
    "\n",
    "plt.plot(t,x);"
   ]
  },
  {
   "cell_type": "markdown",
   "metadata": {},
   "source": [
    "\n",
    "One important feature of this system is that it can exhibit *hysteresis* meaning that varying the parameters in such a way that they return to their initial values does not return the system to its original state.  \n",
    "\n",
    "For example, suppose that the parameters $R$ and $k$ are such that we have four fixed points (including $x^*=0$).  Let's suppose that the population is at the refuge size, $x = a$.  Now, imagine that $R$ is increased and the saddle-node bifurcation occurs making $x^* = c$ the only stable fixed point.  The system will move to the outbreak size.  Even if we reduce $R$ to its original value, we will be above the threshold and continue to move to $c$ rather than $a$.  Thus, once the outbreak occurs, reducing $R$ to its original value won't solve the problem.  How might you go about returning the population of the refuge value? \n",
    "\n",
    "<img src=\"hysteresis.png\" alt=\"hysteresis in the spruce budworm model\" width=\"500\"/>"
   ]
  },
  {
   "cell_type": "markdown",
   "metadata": {},
   "source": [
    "## Chemical kinetics \n",
    "\n",
    "While most of what we have discussed so far describes biological processes at the scale of populations of many organisms, similar equations arise for basic chemical processes that occur at the molecular level.  Additionally, the connection with a chemical process provides a more systematic way of producing a mathematical model given specific chemical reaction.\n",
    "\n",
    "Suppose we have two molecules, $A$ and $B$, that react to form another molecule $C$ at rate $k_1$.  This is expressed symbolically as\n",
    "\n",
    "\\begin{align}\n",
    "A + B \\xrightarrow{k_1} C.\n",
    "\\end{align}\n",
    "\n",
    "Writing the concentration of the molecules as $a = [A]$, $b = [B]$, and $c = [C]$, the *law of mass action* tells us that the reaction rate is proportional to the product of the concentration of the reactants.  In this case, we'll have \n",
    "\\begin{align}\n",
    "\\frac{dc}{dt} = k_1 a b\n",
    "\\end{align}\n",
    "\n",
    "and the depletion rates of $a$ and $b$ are\n",
    "\n",
    "\\begin{align}\n",
    "\\frac{da}{dt} = -k_1 a b, \\frac{db}{dt} = -k_1 a b.\n",
    "\\end{align}\n",
    "\n",
    "Now, suppose instead, the reaction is such that one $A$ combines with two $B$ to form one $C$ with a rate $k_1$, \n",
    "\n",
    "\\begin{align}\n",
    "A + 2B &\\xrightarrow{k_1} C.\n",
    "\\label{eq:abc}\n",
    "\\end{align}\n",
    "\n",
    "In this case, the law of mass action states that dynamics of the concentrations are \n",
    "\\begin{align}\n",
    "\\frac{dc}{dt} &= k_1 a b^2,\\\\\n",
    "\\frac{da}{dt} &= -k_1 a b^2,\\\\\n",
    "\\frac{db}{dt} &= -2k_1 a b^2.\n",
    "\\end{align}\n",
    "The coefficients (1,2,1) in front of $A$, $B$, and $C$ in \\eqref{eq:abc} are referred to as *stoichiometric coefficients*.  If this reaction is reversible with rate $k_2$ such that \n",
    "\\begin{align}\n",
    "C &\\xrightarrow{k_2} A + 2B,\n",
    "\\end{align}\n",
    "the differential equations for the concentrations are\n",
    "\n",
    "\\begin{align}\n",
    "\\frac{dc}{dt} = k_1 a b^2 - k_2 c, \\frac{da}{dt} = k_2 c - k_1 a b^2, \\frac{db}{dt} = 2k_2 c - 2k_1 a b^2.\n",
    "\\end{align}\n",
    "\n",
    "Hopefully, from this simple example, you've noticed that there is a process for going from the symbolic representation of the chemical reactions to the differential equations for the dynamics of the concentrations.  Let's state the process more generally.  \n",
    "\n",
    "Suppose there are $n$ molecules, or chemical species, $X_1, \\dots, X_n$ with concentrations, $x_1, \\dots, x_n$, respectively.  Suppose also that the molecules can undergo $r$ reactions, each of which may be expressed as\n",
    "\n",
    "\\begin{align}\n",
    "s^R_{1j}X_1+s^R_{2j}X_2+\\dots +s^R_{nj}X_n \\xrightarrow{k_j} s^P_{1j}X_1+s^P_{2j}X_2+\\dots +s^P_{nj}X_n\n",
    "\\end{align}\n",
    "\n",
    "for $j = 1,\\dots, r$, where $s^R_{ij}$ and $s^P_{ij}$ and are the stoichiometric coefficients on the reactant and product sides, respectively for species $i$ and reaction $j$.  Writing $s_{ij} = s^P_{ij} - s^R_{ij}$, the law of mass action gives the differential equation for the concentration $x_i$ as \n",
    "\n",
    "\\begin{align}\n",
    "\\frac{dx_i}{dt} = \\sum_{j=1}^rs_{ij} k_j\\prod_{l=1}^nx_l^{s^R{lj}},\n",
    "\\end{align}\n",
    "\n",
    "for $i = 1,\\dots,n$.  \n"
   ]
  },
  {
   "cell_type": "markdown",
   "metadata": {},
   "source": [
    "### Enzyme dynamics: Michaelis-Menten model \n",
    "\n",
    "Now that we have the general framework for obtaining differential equations from chemical reactions, let's consider an enzymatic reaction.  The biochemical reactions that are taking place within organisms often involve proteins called *enzymes* that serve as catalysts to efficiently facilitate the reaction.  The enzymes react selectively on compounds that are referred to as *substrates*.  Haemoglobin on red blood cells is an example of an enzyme that combines with its substrate, oxygen.  Enzymes are important as they often serve as activators or inhibitors of reactions that govern fundamental biological process, such as metabolism, the process by which energy is made available within cells.\n",
    "\n",
    "The most basic model enzymatic reaction is the process proposed by Michaelis and Menten (1913), involving substrate $S$ and enzyme $E$, that combine to form complex $SE$ which, in turn is converted to product, $P$, releasing the enzyme.  This reaction is described by\n",
    "\n",
    "\\begin{align}\n",
    "S + E \\underset{k_{-1}}{\\stackrel{k_1}{\\rightleftharpoons}} SE \\xrightarrow{k_2} P + E\n",
    "\\end{align}\n",
    "\n",
    "Applying mass action to the process described above and calling $c = [SE]$, the differential equations for the concentrations are\n",
    "\n",
    "\\begin{align}\n",
    "\\frac{dc}{dt} &= k_1 s e - (k_{-1} + k_2)c,\\\\\n",
    "\\frac{de}{dt} &= -k_1 s e + (k_{-1} + k_2)c,\\\\\n",
    "\\frac{ds}{dt} &= -k_1 s e + k_{-1}c,\\\\\n",
    "\\frac{dp}{dt} &= k_2c.\n",
    "\\end{align}\n",
    "\n",
    "From this set of equations, we notice a couple of things.  The first is that $d(c + e)/dt = 0$, and therefore, if at $t = 0$, $e(0) = e_0$ and $c(0) = 0$, we have $c + e = e_0$.  The second thing to notice is that since the equation for $p$ only depends on $c$, we have\n",
    "\n",
    "\\begin{align}\n",
    "p(t) - p(0) = k_2 \\int_{0}^t c(\\tau) d\\tau.\n",
    "\\end{align}\n",
    "\n",
    "Thus, once we know $c$, $p$ immediately follows through integration -- there's nothing to solve for!\n",
    "\n",
    "Therefore, we need only consider the two coupled differential equations\n",
    "\n",
    "\\begin{align}\n",
    "\\frac{dc}{dt} &= k_1 e_0 s  - (k_1s + k_{-1} + k_2)c,\\\\\n",
    "\\frac{ds}{dt} &= -k_1 e_0 s + (k_1s + k_{-1})c\n",
    "\\end{align}\n",
    "\n",
    "with the initial condition $s(0) = s_0$ and recall $c(0) = 0$.  \n",
    "\n",
    "### Nondimensionalisation\n",
    "\n",
    "We nondimensionalise this system of differential equations as follows\n",
    "\n",
    "\\begin{align}\n",
    "t = \\tau/(k_1e_0), s = s_0 u, c = e_0v \n",
    "\\end{align}\n",
    "\n",
    "to become\n",
    "\n",
    "\\begin{align}\n",
    "\\epsilon\\frac{dv}{d\\tau} &= u - (u + K)v,\\\\\n",
    "\\frac{du}{d\\tau} &= -u + (u + K - \\lambda)v \n",
    "\\end{align}\n",
    "\n",
    "where $\\epsilon = e_0/s_0$, $K = (k_{-1} + k_2)/(k_1 s_0) = K_m/s_0$ and $\\lambda = k_2/(k_{1}s_0)$.  The initial conditions for the nondimensional system are $u(0) = 1$ and $v(0) = 0$.  \n",
    "\n",
    "### Quasi-steady approximation\n",
    "\n",
    "Now, you must be thinking -- this is not a one-dimensional system, the dynamics are governed by two ODEs!  This is most certainly correct, but the reason that it is appearing now is that the nondimensionalisation has revealed that a simplifying assumption might be possible.  If the initial concentration of enzyme is small relative to that of the substrate, we have that $\\epsilon \\ll 1$ and assuming the remaining coefficients are $O(1)$, we can take $\\epsilon = 0$ and the system becomes\n",
    "\n",
    "\\begin{align}\n",
    "0 &= u - (u + K)v,\\\\\n",
    "\\frac{du}{d\\tau} &= -u + (u + K - \\lambda)v. \n",
    "\\end{align}\n",
    "\n",
    "We can immediately solve the algebraic equation to give $v = u/(u + K)$ and upon substituting this into the differential equation, we have the one-dimensional system\n",
    "\n",
    "\\begin{align}\n",
    "\\frac{du}{d\\tau} &= -\\lambda\\frac{u}{u+K}. \n",
    "\\end{align}\n",
    "\n",
    "Examining the right-hand side, we see that $f = -\\lambda u/(u+K) < 0$ and thus $u$ monotonically decreasing.  We also see that $u = 0$ is an asymptotically stable fixed point.  \n",
    "The solution can be obtained via separation of variables,\n",
    "\n",
    "\\begin{align}\n",
    "\\int_1^u \\left(1 + \\frac{K}{u'}\\right) du' = -\\lambda \\tau.\n",
    "\\end{align}\n",
    "\n",
    "to obtain\n",
    "\n",
    "\\begin{align}\n",
    "u + K \\log u = 1 - \\lambda \\tau.\n",
    "\\end{align}\n",
    "\n",
    "One final thing to consider is the product itself.  If we consider the equation for $p$ and nondimesionalise such that $p = s_0 w$, we obtain\n",
    "\n",
    "\\begin{align}\n",
    "\\frac{dw}{d\\tau} &= \\lambda\\frac{u}{u+K}. \n",
    "\\end{align}\n",
    "\n",
    "which tells us the product increases monotonically in time with a rate that decreases as the substrate $u$ is depleted.\n",
    "\n",
    "As you can see, the approximation $\\epsilon = 0$ can be quite useful, but have a look at our expression $v = u/(u + K)$.  If we take $\\tau = 0$, we have $v(0) = (1+K)^{-1} \\neq 0$ -- we haven't satisfied the initial condition for $v$.  What went wrong?  Looking more carefully, we see that in setting $\\epsilon = 0$, we removed the dynamics of $v$ and insisted it must reach its quasi-steady state instantaneously.  In reality, we won't have $\\epsilon = 0$, but rather a tiny, finite number, so there will be some dynamics but they will happen very quickly.  To capture this, we must instead consider the limit $\\epsilon \\rightarrow 0$ and perform a more involved asymptotic analysis of the problem."
   ]
  }
 ],
 "metadata": {
  "author": "",
  "kernelspec": {
   "display_name": "Python 3",
   "language": "python",
   "name": "python3"
  },
  "language_info": {
   "codemirror_mode": {
    "name": "ipython",
    "version": 3
   },
   "file_extension": ".py",
   "mimetype": "text/x-python",
   "name": "python",
   "nbconvert_exporter": "python",
   "pygments_lexer": "ipython3",
   "version": "3.7.1"
  },
  "latex_envs": {
   "LaTeX_envs_menu_present": true,
   "autoclose": false,
   "autocomplete": true,
   "bibliofile": "biblio.bib",
   "cite_by": "apalike",
   "current_citInitial": 1,
   "eqLabelWithNumbers": true,
   "eqNumInitial": 1,
   "hotkeys": {
    "equation": "Ctrl-E",
    "itemize": "Ctrl-I"
   },
   "labels_anchors": false,
   "latex_user_defs": false,
   "report_style_numbering": false,
   "user_envs_cfg": false
  },
  "toc": {
   "base_numbering": 1,
   "nav_menu": {},
   "number_sections": true,
   "sideBar": true,
   "skip_h1_title": false,
   "title_cell": "Table of Contents",
   "title_sidebar": "Contents",
   "toc_cell": false,
   "toc_position": {},
   "toc_section_display": true,
   "toc_window_display": false
  }
 },
 "nbformat": 4,
 "nbformat_minor": 2
}
