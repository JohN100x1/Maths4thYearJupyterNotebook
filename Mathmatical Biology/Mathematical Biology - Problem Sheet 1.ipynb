{
 "cells": [
  {
   "cell_type": "markdown",
   "metadata": {},
   "source": [
    "## 1. \n",
    "Consider the non-dimensional harvesting model at constant effort\n",
    "$$\n",
    "{\\text{d} N \\over \\text{d} t} = f(N,E) =  rN\\left(1-\\frac{N}{K}\\right) - Y(N,E), \\mbox{ with } Y(N,E)=EN\n",
    "$$\n",
    "where $r,\\,K$ and $E$ are positive constants known as the reproduction rate, the carrying capacity and the harvesting effort respectively.  The function $Y(N,E)$ denotes the yield of a particular harvest.\n",
    "\n",
    "i) Calculate the two fixed points $N_{1}$ and $N_{2}$ of the system and determine their stability. \n",
    "\n",
    "ii) What happens to $f(N,E)$ when $E>r$? What is the implication for the population then?\n",
    "\n",
    "iii) By considering $\\text{d} Y/ \\text{d} E$, where $Y$ is evaluated at $N_2$, show that the maximum stationary yield at $N_{2}$ is obtained at $E=r/2$ and find the values of $N_{2}$ and $Y$ at this point. Is there any reason to increase $E$ beyond $r/2$?\n",
    "\n",
    "iv) We define the *recovery time*, $T_R = -1/f'(N_{2})$ to be the time taken for a small perturbation from the non-zero steady state $N_2$ to decrease by a factor of $e$ according to the linearised equations. It gives us a measure of how long the population will stay away from the steady state $N_{2}.$ Show that $T_R(N_2)=1/(r-E).$\n",
    "\n",
    "v) For fixed $r$ and $K$, as $N$ decreases what can we do to maintain a constant yield $Y(N,E)$? What implication does this have for the recovery time and hence the overall population $N$?"
   ]
  },
  {
   "cell_type": "markdown",
   "metadata": {},
   "source": [
    "1.i.\n",
    "$$rN\\left(1-\\frac{N}{K}\\right)-EN=N\\left(r\\left(1-\\frac{N}{K}\\right)-E\\right)=0\\Rightarrow N_1=0\\quad\\textrm{and}\\quad N_2=K-\\frac{KE}{r}$$\n",
    "$$f'(N_1)=r-E\\quad\\textrm{and}\\quad f'(N_2)=E-r$$\n",
    "If $r<E$, then $N_1$ is stable and $N_2$ is unstable.\\\n",
    "If $r>E$, then $N_1$ is unstable and $N_2$ is stable.\\\n",
    "\\\n",
    "1.ii.\\\n",
    "If $E>r$ then $f(N,E)<0\\,\\forall N>0$ and so the population is only stable when it dies out ($N=0$).\\\n",
    "1.iii.\\\n",
    "$$\\frac{dY(N_2,E)}{dE}=K-\\frac{2KE}{r}=0\\quad\\Rightarrow\\quad E=\\frac{r}{2}\\quad\\Rightarrow\\quad N_2=\\frac{K}{2}\\quad\\textrm{and}\\quad Y=\\frac{rK}{4}$$\n",
    "1.iv.\\\n",
    "$$T_R(N_2)=-\\frac{1}{f'(N_2)}=-\\frac{1}{E-r}=\\frac{1}{r-E}$$\n",
    "1.v.\\\n",
    "For fixed $r$ and $K$, the yield $Y(N,E)$ can be kept constant by increasing $E$ by the same factor $N$ decreases by. By doing this, $T_R$ increases so recovery time increases and so it takes longer for $N$ to decrease (by a factor of $e$)."
   ]
  },
  {
   "cell_type": "markdown",
   "metadata": {},
   "source": [
    "## 2. \n",
    "Consider the non-linear predation model given by \n",
    "$$\n",
    "{\\text{d} N \\over \\text{d} t} = RN\\left(1-\\frac{N}{K}\\right) - P \\left(1-\\exp\\left[-\\frac{1}{\\varepsilon}\\frac{N^2}{A^2}\\right]\\right)\n",
    "$$\n",
    "where $R$, $K$, $P$ and $A$ are positive constants and $\\varepsilon$ is a dimensionless parameter such that $0<\\varepsilon<<1$.\n",
    "\n",
    "i) If the units of $N$ are larvae, what are the dimensions of $R,\\,K,\\,P,\\,A$? Hence, by an appropriate non-dimensionalisation show that the system can be re-written as\n",
    "$$\n",
    "{\\text{d} n \\over \\text{d} \\tau} = rn\\left(1-\\frac{n}{q}\\right) - \\left(1-\\exp\\left[-\\frac{n^2}{\\varepsilon}\\right]\\right),\n",
    "$$\n",
    "where $r,\\,q$ are positive parameters to be found. Rescale $n=\\sqrt\\varepsilon U$, $r=S/\\sqrt{\\varepsilon}$ and $q=Q\\sqrt{\\varepsilon}$ \n",
    "\n",
    "ii) Demonstrate that there can be three possible non-zero steady states if $r$ and $q$ lie in some domain given approximately by $SQ>4$.\n",
    "\n",
    "iii) Consider what happens for some chosen fixed $Q$ as $S$ varies.  Does this model exhibit hysteresis? Justify your answer using the code provided in the next cell to generate the relevant plots. "
   ]
  },
  {
   "cell_type": "markdown",
   "metadata": {},
   "source": [
    "2.i.\\\n",
    "$A$ and $K$ are capacity parameters with the same dimensions as $N$.\\\n",
    "$R$ has dimension $\\frac{1}{t}$ and $P$ is a rate parameters with the same dimensions as $\\frac{N}{t}$\\\n",
    "Let $N=An$ and $t=\\frac{A}{P}\\tau$, then\n",
    "$$P\\frac{dn}{d\\tau}=RAn\\left(1-\\frac{An}{K}\\right)-P\\left(1-\\exp\\left[-\\frac{n^2}{\\varepsilon}\\right]\\right)$$\n",
    "$$\\Rightarrow\\quad\\frac{dn}{d\\tau}=\\frac{AR}{P}n\\left(1-\\frac{n}{\\frac{K}{A}}\\right)-\\left(1-\\exp\\left[-\\frac{n^2}{\\varepsilon}\\right]\\right)$$\n",
    "$$\n",
    "\\Rightarrow\\quad{\\text{d} n \\over \\text{d} \\tau} = rn\\left(1-\\frac{n}{q}\\right) - \\left(1-\\exp\\left[-\\frac{n^2}{\\varepsilon}\\right]\\right)\n",
    "$$\n",
    "Where $r=\\frac{AR}{P}$ and $q=\\frac{K}{A}$. After re-scaling,\n",
    "$$\\sqrt{\\varepsilon}\\frac{dU}{d\\tau}=SU\\left(1-\\frac{U}{Q}\\right)-\\left(1-\\exp\\left[-U^2\\right]\\right)$$\n",
    "Let $\\tau=\\sqrt{\\varepsilon}s$, then\n",
    "$$\\frac{dU}{ds}=SU\\left(1-\\frac{U}{Q}\\right)-\\left(1-\\exp\\left[-U^2\\right]\\right)$$\n",
    "2.ii.\\\n",
    "Let $S=0.75$ and $Q=6$, then the python code shows $3$ non-zero intersections between $SU\\left(1-\\frac{U}{Q}\\right)$ and $\\left(1-\\exp\\left[-U^2\\right]\\right)$, so there are 3 non-steady states.\\\n",
    "2.iii.\\\n",
    "From the first plot, the non-zero steady states $x^*_1<x^*_2<x^*_3$ are stable, unstable, and stable respectively.\\\n",
    "If $S$ increases as $Q$ is fixed, as shown by the plots, then we get only $1$ additional stable steady state.\\\n",
    "If we started at the refuge state $x^*_1$, then the population would increase to the outbreak state $x^*_3$.\\\n",
    "After returning $S$ to the original value, the population remains at the outbreak state $x^*_3$.\\\n",
    "Therefore this model exhibits Hysteresis."
   ]
  },
  {
   "cell_type": "code",
   "execution_count": 2,
   "metadata": {},
   "outputs": [],
   "source": [
    "import matplotlib.pyplot as plt\n",
    "import numpy as np\n",
    "\n",
    "def question2(S,Q):\n",
    "    fig, ax = plt.subplots()\n",
    "\n",
    "    U = np.linspace(0.0, 6.0, num=100)\n",
    "    f1 = S*U*(1-U/Q)\n",
    "    f2 = (1-np.exp(-U**2))\n",
    "    \n",
    "    ax.plot(U, f1, label='f1'); \n",
    "    ax.plot(U,f2, label='f2');\n",
    "    ax.set_xlabel('U')\n",
    "    ax.legend();\n",
    "    ax.set_title(\"S = \"+str(S)+\", Q = \"+str(Q));"
   ]
  },
  {
   "cell_type": "code",
   "execution_count": 4,
   "metadata": {},
   "outputs": [
    {
     "data": {
      "image/png": "[encoded data removed]",
      "text/plain": [
       "<Figure size 432x288 with 1 Axes>"
      ]
     },
     "metadata": {
      "needs_background": "light"
     },
     "output_type": "display_data"
    },
    {
     "data": {
      "image/png": "[encoded data removed]",
      "text/plain": [
       "<Figure size 432x288 with 1 Axes>"
      ]
     },
     "metadata": {
      "needs_background": "light"
     },
     "output_type": "display_data"
    },
    {
     "data": {
      "image/png": "[encoded data removed]",
      "text/plain": [
       "<Figure size 432x288 with 1 Axes>"
      ]
     },
     "metadata": {
      "needs_background": "light"
     },
     "output_type": "display_data"
    }
   ],
   "source": [
    "question2(S = 3/4,Q = 6)\n",
    "question2(S = 0.8,Q = 6)\n",
    "question2(S = 1,Q = 6)"
   ]
  },
  {
   "cell_type": "markdown",
   "metadata": {},
   "source": [
    "## 3. \n",
    "Write down the ODEs describing the dynamics of the chemical concentrations\n",
    "\n",
    "i) $S+E \\underset{k_{-1}}{\\stackrel{k_1}{\\rightleftharpoons}} C \\xrightarrow{k_2} E+P$\n",
    "\n",
    "ii) $\\alpha X \\xrightarrow[]{k_1} \\beta Y+ \\gamma Z$\n",
    "\n",
    "iii) $\\alpha A + \\beta B \\underset{k_{-1}}{\\stackrel{k_1}{\\rightleftharpoons}} \\gamma C+ \\delta D$\n"
   ]
  },
  {
   "cell_type": "markdown",
   "metadata": {},
   "source": [
    "3.i.\\\n",
    "The ODEs are:\\\n",
    "$\n",
    "\\begin{align}\n",
    "\\frac{dc}{dt}&=k_1se-(k_{-1}+k_2)c \\\\\n",
    "\\frac{de}{dt}&=-k_1se+(k_{-1}+k_2)c \\\\\n",
    "\\frac{dp}{dt}&=k_2c \\\\\n",
    "\\frac{ds}{dt}&=-k_1se+k_{-1}c\n",
    "\\end{align}\n",
    "$\\\n",
    "3.ii.\\\n",
    "The ODEs are:\\\n",
    "$\n",
    "\\begin{align}\n",
    "\\frac{dx}{dt}&=-\\alpha k_1x^\\alpha \\\\\n",
    "\\frac{dy}{dt}&=\\beta k_1x^\\alpha \\\\\n",
    "\\frac{dz}{dt}&=\\gamma k_1x^\\alpha\n",
    "\\end{align}\n",
    "$\\\n",
    "3.iii.\\\n",
    "The ODEs are:\\\n",
    "$\n",
    "\\begin{align}\n",
    "\\frac{da}{dt}&=-\\alpha k_1a^\\alpha b^\\beta + \\alpha k_{-1}c^\\gamma d^\\delta \\\\\n",
    "\\frac{db}{dt}&=-\\beta k_1a^\\alpha b^\\beta + \\beta k_{-1}c^\\gamma d^\\delta \\\\\n",
    "\\frac{dc}{dt}&=\\gamma k_1a^\\alpha b^\\beta - \\gamma k_{-1}c^\\gamma d^\\delta \\\\\n",
    "\\frac{dd}{dt}&=\\delta k_1a^\\alpha b^\\beta - \\delta k_{-1}c^\\gamma d^\\delta\n",
    "\\end{align}\n",
    "$"
   ]
  },
  {
   "cell_type": "markdown",
   "metadata": {},
   "source": [
    "## 4. \n",
    "Assuming that $a$, $b$ and $c$ are constants, write down the corresponding reactions for each of the following ODEs\n",
    "\n",
    "i) $$\\frac{\\text{d} x}{\\text{d} t} = a x^2 - b x$$\n",
    "\n",
    "ii) $$\\frac{\\text{d} x}{\\text{d} t} = -a x^2 + b x$$\n",
    "\n",
    "iii) $$\\frac{\\text{d} y}{\\text{d} t} = a - b y,\\, \\frac{\\text{d} x}{\\text{d} t} = b y - 2 x$$\n",
    "\n",
    "iv) $$\\frac{\\text{d} x}{\\text{d} t} = a - 2b x^2,\\, \\frac{\\text{d} y}{\\text{d} t} = b x^2 - c y$$\n",
    "\n",
    "v) $$\\frac{\\text{d} x}{\\text{d} t} = a - b x^2,\\, \\frac{\\text{d} y}{\\text{d} t} = b x^2 - c y$$\n"
   ]
  },
  {
   "cell_type": "markdown",
   "metadata": {},
   "source": [
    "4.i.\\\n",
    "$$2X \\xrightarrow[]{a} 3X$$\n",
    "$$X \\xrightarrow[]{b} 0$$\n",
    "4.ii.\\\n",
    "$$2X\\underset{b}{\\stackrel{a}{\\rightleftharpoons}}X$$\n",
    "4.iii.\\\n",
    "$$Y \\xrightarrow[]{b} X \\xrightarrow[]{2} 0 \\xrightarrow[]{a} Y$$\n",
    "4.iv.\\\n",
    "$$2X \\xrightarrow[]{b} Y \\xrightarrow[]{c} 0 \\xrightarrow[]{a} X$$\n",
    "4.v.\\\n",
    "$$2X \\xrightarrow[]{b} X+Y$$\n",
    "$$Y \\xrightarrow[]{c} 0 \\xrightarrow[]{a} X$$"
   ]
  },
  {
   "cell_type": "markdown",
   "metadata": {},
   "source": [
    "## 5. \n",
    "<p> A biochemical switch: Zebra stripes and butterfly wing patterns are two of the most spectacular examples of biological pattern formation. Explaining the development of these patterns is one of the outstanding problems of biology.\n",
    "<p> As one ingredient in a model of pattern formation, consider a simple example of a biochemical switch, in which a gene $G$ is activated by a biochemical signal substance $S$. For example, the gene may normally be inactive but can be “switched on” to produce a pigment or other gene product when the concentration of $S$ exceeds a certain threshold. Let $g(t)$ denote the concentration of the gene product, and assume that the concentration $s_0$ of $S$ is fixed. The model is $$ \\frac{\\text{d} g}{\\text{d}t} = k_1s_0 - k_2g + \\frac{k_3g^2}{k_4^2+g^2} $$ where the $k$'s are positive constants. The production of $g$ is stimulated by $s_0$ at a rate $k_1$, and by an <i>autocatalytic</i> or positive feedback process (the nonlinear term). There is also a linear degradation of $g$ at a rate $k_2$. </p>\n",
    "\n",
    "i) Show that the system can be put in the dimensionless form $$ \\frac{\\text{d}x}{\\text{d}\\tau} = s-rx+\\frac{x^2}{1+x^2} $$ where $r>0$ and $s\\geq0$ are dimensionless groups.\n",
    "\n",
    "ii) Show that if $s = 0$, there are two positive fixed points $x^*$ if $r < r_c$, where $r_c$ is to be determined.\n",
    "\n",
    "iii) Assume that initially there is no gene product, i.e., $g (0) = 0$, and suppose $s$ is slowly increased from zero (the activating signal is turned on).  Explain graphically what happens to $g ( t ) $? What happens if $s$ then goes back to zero? Does the gene turn off again?\n",
    "\n",
    "iv) Find parametric equations \n",
    "\\begin{align}\n",
    "r(x) = \\frac{2x}{(1+x^2)^2}, s(x) = \\frac{x^2(x^2 - 1)}{(1 +x^2)^2}\n",
    "\\end{align}\n",
    "for the bifurcation curves in $( r, s )$ space, and classify the bifurcations that occur.\n",
    "\n",
    "v) Use the code in the next cell to plot of the stability diagram in $( r, s )$ space.  Indicate the any regions where bistability is possible. \n"
   ]
  },
  {
   "cell_type": "markdown",
   "metadata": {},
   "source": [
    "5.i.\\\n",
    "Let $g=k_4x$ and $t=\\frac{k_4}{k_3}\\tau$, then\n",
    "$$k_3\\frac{dx}{d\\tau}=k_1s_0-k_2k_4x+\\frac{k_3x^2}{1+x^2}$$\n",
    "$$\\Rightarrow\\frac{dx}{d\\tau}=\\frac{k_1s_0}{k_3}-\\frac{k_2k_4}{k_3}x+\\frac{x^2}{1+x^2}=s-rx+\\frac{x^2}{1+x^2}$$\n",
    "Where $s=\\frac{k_1s_0}{k_3}\\geq 0$ and $r=\\frac{k_2k_4}{k_3}>0$ since all $k$'s are positive and $s_0\\geq 0$.\n"
   ]
  },
  {
   "cell_type": "markdown",
   "metadata": {},
   "source": [
    "5.ii.\\\n",
    "Let $s=0$, then $\\frac{dx}{d\\tau}=0$ when\n",
    "\\begin{align}\n",
    "-rx+\\frac{x^2}{1+x^2}&=0 \\\\\n",
    "x^2&=rx(1+x^2)\n",
    "\\end{align}\\\n",
    "Since the fixed points are positive, $x\\neq 0$ so that\n",
    "\\begin{align}\n",
    "x&=r(1+x^2) \\\\\n",
    "x^2-\\frac{x}{r}+1&=0\n",
    "\\end{align}\\\n",
    "This has two solutions if $\\left(\\frac{1}{r}\\right)^2-4\\times 1\\times 1>0$ or equivalently $r<\\frac{1}{2}=r_c$."
   ]
  },
  {
   "cell_type": "markdown",
   "metadata": {},
   "source": [
    "5.iii.\\\n",
    "For $r>\\frac{1}{2}$, there is only 1 positive stable fixed point for $s$ sufficiently large so increasing $s$ causes $g$ to increase until reaching that stable fixed point. Then as $s$ decreases, $g$ returns to zero.\\\n",
    "For $r<\\frac{1}{2}$, there are 2 non-negative fixed points when $s=0$. Since the fixed point at zero $g(0)$ is stable when $s=0$, then the 2 other fixed points $x^*_1<x^*_2$ are unstable and stable respectively. As $s$ increases suffciently large, $g$ increases to the higher stable fixed point given by $x^*_2$. However, when $s$ decreases to 0, it stays at this positive fixed point. This model exhibits hysteresis."
   ]
  },
  {
   "cell_type": "markdown",
   "metadata": {},
   "source": [
    "5.iv.\\\n",
    "Bifurcations occur when $f(x)=0$ and $f'(x)=0$. Since $f'(x)=-r+\\frac{2x}{(1+x^2)^2}$ then $r(x)=\\frac{2x}{(1+x^2)^2}$.\n",
    "$$s(x)=r(x)x-\\frac{x^2}{(1+x^2)^2}=\\frac{2x^2}{(1+x^2)^2}-\\frac{x^2}{(1+x^2)^2}=\\frac{x^2(1-x^2)}{(1+x^2)^2}$$\n",
    "The saddle node bifurcation occurs when $(r,s)$ enters the region bounded by the parametric curve and $s>0$.\\\n",
    "Under particular rate of change of $r$ and $s$, a supercritical bifurcation can also occur."
   ]
  },
  {
   "cell_type": "code",
   "execution_count": 8,
   "metadata": {},
   "outputs": [
    {
     "data": {
      "image/png": "[encoded data removed]",
      "text/plain": [
       "<Figure size 432x288 with 1 Axes>"
      ]
     },
     "metadata": {
      "needs_background": "light"
     },
     "output_type": "display_data"
    }
   ],
   "source": [
    "fig, ax = plt.subplots() \n",
    "\n",
    "x = np.linspace(0.0, 10.0, num=100)\n",
    "r = 2*x/(1+x**2)**2\n",
    "s = x**2*(1-x**2)/(1+x**2)**2\n",
    "\n",
    "ax.plot(r, s); \n",
    "ax.set_xlabel('r');\n",
    "ax.set_ylabel('s');\n",
    "ax.set_xlim([0,0.7]);\n",
    "ax.set_ylim([0,0.15]);"
   ]
  },
  {
   "cell_type": "markdown",
   "metadata": {},
   "source": [
    "## 6. \n",
    "<p>Model of an epidemic: In pioneering work in epidemiology, Kermack and McKendrick (1927) proposed the following simple model for the evolution of an epidemic. Suppose that the population can be divided into three classes:\n",
    "$x ( t ) =$ number of healthy people; $y ( t ) =$ number of sick people; $z ( t ) =$ number of dead people. Assume that the total population remains constant in size, except for deaths due to the epidemic. (That is, the epidemic evolves so rapidly that we can ignore the slower changes in the populations due to births, emigration, or\n",
    "deaths by other causes.)</p>\n",
    "\n",
    "<p> Then the model is \n",
    "    \n",
    "\\begin{align}\n",
    "\\frac{\\text{d} x}{\\text{d}t} &= -kxy \\\\ \n",
    "\\frac{\\text{d} y}{\\text{d}t} &= kxy - ly \\\\\n",
    "\\frac{\\text{d} z}{\\text{d}t} &= ly \n",
    "\\end{align}\n",
    "\n",
    "where $k$ and $l$ are positive constants. The equations are based on two assumptions: \n",
    "\n",
    "(i) Healthy people get sick at a rate proportional to the product of $x$ and $y$. This would be true if healthy\n",
    "    and sick people encounter each other at a rate proportional to their numbers, and if there were a constant\n",
    "    probability that each such encounter would lead to transmission of the disease.\n",
    "    \n",
    "(ii) Sick people die at a constant rate $l$.\n",
    "</p>\n",
    "\n",
    "<p> The goal of this exercise is to reduce the model, which is a <i>third-order system</i>, to a first-order system that can analyzed by our methods.</p>\n",
    "\n",
    "\n",
    "\n",
    "i) Show that $x + y + z = N$, where $N$ is constant.\n",
    "\n",
    "ii) Use the $\\dot{x}$ and $\\dot{z}$ equation to show that $x(t) = x_0\\exp(-kz(t) / l)$, where $x_0 = x (0)$.\n",
    "\n",
    "iii) Show that $z$ satisfies the first-order equation $\\text {d}z/\\text{d}t  = l[N - z - x_0 \\exp(-kz/l)]$.\n",
    "\n",
    "iv) Show that this equation can be nondimensionalized to $$ \\frac{\\text{d}u}{\\text{d}\\tau} = a-bu-e^{-u} $$ by an appropriate rescaling. \n",
    "\n",
    "v) Show that $a \\geq 1$ and $b > 0$.\n",
    "\n",
    "vi) Determine the number of fixed points $u^*$ and classify their stability.\n",
    "\n",
    "vii) Show that the maximum of $\\text{d}u/\\text{d} t$ occurs at the same time as the maximum of both $\\text{d}z/\\text{d}t $ and $y ( t )$. (This time is called the ***peak*** of the epidemic, denoted $t_{\\text{peak}}$. At this time, there are more sick people and a higher daily death rate than at any other time.)\n",
    "\n",
    "viii) Show that if $b < 1$, then $\\text{d}u/\\text{d}t$ is increasing at $t = 0$ and reaches its maximum at\n",
    "some time $t_{\\text{peak}}> 0$. Thus things get worse before they get better. (The term epidemic is reserved for this case.) Show that $\\text{d}u/\\text{d}t$ eventually decreases to $0$.\n",
    "\n",
    "ix) On the other hand, show that $t_{\\text{peak}} = 0$ if $b > 1$. (Hence no epidemic occurs if $b > 1$.)\n",
    "\n",
    "x) The condition $b = 1$ is the *threshold* condition for an epidemic to occur. Can you give a biological interpretation of this condition?\n"
   ]
  },
  {
   "cell_type": "markdown",
   "metadata": {},
   "source": [
    "6.i.\\\n",
    "$$\\frac{d(x+y+z)}{dt}=\\frac{dx}{dt}+\\frac{dy}{dt}+\\frac{dz}{dt}=0$$\n",
    "So $x+y+z$ is a constant, i.e. total population size $N$.\\\n",
    "6.ii.\\\n",
    "From the previous part, $y=N-x-z$ so that\n",
    "\\begin{align}\n",
    "\\frac{dx}{dt}&=-kx(N-x-z) \\\\\n",
    "\\frac{dz}{dt}&=l(N-x-z)\n",
    "\\end{align}\\\n",
    "\\begin{align}\n",
    "\\Rightarrow&\\quad\\frac{dx}{dz}=\\frac{-kx}{l} \\\\\n",
    "\\Rightarrow&\\quad\\int_{x_0}^x\\frac{1}{u}du=\\int_0^z\\frac{-k}{l}dv \\\\\n",
    "\\Rightarrow&\\quad\\ln\\frac{x}{x_0}=\\frac{-kz}{l}dv \\\\\n",
    "\\Rightarrow&\\quad x=x_0\\exp\\left[\\frac{-kz}{l}\\right]\n",
    "\\end{align}\\\n",
    "6.iii.\\\n",
    "$$\\frac{dz}{dt}=l(N-x-z)=l\\left(N-x_0\\exp\\left[\\frac{-kz}{l}\\right]-z\\right)$$\n",
    "6.iv.\\\n",
    "Let $z=\\frac{l}{k}u$ and $t=\\frac{1}{kx_0}\\tau$, then\n",
    "$$lx_0\\frac{du}{d\\tau}=l\\left(N-x_0e^{-u}-\\frac{l}{k}u\\right)$$\n",
    "$$\\frac{du}{d\\tau}=\\frac{N}{x_0}-\\frac{l}{kx_0}u-e^{-u}$$\n",
    "Where $a=\\frac{N}{x_0}$ and $b=\\frac{l}{kx_0}$\\\n",
    "6.v.\\\n",
    "Since $0<x_0\\leq N$, then $a=\\frac{N}{x_0}\\geq 1$.\\\n",
    "Since $l,k,x_0>0$, then $b=\\frac{l}{kx_0}>0$.\\\n",
    "6.vi.\\\n",
    "\\begin{align}\n",
    "f(u)&=a-bu-e^{-u} \\\\\n",
    "f'(u)&=e^{-u}-b\n",
    "\\end{align}\\\n",
    "Solving $f(u)=0$ and $f'(u)=0$ gives $u=-\\ln{b}$ and $a+b\\ln{b}=b$ for which $a,b=1$ under the constraint of $a\\geq 1$. Therefore,\\\n",
    "For $a=1,b\\geq 1$, $u^*=0$ is the only fixed point and is unstable.\\\n",
    "For $a=1,0<b<1$, $2$ fixed points exist: $u_1^*=0$ is unstable, and $u_2^*>0$ is stable.\\\n",
    "For $a>1$, $u^*>0$ is the only fixed point and is stable.\\\n",
    "6.vii.\\\n",
    "Notice that\n",
    "\\begin{align}\n",
    "\\frac{dz}{dt}=l\\left(N-x-z\\right) \\\\\n",
    "\\frac{du}{dt}=k\\left(N-x-z\\right) \\\\\n",
    "y=\\left(N-x-z\\right)\n",
    "\\end{align}\\\n",
    "They only differ by a scalar, so the argmax of all these quantities are the same $t_\\text{peak}$.\\\n",
    "6.viii.\\\n",
    "Let $b<1$, supposing $z(0)=0$, then $u(0)=0\\Rightarrow f'(u)=1-b>0$ which means $\\frac{du}{dt}$ is increasing at $t=0$.\\\n",
    "Since $f'(u)<0\\,\\forall u>-\\ln b>0$ then $\\frac{du}{dt}$ is decreasing at some point $\\tilde{t}>0$. Therefore, $\\exists t_\\text{peak}\\in(0,\\tilde{t})$ such that $\\frac{du}{dt}$ reaches its maximum.\\\n",
    "As $u$ increases, $a-bu\\gg e^{-u}$. Since the maximum $\\frac{du}{dt}$ occurs at $t_\\text{peak}$ and $f\\left(\\frac{a}{b}\\right)<0$, then by continuity of $f$, $\\frac{du}{dt}=0$ at some $t^*\\in(t_\\text{peak},t_1)$ such that $u(t_1)=\\frac{a}{b}$.\\\n",
    "6.ix.\\\n",
    "If $b>1$, then $f'(u)=e^{-u}-b<0$ for all $u\\geq 0$, so $\\frac{du}{dt}$ is decreasing and hence maximum is at $u=0$, which means $t_\\text{peak}=0$.\\\n",
    "6.x.\\\n",
    "If $b=\\frac{l}{kx_0}=1$, then $l=kx_0$ which means that the death rate equal to the infection rate times the initial population."
   ]
  },
  {
   "cell_type": "code",
   "execution_count": null,
   "metadata": {},
   "outputs": [],
   "source": []
  }
 ],
 "metadata": {
  "kernelspec": {
   "display_name": "Python 3",
   "language": "python",
   "name": "python3"
  },
  "language_info": {
   "codemirror_mode": {
    "name": "ipython",
    "version": 3
   },
   "file_extension": ".py",
   "mimetype": "text/x-python",
   "name": "python",
   "nbconvert_exporter": "python",
   "pygments_lexer": "ipython3",
   "version": "3.8.3"
  },
  "latex_envs": {
   "LaTeX_envs_menu_present": true,
   "autoclose": false,
   "autocomplete": true,
   "bibliofile": "biblio.bib",
   "cite_by": "apalike",
   "current_citInitial": 1,
   "eqLabelWithNumbers": true,
   "eqNumInitial": 1,
   "hotkeys": {
    "equation": "Ctrl-E",
    "itemize": "Ctrl-I"
   },
   "labels_anchors": false,
   "latex_user_defs": false,
   "report_style_numbering": false,
   "user_envs_cfg": false
  },
  "toc": {
   "base_numbering": 1,
   "nav_menu": {},
   "number_sections": true,
   "sideBar": true,
   "skip_h1_title": false,
   "title_cell": "Table of Contents",
   "title_sidebar": "Contents",
   "toc_cell": false,
   "toc_position": {},
   "toc_section_display": true,
   "toc_window_display": false
  }
 },
 "nbformat": 4,
 "nbformat_minor": 4
}
