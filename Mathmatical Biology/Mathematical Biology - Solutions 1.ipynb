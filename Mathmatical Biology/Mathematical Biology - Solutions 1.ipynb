{
 "cells": [
  {
   "cell_type": "markdown",
   "metadata": {},
   "source": [
    "# Solutions"
   ]
  },
  {
   "cell_type": "markdown",
   "metadata": {},
   "source": [
    "## 1."
   ]
  },
  {
   "cell_type": "markdown",
   "metadata": {},
   "source": [
    "i) The steady states are solutions to the equation\n",
    "\\begin{align*}\n",
    "f(N,E)&=0\\\\\n",
    "\\left(r\\left(1-\\frac{N}{K}\\right)-E\\right)N&=0. \n",
    "\\end{align*}\n",
    "\n",
    "The solutions are $N_1=0$, and $\\left(1- E/r\\right)K$.  If $E < r$, then $N_1$ is unstable and $N_2$ is stable, as $f > 0$ for $0 < N < N_2$ and $f < 0$ for $N > N_2$."
   ]
  },
  {
   "cell_type": "markdown",
   "metadata": {},
   "source": [
    "ii) If $E>r$, then $f(N,E)<0$, and hence the population size is always decreasing.  As $N_{1}$ will be the only positive steady state, we the population will be reduced to zero."
   ]
  },
  {
   "cell_type": "markdown",
   "metadata": {},
   "source": [
    "iii) We substitute $N_2$ into $Y$ to find\n",
    "\n",
    "\\begin{align*}\n",
    "Y=EK\\left(1-\\frac{E}{R}\\right)\\implies {\\text{d} Y \\over \\text{d} E} = K\\left(1-2\\frac{E}{r}\\right).\n",
    "\\end{align*}\n",
    "\n",
    "The maximum yield is achieved when the harvesting effort is $E = r/2$ and therefore $Y^{*}=rK/4$ and $N_{2}^{*}=K/2$.  We note this value corresponds to a maximum (${\\text{d}^2 Y \\over \\text{d} E^{2}}$ is negative), so increasing $E$ any further will decrease the yield."
   ]
  },
  {
   "cell_type": "markdown",
   "metadata": {},
   "source": [
    "iv) From the definition we have,\n",
    "\n",
    "\\begin{align*}\n",
    "T_{R}(N_{2})=-\\frac{1}{f'(N_2)} =- \\frac{1}{r(1-rN_{2}/K)-E} = -\\frac{1}{r(1-2(1-E/r))-E}=-\\frac{1}{E-r}=\\frac{1}{r-E}.\n",
    "\\end{align*}"
   ]
  },
  {
   "cell_type": "markdown",
   "metadata": {},
   "source": [
    "v) If $N$ decreases then the only way to maintain a steady yield $Y$ is to increase $E$.  An increase in $E$ however, increases the recovery time so the population spends longer away from the steady state $N_{2}$.  This negative feedback would then cause us to increase $E$ further.  We have already noted that $E$ has an optimum value beyond which there is no point increasing it."
   ]
  },
  {
   "cell_type": "markdown",
   "metadata": {},
   "source": [
    "## 2."
   ]
  },
  {
   "cell_type": "markdown",
   "metadata": {},
   "source": [
    "i) From the equations, we observe that $R$ has dimension [1/time], $A$ and $K$ have dimension [larvae] and $P$ has dimension [larvae/time]. A suitable non-dimensionalisation is therefore $N=An$, $T=(A/P)\\tau$ so that the system becomes:\n",
    "\n",
    "\\begin{align*}\n",
    "\\frac{P}{A}A{\\text{d}  n \\over \\text{d} \\tau} &= RAn\\left(1-\\frac{A}{K}n\\right)-P\\left(1-\\exp \\left(-\\frac{n^2}{\\varepsilon}\\right)\\right) \\\\\n",
    " {\\text{d}  n \\over \\text{d} \\tau}&=\\frac{RA}{P}n\\left(1-\\frac{A}{K}n\\right)-\\left(1-\\exp \\left(-\\frac{n^2}{\\varepsilon}\\right)\\right) \\\\\n",
    " {\\text{d}  n \\over \\text{d} \\tau}&=rn\\left(1-\\frac{n}{q}\\right)-\\left(1-\\exp \\left(-\\frac{n^2}{\\varepsilon}\\right)\\right).\n",
    "\\end{align*} \n",
    "\n",
    "where $r=RA/P$ and $q=K/A$ are dimensionless constants.\n",
    "\n",
    "If we rescale the system by $n=\\sqrt{\\varepsilon}U$, $r=S/\\sqrt{\\varepsilon}$ and $q=Q\\sqrt{\\varepsilon}$ we have\n",
    "\\begin{align*}\n",
    "\\sqrt{\\varepsilon} \\frac{\\text{d} U}{ \\text{d}{\\tau}} = SU(1-U/Q)-(1-\\exp(-U^{2})).\n",
    "\\end{align*}"
   ]
  },
  {
   "cell_type": "markdown",
   "metadata": {},
   "source": [
    "ii) Steady states are given by $\\text{d}U/\\text{d}\\tau = 0$ and therefore occur when $f_1 = f_2$, where \n",
    "\n",
    "\\begin{align*}\n",
    "f_{1}&=SU\\left(1-\\frac{U}{Q}\\right) \\\\\n",
    "f_{2}&=\\left(1-\\exp \\left(-U^2\\right)\\right)\n",
    "\\end{align*}\n",
    "\n",
    "We can make the following observations\n",
    "<ol>\n",
    "\n",
    "<li> $df_{2}/dU = 2U\\exp \\left(-U^2\\right)$ so $f_{2}$ is monotonically increasing with $U$ </li>\n",
    "<li> $f_{2} \\to 1$ as $U\\to \\infty$.</li>\n",
    "<li> $f_{1}$ instead is a quadratic, which has a maximum at $U_{*}=Q/2$ with $f_{1}(U_{*}) = SQ/4$.</li>\n",
    "<li> By considering the Taylor expansion of $f_{2}$ for small enough $U$, it follows that for sufficiently small $U$, $f_1 > f_2$ </li>\n",
    "</ol>\n",
    "\n",
    "Hence, if $SQ/4<1$ then there can be at most two solutions. One at $U=0$ and the other for some small value of $U=U_{1}$. The existence of the latter follows as $f_{1}>f_{2}$ for sufficiently small $U$ but if $SQ/4<1$ then $f_{1}<f_{2}$ for some $U<Q/2$. This is shown below in Figure 1, where $(S,Q)=(1/2,6)$.   \n",
    "\n",
    "If $SQ/4$ is slightly above $1$, then there are two more solutions (four total) near where $f_{1}=1$, for which $U_{2,3}\\approx \\frac{SQ \\pm \\sqrt{Q^2S^2-4SQ}}{2S}$.   This is shown below in Figure 2, where $(S,Q)=(23/30,6)$. \n",
    "\n",
    "Eventually when $SQ/4 \\gg 1$ then $U_{1}=U_{2}$, and we will return to regime where we have one steady state given by $U_{3} \\approx  \\frac{SQ + \\sqrt{S^2Q^2-4SQ}}{2S}$.  This is shown below in Figure 3, where where $(S,Q)=(5/6,6)$. "
   ]
  },
  {
   "cell_type": "code",
   "execution_count": 1,
   "metadata": {},
   "outputs": [],
   "source": [
    "import matplotlib.pyplot as plt\n",
    "import numpy as np"
   ]
  },
  {
   "cell_type": "code",
   "execution_count": 2,
   "metadata": {},
   "outputs": [],
   "source": [
    "def question2(S,Q):\n",
    "    fig, ax = plt.subplots() \n",
    "\n",
    "    U = np.linspace(0.0, 6.0, num=100)\n",
    "    f1 = S*U*(1-U/Q)\n",
    "    f2 = (1-np.exp(-U**2))\n",
    "    \n",
    "    ax.plot(U, f1, label='f1'); \n",
    "    ax.plot(U,f2, label='f2');\n",
    "    ax.set_xlabel('U')\n",
    "    ax.legend();\n",
    "    ax.set_title(\"S = \"+str(S)+\", Q = \"+str(Q));"
   ]
  },
  {
   "cell_type": "code",
   "execution_count": 3,
   "metadata": {},
   "outputs": [
    {
     "name": "stdout",
     "output_type": "stream",
     "text": [
      "Figure 1:\n"
     ]
    },
    {
     "data": {
      "image/png": "[encoded data removed]",
      "text/plain": [
       "<Figure size 432x288 with 1 Axes>"
      ]
     },
     "metadata": {
      "needs_background": "light"
     },
     "output_type": "display_data"
    }
   ],
   "source": [
    "print(\"Figure 1:\")\n",
    "question2(S=1/2,Q=6)"
   ]
  },
  {
   "cell_type": "code",
   "execution_count": 4,
   "metadata": {},
   "outputs": [
    {
     "name": "stdout",
     "output_type": "stream",
     "text": [
      "Figure 2:\n"
     ]
    },
    {
     "data": {
      "image/png": "[encoded data removed]",
      "text/plain": [
       "<Figure size 432x288 with 1 Axes>"
      ]
     },
     "metadata": {
      "needs_background": "light"
     },
     "output_type": "display_data"
    }
   ],
   "source": [
    "print(\"Figure 2:\")\n",
    "question2(S=23/30,Q=6)"
   ]
  },
  {
   "cell_type": "code",
   "execution_count": 5,
   "metadata": {},
   "outputs": [
    {
     "name": "stdout",
     "output_type": "stream",
     "text": [
      "Figure 3:\n"
     ]
    },
    {
     "data": {
      "image/png": "[encoded data removed]",
      "text/plain": [
       "<Figure size 432x288 with 1 Axes>"
      ]
     },
     "metadata": {
      "needs_background": "light"
     },
     "output_type": "display_data"
    }
   ],
   "source": [
    "print(\"Figure 3:\")\n",
    "question2(S=5/6,Q=6)"
   ]
  },
  {
   "cell_type": "markdown",
   "metadata": {},
   "source": [
    "iii) As evident from the figures above, for fixed $Q$ the model could exhibit hysteresis.  In addition to the unstable fixed point at the origin we have the non-zero stable fixed point, $U_{1}$, for $S$ sufficiently small (Figure 1).  As $S$ increases, two additional fixed points emerge through a saddle-node bifurcation with $U_{2}>U_{1}$ which is unstable, and $U_{3}>U_{2}$ which is stable (Figure 2).  As $S$ increases further, $U_{1}$ and $U_2$ are annihilated through a saddle-node bifurcation, and the only stable fixed point will be $U_{3}$.  So as $S$ increases for fixed $Q$, our population can jump from fixed point $U_{1}$ to $U_{3}$.  The reverse happens as $S$ is decreased."
   ]
  },
  {
   "cell_type": "markdown",
   "metadata": {},
   "source": [
    "## 3.\n",
    "\n",
    "Through a direct application of the law of mass action, we can convert the symbolic representations of reactions to differential equations for the concentration dynamics"
   ]
  },
  {
   "cell_type": "markdown",
   "metadata": {},
   "source": [
    "i) \n",
    "\\begin{align}\n",
    "S + E &\\xrightarrow{k_1} C\\\\\n",
    "C &\\xrightarrow{k_{-1}} S+E\\\\\n",
    "C &\\xrightarrow{k_2} E+P \\\\\n",
    "\\end{align}\n",
    "\n",
    "\\begin{align}\n",
    "\\frac{\\text{d}C}{\\text{d}t} &= k_1 SE - k_{-1}C - k_{2}C \\\\\n",
    "\\frac{\\text{d}S}{\\text{d}t} &= -k_1 SE + k_{-1} C \\\\\n",
    "\\frac{\\text{d}E}{\\text{d}t} &= -k_1SE + k_{-1}C + k_2C \\\\\n",
    "\\frac{\\text{d}P}{\\text{d}t} &= k_2 C\n",
    "\\end{align}"
   ]
  },
  {
   "cell_type": "markdown",
   "metadata": {},
   "source": [
    "ii) \n",
    "\\begin{align}\n",
    "\\alpha X &\\xrightarrow{k_1} \\beta Y + \\gamma Z \\\\\n",
    "\\\\\n",
    "\\frac{\\text{d}X}{\\text{d}t} &= -\\alpha X^{\\alpha} \\\\\n",
    "\\frac{\\text{d}Y}{\\text{d}t} &= \\beta X^{\\alpha} \\\\\n",
    "\\frac{\\text{d}Z}{\\text{d}t} &= \\gamma X^{\\alpha} \\\\\n",
    "\\end{align}"
   ]
  },
  {
   "cell_type": "markdown",
   "metadata": {},
   "source": [
    "iii) \n",
    "\\begin{align}\n",
    "\\alpha A + \\beta B &\\xrightarrow{k_1} \\gamma C + \\delta D \\\\\n",
    "\\gamma C + \\delta D &\\xrightarrow{k_{-1}} \\alpha A + \\beta B \\\\\n",
    "\\\\\n",
    "\\frac{\\text{d} A}{\\text{d}t} &= -\\alpha A^{\\alpha} B^{\\beta}k_1 + \\alpha C^{\\gamma} D^{\\delta}k_{-1} \\\\\n",
    "\\frac{\\text{d} B}{\\text{d}t} &= -\\beta A^{\\alpha} B^{\\beta} k_1 + \\beta C^{\\gamma} D^{\\delta}k_{-1} \\\\\n",
    "\\frac{\\text{d} C}{\\text{d}t} &= \\gamma A^{\\alpha} B^{\\beta} k_1 - \\gamma C^{\\gamma} D^{\\delta}k_{-1} \\\\\n",
    "\\frac{\\text{d} D}{\\text{d}t} &= \\delta A^{\\alpha} B^{\\beta} k_1 - \\delta C^{\\gamma} D^{\\delta}k_{-1}\n",
    "\\end{align}"
   ]
  },
  {
   "cell_type": "markdown",
   "metadata": {},
   "source": [
    "## 4.\n",
    "\n",
    "Again, using the law of mass action, we can infer from the differential equation a symbolic representation of it as a chemical reaction."
   ]
  },
  {
   "cell_type": "markdown",
   "metadata": {},
   "source": [
    "i) \\begin{align}\n",
    "\\frac{\\text{d}x}{\\text{d}t} &= a x^2 - b x \\\\\n",
    "\\\\\n",
    "2x &\\xrightarrow{a} 3x \\\\\n",
    "x &\\xrightarrow{b} 0\n",
    "\\end{align}"
   ]
  },
  {
   "cell_type": "markdown",
   "metadata": {},
   "source": [
    "ii) \\begin{align}\n",
    "\\frac{\\text{d}x}{\\text{d}t} &= -a x^2 + b x \\\\\n",
    "\\\\\n",
    "2x &\\xrightarrow{a} x \\\\\n",
    "x &\\xrightarrow{b} 2x\n",
    "\\end{align}"
   ]
  },
  {
   "cell_type": "markdown",
   "metadata": {},
   "source": [
    "iii) \\begin{align}\n",
    "\\frac{\\text{d}y}{\\text{d}t} &= a - b y \\\\\n",
    "\\frac{\\text{d}x}{\\text{d}t} &= by - 2x \\\\\n",
    "\\\\\n",
    "0 &\\xrightarrow{a} y \\\\\n",
    "y &\\xrightarrow{b} x \\\\\n",
    "x &\\xrightarrow{2} 0\n",
    "\\end{align}"
   ]
  },
  {
   "cell_type": "markdown",
   "metadata": {},
   "source": [
    "iv) \\begin{align}\n",
    "\\frac{\\text{d}x}{\\text{d}t} &= a - 2bx^2 \\\\\n",
    "\\frac{\\text{d}y}{\\text{d}t} &= bx^2 - cy \\\\\n",
    "\\\\\n",
    "y &\\xrightarrow{c} 0 \\\\\n",
    "0 &\\xrightarrow{a} x \\\\\n",
    "2x &\\xrightarrow{b} y\n",
    "\\end{align}"
   ]
  },
  {
   "cell_type": "markdown",
   "metadata": {},
   "source": [
    "v)\n",
    "\\begin{align*}\n",
    "\\frac{\\text{d} x}{\\text{d} t} &= a - b x^2,\\\\\n",
    "\\frac{\\text{d} y}{\\text{d} t} &= b x^2 - c y\n",
    "\\end{align*}\n",
    "\n",
    "\\begin{align}\n",
    "0 &\\xrightarrow{a} x \\\\\n",
    "2x &\\xrightarrow{b} x + y\\\\\n",
    "y &\\xrightarrow{c} 0\n",
    "\\end{align}"
   ]
  },
  {
   "cell_type": "markdown",
   "metadata": {},
   "source": [
    "## 5.\n",
    "A biochemical switch:\n",
    "\n",
    "$$\\frac{\\text{d}g}{\\text{d}t} = k_1 s_0 - k_2 g + \\frac{k_3 g^2}{ k_4^2 + g^2}$$"
   ]
  },
  {
   "cell_type": "markdown",
   "metadata": {},
   "source": [
    "i) \n",
    "Taking\n",
    "$$g = k_4 x \\,, \\qquad t = k_4 \\frac{\\tau}{k_3}$$,\n",
    "then\n",
    "\\begin{align*}\n",
    "\\\\\n",
    "\\frac{\\text{d}x}{\\text{d}\\tau} &= \\frac{k_1 s_0}{k_3} - \\frac{k_2 k_4}{k_3} x + \\frac{x^2}{1+x^2} \\\\\n",
    "&= s - rx + \\frac{x^2}{1+x^2}\\\\\n",
    "\\\\\n",
    "\\end{align*}\n",
    "So the dimensionless $s$ and $r$ are given by\n",
    "$$s = \\frac{s_0 k_1}{k_3}\\,, \\qquad r = \\frac{k_2k_4}{k_3}$$"
   ]
  },
  {
   "cell_type": "markdown",
   "metadata": {},
   "source": [
    "ii) For $s = 0$ we consider $$ 0 = -rx + \\frac{x^2}{1+x^2} $$\n",
    "Thus the fixed points are given by $x^*=0$ and the solutions to $$x = r(1+x^2)$$, which are\n",
    "\\begin{align*}\n",
    "x^* = \\frac{1 \\pm \\sqrt{1-4r^2}}{2r}\n",
    "\\end{align*}\n",
    "The critical value of $r$, $r_c$, is given by the condtion $1-4r_c^2 = 0$, which yields $r_c = 1/2$.  Thus, if $r<r_c$ we have $x^* = 0$ and two additional positive fixed points."
   ]
  },
  {
   "cell_type": "markdown",
   "metadata": {},
   "source": [
    "iii) Here, we consider how the fixed points change as $s$ is slowly increased.  Thus, we consider $$0 = s-rx+\\frac{x^2}{1+x^2}$$"
   ]
  },
  {
   "cell_type": "code",
   "execution_count": 6,
   "metadata": {},
   "outputs": [],
   "source": [
    "def question5(r,s):\n",
    "    fig, ax = plt.subplots() \n",
    "\n",
    "    x = np.linspace(-0.0, 2.5, num=100)\n",
    "    f1 = r*x-s\n",
    "    f2 = x**2/(1+x**2)\n",
    "    \n",
    "    ax.plot(x, f1, label='rx - s'); \n",
    "    ax.plot(x,f2, label='x^2/(1+x^2)');\n",
    "    ax.set_xlabel('x')\n",
    "    ax.legend();"
   ]
  },
  {
   "cell_type": "markdown",
   "metadata": {},
   "source": [
    "With $s = 0$ and $x = 0$, we begin at the fixed point at the origin.  "
   ]
  },
  {
   "cell_type": "code",
   "execution_count": 7,
   "metadata": {},
   "outputs": [
    {
     "data": {
      "image/png": "[encoded data removed]",
      "text/plain": [
       "<Figure size 432x288 with 1 Axes>"
      ]
     },
     "metadata": {
      "needs_background": "light"
     },
     "output_type": "display_data"
    }
   ],
   "source": [
    "question5(r = 0.4,s = 0)"
   ]
  },
  {
   "cell_type": "markdown",
   "metadata": {},
   "source": [
    "If we slowly raise $s$, $g$ will also increase as shown in the figure below.  "
   ]
  },
  {
   "cell_type": "code",
   "execution_count": 8,
   "metadata": {},
   "outputs": [
    {
     "data": {
      "image/png": "[encoded data removed]",
      "text/plain": [
       "<Figure size 432x288 with 1 Axes>"
      ]
     },
     "metadata": {
      "needs_background": "light"
     },
     "output_type": "display_data"
    }
   ],
   "source": [
    "question5(r = 0.4,s = 0.02)"
   ]
  },
  {
   "cell_type": "markdown",
   "metadata": {},
   "source": [
    "At this point, returning $s$ to zero will return $g$ to zero.  If we instead continue to increase $s$ $g$ jumps to the large stable fixed point (see figure below). If $s$ is lowered, $g$ will remain at this fixed point, rather than returning to zero."
   ]
  },
  {
   "cell_type": "code",
   "execution_count": 9,
   "metadata": {},
   "outputs": [
    {
     "data": {
      "image/png": "[encoded data removed]",
      "text/plain": [
       "<Figure size 432x288 with 1 Axes>"
      ]
     },
     "metadata": {
      "needs_background": "light"
     },
     "output_type": "display_data"
    }
   ],
   "source": [
    "question5(r = 0.4,s = 0.1)"
   ]
  },
  {
   "cell_type": "markdown",
   "metadata": {},
   "source": [
    "iv) To find the equations, we must satisfy $f=0$ and $\\frac{\\text{d}f}{\\text{d}x}=0$ simultaneously.\n",
    "\n",
    "\\begin{align}\n",
    "\\frac{\\text{d}f}{\\text{d}x} &= -r + \\frac{2x}{(1+x^2)^2} = 0\n",
    "\\end{align}\n",
    "\n",
    "gives\n",
    "\n",
    "\\begin{align}\n",
    "r = \\frac{2x}{(1+x^2)^2}\n",
    "\\end{align}\n",
    "\n",
    "Substituting this into $f$, we have\n",
    "\n",
    "\\begin{align}\n",
    "0&=s-\\frac{2x^2}{(1+x^2)^2} + \\frac{x^2}{1+x^2}\\\\\n",
    "s &= \\frac{x^2(1-x^2)}{(1+x^2)^2}\n",
    "\\end{align}\n"
   ]
  },
  {
   "cell_type": "markdown",
   "metadata": {},
   "source": [
    "v)"
   ]
  },
  {
   "cell_type": "code",
   "execution_count": 10,
   "metadata": {
    "scrolled": false
   },
   "outputs": [
    {
     "data": {
      "text/plain": [
       "Text(0.2, 0.06, '1 fixed point')"
      ]
     },
     "execution_count": 10,
     "metadata": {},
     "output_type": "execute_result"
    },
    {
     "data": {
      "image/png": "[encoded data removed]",
      "text/plain": [
       "<Figure size 432x288 with 1 Axes>"
      ]
     },
     "metadata": {
      "needs_background": "light"
     },
     "output_type": "display_data"
    }
   ],
   "source": [
    "fig, ax = plt.subplots() \n",
    "\n",
    "x = np.linspace(0.0, 10.0, num=100)\n",
    "r = 2*x/(1+x**2)**2\n",
    "s = x**2*(1-x**2)/(1+x**2)**2\n",
    "ax.plot(r, s); \n",
    "ax.set_xlabel('r');\n",
    "ax.set_ylabel('s');\n",
    "ax.set_xlim([0,0.7]);\n",
    "ax.set_ylim([0,0.15]);\n",
    "ax.text(0.3, 0.01, '3 fixed points', fontsize=12)\n",
    "ax.text(0.2, 0.06, '1 fixed point', fontsize=12)"
   ]
  },
  {
   "cell_type": "markdown",
   "metadata": {},
   "source": [
    "Along the curves, saddle-node bifurcations occur."
   ]
  },
  {
   "cell_type": "markdown",
   "metadata": {},
   "source": [
    "## 6."
   ]
  },
  {
   "cell_type": "markdown",
   "metadata": {},
   "source": [
    "i) Summing the differential equations, we have \n",
    "\\begin{align*}\n",
    "\\frac{dx}{dt} + \\frac{dy}{dt} + \\frac{dz}{dt} = -kxy +kxy -ly +ly =0\n",
    "\\end{align*}\n",
    "\n",
    "Thus,\n",
    "$$ x + y + z = N = \\text{const.}$$"
   ]
  },
  {
   "cell_type": "markdown",
   "metadata": {},
   "source": [
    "ii) From the differential equation for $z$, we have $y = (1/l)dz/dt$.  Substituting this expression into the differential equation for $x$ gives\n",
    "\n",
    "\\begin{align*}\n",
    "\\frac{dx}{dt} = -\\frac{k}{l} x \\frac{dz}{dt} \n",
    "\\end{align*}\n",
    "\n",
    "This equation is separable and upon integration yields\n",
    "\n",
    "\\begin{align*}\n",
    "\\log x = -\\frac{k}{l} z + c_1,\n",
    "\\end{align*}\n",
    "\n",
    "or \n",
    "\n",
    "\\begin{align*}\n",
    "x = c_2 \\mathrm{e}^{-k z(t) / l}.\n",
    "\\end{align*}\n",
    "\n",
    "Applying the initial condition $x(0) = x_0$ and $z(0) = 0$, we arrive at\n",
    "\n",
    "\\begin{align*}\n",
    "x = x_0 \\mathrm{e}^{-k z(t) / l}.\n",
    "\\end{align*}"
   ]
  },
  {
   "cell_type": "markdown",
   "metadata": {},
   "source": [
    "iii)\n",
    "Recall from part i) that \n",
    "$$ y = N - z - x. $$\n",
    "Substituting this expression for $y$ into the differential equation for $z$ gives \n",
    "$${dz}{dt} = l[N - z - x].\\\\\n",
    "$$\n",
    "Finally, using our expression for $x$ in terms of $z$ we obtain,\n",
    "\n",
    "\\begin{align*}\n",
    "{dz}{dt} &= l[N - z - x_0 \\mathrm{e}^{-kz/l}]\\\\\n",
    "&= lN -lz -lx_0 \\mathrm{e}^{-kz/l}\n",
    "\\end{align*}"
   ]
  },
  {
   "cell_type": "markdown",
   "metadata": {},
   "source": [
    "iv) To nondimensionalise, we introduce $u$ and $\\tau$ such that \n",
    "\\begin{align*}\n",
    "z = \\frac{l}{k}u, \\text{   } t = \\frac{\\tau}{x_0 k}.\n",
    "\\end{align*}\n",
    "\n",
    "Substituting these expressions into the differential equation for $z$, we have\n",
    "\\begin{align*}\n",
    "lx_0 \\frac{du}{d\\tau} = lN - \\frac{l^2}{k}u - l x_0 \\mathrm{e}^{-u}\n",
    "\\end{align*}\n",
    "\n",
    "Cancelling factors, it follows that $$a = \\frac{N}{x_0} \\,, \\qquad b = \\frac{l}{x_0k}$$"
   ]
  },
  {
   "cell_type": "markdown",
   "metadata": {},
   "source": [
    "v) At $t = 0$, we have $$ x_0 + y_0 + z_0 = N \\, , \\qquad x_0 \\geq 0 \\, , y_0 \\geq 0 \\,, z_0 \\geq 0 $$\n",
    "\n",
    "If $y_0 = z_0 = 0$, we have $x_0 = N$. \n",
    "\n",
    "If $y_0>0$ or $z_0>0$, we have $x_0<N$. \n",
    "\n",
    "Thus, $a\\geq1$. \n",
    "\n",
    "$b = \\frac{l}{x_0 k}$\n",
    "\n",
    "$l>0$ and $k>0$. Thus $b>0$ if $x_0>0$."
   ]
  },
  {
   "cell_type": "markdown",
   "metadata": {},
   "source": [
    "vi)\n",
    "The fixed points are given by \n",
    "\\begin{align}\n",
    "a = g(u)\n",
    "\\end{align}\n",
    "where \n",
    "\n",
    "\\begin{align*}\n",
    "g(u) = bu + \\text{e}^{-u}\n",
    "\\end{align*}\n",
    "\n",
    "Since $g(0) = 1$, if $a = 1$, we will have u^* = 0$ as a fixed point.  If we consider\n",
    "\n",
    "$$ \\frac{dg}{du} = b-\\mathrm{e}^{-u}, $$\n",
    "\n",
    "we see that if $b>1$, then $\\frac{\\text{d}g}{\\text{d}u}>0$ for all $u$. Thus, if $a > 1$, then there will be one fixed point satisfying $a = g(u)$, and it will be stable.  If $b < 1$, then there will also be one fixed point, however, $g$ is no longer monotonic and will reach a minimum when $b = \\text{exp}(-u)$. "
   ]
  },
  {
   "cell_type": "markdown",
   "metadata": {},
   "source": [
    "vii) We have \n",
    "$$\\frac{\\text{d}u}{\\text{d}t} = \\frac{\\text{d}u}{\\text{d}\\tau} \\frac{\\text{d}\\tau}{\\text{d}t} = (a - bu-\\mathrm{e}^{-u})x_0 k$$\n",
    "And\n",
    "$$\\frac{\\text{d}z}{\\text{d}t} = \\frac{\\text{d}z}{\\text{d}u}\\frac{\\text{d}u}{\\text{d}t} = lx_0(a-bu-\\mathrm{e}^{-u})$$\n",
    "And\n",
    "$$\\frac{\\text{d}z}{\\text{d}t} = ly$$\n",
    "Thus, $$\\frac{\\text{d}u}{\\text{d}t} \\propto \\frac{\\text{d}z}{\\text{d}t} \\propto y$$ and they all have the same peak."
   ]
  },
  {
   "cell_type": "markdown",
   "metadata": {},
   "source": [
    "viii)\n",
    "For $b<1$, we have a minimum in $g$, hence a maximum in $f = a - g(u)$ when $u(t) = \\log(b^{-1})$. Since $u$ is monotonically increasing with time, this function can be inverted to give the peak time $t_{\\text{peak}}$.\n",
    "\n",
    "$\\frac{\\text{d}u}{\\text{d}t}$ must go to zero as $u$ reaches the fixed point $0 = a - bu^* -\\mathrm{e}^{-u^*}$ as $t \\rightarrow \\infty$."
   ]
  },
  {
   "cell_type": "markdown",
   "metadata": {},
   "source": [
    "ix) For $b>1$, we have $g$ constantly increasing, hence $f$ is constantly decreasing. Thus, the peak growth occurs at $t = 0$."
   ]
  },
  {
   "cell_type": "markdown",
   "metadata": {},
   "source": [
    "x) If $b<1$, $x_0k>l$, thus the initial rate at which healthy people become sick is greater than the rate at which sick people die. If $b>1$, the opposite is true. "
   ]
  },
  {
   "cell_type": "code",
   "execution_count": null,
   "metadata": {},
   "outputs": [],
   "source": []
  }
 ],
 "metadata": {
  "kernelspec": {
   "display_name": "Python 3",
   "language": "python",
   "name": "python3"
  },
  "language_info": {
   "codemirror_mode": {
    "name": "ipython",
    "version": 3
   },
   "file_extension": ".py",
   "mimetype": "text/x-python",
   "name": "python",
   "nbconvert_exporter": "python",
   "pygments_lexer": "ipython3",
   "version": "3.8.3"
  },
  "latex_envs": {
   "LaTeX_envs_menu_present": true,
   "autoclose": false,
   "autocomplete": false,
   "bibliofile": "biblio.bib",
   "cite_by": "apalike",
   "current_citInitial": 1,
   "eqLabelWithNumbers": true,
   "eqNumInitial": 1,
   "hotkeys": {
    "equation": "Ctrl-E",
    "itemize": "Ctrl-I"
   },
   "labels_anchors": false,
   "latex_user_defs": false,
   "report_style_numbering": false,
   "user_envs_cfg": false
  }
 },
 "nbformat": 4,
 "nbformat_minor": 4
}
