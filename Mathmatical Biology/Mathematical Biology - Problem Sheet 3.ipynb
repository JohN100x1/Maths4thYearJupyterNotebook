{
 "cells": [
  {
   "cell_type": "markdown",
   "metadata": {},
   "source": [
    "# MATH97018, MATH97096: Problem Sheet 3"
   ]
  },
  {
   "cell_type": "markdown",
   "metadata": {},
   "source": [
    "## 1.  Glycolysis\n",
    "Glycolysis is the process by which cells break down sugars to harvest their chemical energy.  The simplest model of glycolysis involves two chemical species, Adenosine Diphosphate (ADP) and phosphorylated fructose (F6P).  ADP plays an important role in the transport of energy in the cell, while F6P is the molecule to which the sugar is converted.  \n",
    "\n",
    "In the model, we assume a constant inflow of F6P, denoted as $Y$, into the system at rate $\\beta$ such that \n",
    "\n",
    "\\begin{align*}\n",
    "\\varnothing \\xrightarrow{\\beta} Y\n",
    "\\end{align*}\t\n",
    "\n",
    "The F6P can be converted directly into ADP, denoted at $X$, at a rate $\\alpha$.\n",
    "\n",
    "\\begin{align*}\n",
    "Y \\xrightarrow{\\alpha} X\n",
    "\\end{align*}\t\n",
    "\n",
    "Additionally, F6P can combine with ADP such that\n",
    "\n",
    "\\begin{align*}\n",
    "2X + Y \\xrightarrow{\\gamma} 3X\n",
    "\\end{align*}\n",
    "\n",
    "Finally, we assume that ADP degrades at rate $\\mu$\n",
    "\n",
    "\\begin{align*}\n",
    "X \\xrightarrow{\\mu} \\varnothing\n",
    "\\end{align*}\n",
    "\n",
    "\\begin{enumerate}\n",
    "\\item Apply the law of mass action to obtain the system of ODEs that describe the dynamics of concentrations $x = [X]$ and $y = [Y]$.\n",
    "\n",
    "\\item Introduce suitable nondimensional variables, $u$, $v$, and $\\tau$ such that the system of equations becomes\n",
    "\n",
    "\\begin{align*}\n",
    "\\frac{du}{d\\tau} = - u + a v + vu^2,\\\\  \n",
    "\\frac{dv}{d\\tau} = b - av  - vu^2.\n",
    "\\end{align*}\n",
    "\n",
    "Find the expressions for $a$ and $b$ in terms of the parameters in the original equations.\n",
    "\n",
    "\\item Find and sketch the nullclines.\n",
    "\\item Find the fixed point.\n",
    "\\item Show that following lines can be used to construct the outer boundary of a trapping set: \n",
    "\\begin{itemize}\n",
    "\\item A vertical line connecting $(0,0)$ and $(0, b/a)$.\n",
    "\\item A horizontal line connecting $(0, b/a)$ and $(b,b/a)$.\n",
    "\\item A diagonal line of slope $-1$ from the point $(b,b/a)$ to the point where it intersects the $u$-nullcline.  Call the point of where they intesect $(u_0, v_0)$.\n",
    "\\item A vertical line from $(u_0, v_0)$ to $(u_0, 0)$.\n",
    "\\item A horizontal line from $(u_0, 0)$ to $(0, 0)$. \n",
    "\\end{itemize}\n",
    "\\item For what values of the parameters $a$ and $b$ does a close cycle exist in the trapping set? *Hint: Consider the stability of the fixed point.*\n",
    "\\end{enumerate}\n"
   ]
  },
  {
   "cell_type": "markdown",
   "metadata": {},
   "source": [
    "1.i.\\\n",
    "Using the law of mass action,\n",
    "\\begin{align*}\n",
    "\\frac{dx}{dt} &= -\\mu x + \\alpha y + \\gamma x^2y\\\\  \n",
    "\\frac{dy}{dt} &= \\beta - \\alpha y - \\gamma x^2y\n",
    "\\end{align*}"
   ]
  },
  {
   "cell_type": "markdown",
   "metadata": {},
   "source": [
    "1.ii.\\\n",
    "Let $x=\\sqrt{\\frac{\\mu}{\\gamma}} u$, $y=\\sqrt{\\frac{\\mu}{\\gamma}} v$, and $t=\\frac{1}{\\mu}\\tau$\n",
    "\\begin{align*}\n",
    "\\mu\\sqrt{\\frac{\\mu}{\\gamma}}\\frac{du}{d\\tau} &= -\\mu \\sqrt{\\frac{\\mu}{\\gamma}} u + \\alpha \\sqrt{\\frac{\\mu}{\\gamma}} v + \\gamma \\frac{\\mu}{\\gamma}\\sqrt{\\frac{\\mu}{\\gamma}} u^2v\\\\\n",
    "\\mu\\sqrt{\\frac{\\mu}{\\gamma}}\\frac{dv}{d\\tau} &= \\beta - \\alpha \\sqrt{\\frac{\\mu}{\\gamma}} v - \\gamma \\frac{\\mu}{\\gamma}\\sqrt{\\frac{\\mu}{\\gamma}} u^2v\n",
    "\\end{align*}\n",
    "This simplifies\n",
    "\\begin{align*}\n",
    "\\frac{du}{d\\tau} = - u + a v + vu^2\\\\  \n",
    "\\frac{dv}{d\\tau} = b - av  - vu^2\n",
    "\\end{align*}\n",
    "Where $a=\\frac{\\alpha}{\\mu}$, $b=\\frac{\\beta}{\\mu}\\sqrt{\\frac{\\gamma}{\\mu}}$."
   ]
  },
  {
   "cell_type": "markdown",
   "metadata": {},
   "source": [
    "1.iii.\\\n",
    "The nullclines are\n",
    "\\begin{align*}\n",
    "-u + a v + vu^2 = 0\\quad\\Rightarrow\\quad v=\\frac{u}{a+u^{2}}\\\\\n",
    "b - av  - vu^2 = 0\\quad\\Rightarrow\\quad v=\\frac{b}{a+u^{2}}\n",
    "\\end{align*}"
   ]
  },
  {
   "cell_type": "code",
   "execution_count": 3,
   "metadata": {},
   "outputs": [
    {
     "data": {
      "text/plain": [
       "[<matplotlib.lines.Line2D at 0x19a5e284af0>]"
      ]
     },
     "execution_count": 3,
     "metadata": {},
     "output_type": "execute_result"
    },
    {
     "data": {
      "image/png": "[encoded data removed]",
      "text/plain": [
       "<Figure size 432x288 with 1 Axes>"
      ]
     },
     "metadata": {
      "needs_background": "light"
     },
     "output_type": "display_data"
    }
   ],
   "source": [
    "import numpy as np\n",
    "import matplotlib.pyplot as plt\n",
    "\n",
    "a = 1\n",
    "b = 1\n",
    "N = 1000\n",
    "u = np.linspace(-4,4,N)\n",
    "v1 = u/(a + u**2)\n",
    "v2 = b/(a + u**2)\n",
    "\n",
    "plt.plot(u,v1)\n",
    "plt.plot(u,v2)"
   ]
  },
  {
   "cell_type": "markdown",
   "metadata": {},
   "source": [
    "1.iv. \\\n",
    "The fixed point is such that $\\frac{u}{a+u^2}=\\frac{b}{a+u^2}\\quad\\Rightarrow\\quad(u^*,v^*)=\\left(b,\\frac{b}{a+b^2}\\right)$."
   ]
  },
  {
   "cell_type": "markdown",
   "metadata": {},
   "source": [
    "1v. \\\n",
    "Let\n",
    "\\begin{align*}\n",
    "f_1(u,v) = - u + a v + vu^2\\\\  \n",
    "f_2(u,v) = b - av  - vu^2\n",
    "\\end{align*}\n",
    "\n",
    "\\begin{itemize}\n",
    "\\item For $u=0,0\\leq v\\leq\\frac{b}{a}$ then $(f_1(0,v),f_2(0,v))\\cdot(-1,0)=-av\\leq 0$.\n",
    "\\item For $0\\leq u\\leq b,v=\\frac{b}{a}$ then $(f_1(u,\\frac{b}{a}),f_2(u,\\frac{b}{a}))\\cdot(0,1)=-\\frac{b}{a}u^{2}<0$.\n",
    "\\item For $b\\leq u\\leq u_0, v-\\frac{b}{a}=b-u$ then $(f_1(u,v),f_2(u,v))\\cdot\\left(\\frac{1}{\\sqrt{2}},\\frac{1}{\\sqrt{2}}\\right)=\\frac{1}{\\sqrt{2}}\\left(b-u\\right)<0$.\n",
    "\\item For $u=u_0,0\\leq v\\leq \\frac{u_0}{a+u_0^{2}}$ then $(f_1(u_0,v),f_2(u_0,v))\\cdot(1,0)=-u_0+av+vu_0^{2}\\leq -u_{0}+\\frac{au_{0}}{a+u_{0}^{2}}+\\frac{u_{0}^{3}}{a+u_{0}^{2}}=0$.\n",
    "\\item For $0\\leq u \\leq u_0, v=0$ then $(f_1(u,0),f_2(u,0))\\cdot(0,-1)=-b<0$\n",
    "\\end{itemize}\n",
    "Hence this is a trapping set."
   ]
  },
  {
   "cell_type": "markdown",
   "metadata": {},
   "source": [
    "1.vi.\\\n",
    "A closed cycle exists if the fixed point in the trapping set is an unstable node or spiral. The Jacobian is\n",
    "\\begin{align*}\n",
    "J(u,v)=\n",
    "\\begin{bmatrix}\n",
    "-1+2uv & a+u^2 \\\\\n",
    "-2uv & -a-u^2\n",
    "\\end{bmatrix}\n",
    "\\quad\\Rightarrow\\quad\n",
    "J(u^*,v^*)=\n",
    "\\begin{bmatrix}\n",
    "-1+\\frac{2b^2}{a+b^2} & a+b^2 \\\\\n",
    "-\\frac{2b^2}{a+b^2} & -a-b^2\n",
    "\\end{bmatrix}\n",
    "\\end{align*}\n",
    "The fixed point is unstable if the trace and determinant of $J$ are positive. Therefore the $a$ and $b$ must satisfy\n",
    "\\begin{align*}\n",
    "-1+\\frac{2b^2}{a+b^2}-a-b^2>0 \\\\\n",
    "a+b^2>0\n",
    "\\end{align*}\n",
    "The second inequality is always satisfied. For the first inequality, it can be rearranged to the following.\n",
    "\\begin{align*}\n",
    "b^{4}+b^{2}\\left(2a-1\\right)+a^{2}+a<0\n",
    "\\end{align*}\n",
    "Therefore\n",
    "$$\\frac{1-2a-\\sqrt{1-8a}}{2}< b^2 < \\frac{1-2a+\\sqrt{1-8a}}{2}\\quad\\textrm{and }0<a<\\frac{1}{8}$$"
   ]
  },
  {
   "cell_type": "markdown",
   "metadata": {},
   "source": [
    "## 2. Period of limit cycles in predator-prey systems\n",
    "In the notes, we used the Poincaré-Bendixson theorem to establish that the predator-prey model\n",
    "\n",
    "\\begin{align*}\n",
    "\\frac{du}{d\\tau} = u(1 - u) - \\frac{auv}{u + d}  \\\\\n",
    "\\frac{dv}{d\\tau} = b v \\left(1 - \\frac{v}{u}\\right), \n",
    "\\end{align*}\n",
    "\n",
    "has a limit cycle that surrounds the fixed point.\n",
    "\\begin{itemize}\n",
    "\\item Limit cycle I: Confirm that the limit cycle emerges through a Hopf bifurcation where $b$ is the bifurcation parameter. Compute the period of the limit cycle just after the bifurcation has occured. You may leave your expression in terms of $u^*$.\n",
    "\n",
    "\\item Limit cycle II: Suppose that $b = \\epsilon \\ll 1$ such that the equations take the form\n",
    "\n",
    "\\begin{align*}\n",
    "\\frac{du}{d\\tau} = f_1(u,v) \\\\\n",
    "\\frac{dv}{d\\tau} = \\epsilon f_2(u,v), \n",
    "\\end{align*}\n",
    "\n",
    "where $f_1 = u(1 - u) - auv/(u + d)$ and $f_2 = v(1 - v/u)$.  The code and figures below show that this system exhibits relaxation oscillator-like dynamics, though slightly different from those we saw with the Fitzhugh-Nagumo system.  \n",
    "\n",
    "\\begin{enumerate}\n",
    "\\item For part of the orbit, the trajectory lies essentially on the nullcline given by $f_1(u,v) = 0$. Explain why this is the case.  \n",
    "\\item When the trajectory reaches the local maximum, $(u_2, v_2)$, it leaves the nullcline and moves rapidly at a nearly constant value of $v$ toward the $v$-axis.  Explain why this has occured using arguments based on the a one-dimensional system where $du/dt = f_1(u;v)$ and $v$ being considered a parameter.  \n",
    "\\item Near the $v$-axis, the trajectory abruptly changes direction and moves downwards. Explain why this occurs when $u \\approx \\epsilon v_2^2$.  \n",
    "\\item Rescaling such that $u = \\epsilon U$, show that in the limit $\\epsilon \\ll 1$,\n",
    "\n",
    "\\begin{align*}\n",
    "\\frac{dU}{d\\tau} = U - \\frac{avU}{d} \\\\\n",
    "\\frac{dv}{d\\tau} = -\\frac{v^2}{U}, \n",
    "\\end{align*}\n",
    "\n",
    "and conclude that this portion of the orbit also evolves at the fast timescale.\n",
    "\n",
    "\\item As a result, conclude that the approximate period of the orbit,\n",
    "\n",
    "\\begin{align*}\n",
    "T =\\frac{1}{a\\epsilon}\\int_{u_1}^{u_2}\\frac{u(1 - d - 2u)}{v(u)(u - v(u))}du,\n",
    "\\end{align*}\n",
    "\n",
    "where $v(u) = (1 - u)(u + d)/a$.\n",
    "\\end{enumerate}\n",
    "\\end{itemize}"
   ]
  },
  {
   "cell_type": "markdown",
   "metadata": {},
   "source": [
    "Limit cycle I:\n",
    "The nullclines are\n",
    "\\begin{align*}\n",
    "0=u(1-u)-\\frac{auv}{u+d} \\\\\n",
    "0=bv\\left(1-\\frac{v}{u}\\right)\n",
    "\\end{align*}\n",
    "The second equation gives $u=v$. Substituting in the first equations gives\n",
    "\\begin{align*}\n",
    "0=u(1-u)-\\frac{au^2}{u+d}\n",
    "0=u((1-u)(u+d)-au)\n",
    "\\end{align*}\n",
    "For $u\\neq 0$ then\n",
    "\\begin{align*}\n",
    "u^2+(a+d-1)u-d=0 \\\\\n",
    "u^*=\\frac{1-a-d\\pm\\sqrt{(a+d-1)^2+4d}}{2}\n",
    "\\end{align*}\n",
    "Since\n",
    "\\begin{align*}\n",
    "J(u^*,v^*) = \n",
    "\\begin{bmatrix}\n",
    "u^*\\left(\\frac{au^*}{(u^*+d)^2}-1\\right) & \\frac{-au^*}{u^* + d} \\\\\n",
    "b & -b\n",
    "\\end{bmatrix}\n",
    "\\end{align*}\n",
    "Since for $n=2$ that $\\omega=\\frac{1}{2}\\sqrt{4\\det{J}-\\textrm{trace}(J)^2}$ then if $\\alpha = u^*\\left(\\frac{au^*}{(u^*+d)^2}-1\\right)$ and $\\beta = \\frac{-au^*}{u^* + d}$ then\n",
    "\\begin{align*}\n",
    "\\omega=\\frac{1}{2}\\sqrt{4b(\\beta-\\alpha)-(b-\\alpha)^2}\n",
    "\\end{align*}\n",
    "Hopf bifurcation occurs when $b=\\alpha$ (i.e. $\\textrm{trace}(J)=0$) so\n",
    "\\begin{align*}\n",
    "\\omega=\\sqrt{b(\\beta-\\alpha)}\n",
    "\\end{align*}\n",
    "The period is therefore\n",
    "\\begin{align*}\n",
    "T=\\frac{2\\pi}{\\sqrt{b(\\beta-\\alpha)}}\n",
    "\\end{align*}"
   ]
  },
  {
   "cell_type": "markdown",
   "metadata": {},
   "source": [
    "2.i.\\\n",
    "For $\\epsilon\\ll 1$ then $\\frac{dv}{d\\tau}\\approx 0$ so that $v$ remains constant while $u$ relaxes to its steady state value given by $f_1(u,v)=0$."
   ]
  },
  {
   "cell_type": "markdown",
   "metadata": {},
   "source": [
    "2.ii.\\\n",
    "Since $f_1(u,v)=0\\quad\\Rightarrow\\quad u((1-u)(u+d)-av)=0$.\\\n",
    "For $v<v_2$, there is $1$ stable fixed point and $1$ unstable fixed.\\\n",
    "For $v>v_2$, there are no fixed points.\\\n",
    "\n",
    "This can be viewed as a birfucation diagram where $v$ is the parameter. At $v>v_2$, $u$ decreases rapidly since there are no fixed points, and as $\\epsilon$ is small, the change in $v$ is relatively constant compared to the change in $u$."
   ]
  },
  {
   "cell_type": "markdown",
   "metadata": {},
   "source": [
    "2.iii.\\\n",
    "Since $\\frac{dv}{d\\tau}=f_2(u,v)=\\epsilon v\\left(1-\\frac{v}{u}\\right)$ then when $v\\approx v_2$ then $f_2(u,v_2)=\\epsilon v_2\\left(1-\\frac{v_2}{u}\\right)$. When $u\\approx \\epsilon v_2^2$ then $\\frac{dv}{d\\tau}=-1+\\epsilon v_2$. So $v$ is decreasing with a rate approximately $-1$, which dominates over the $\\epsilon$ terms."
   ]
  },
  {
   "cell_type": "markdown",
   "metadata": {},
   "source": [
    "2.iv.\\\n",
    "Rescaling $u=\\epsilon U$ gives\n",
    "\\begin{align*}\n",
    "\\frac{dU}{d\\tau} = U - \\frac{avU}{d} \\\\\n",
    "\\frac{dv}{d\\tau} = -\\frac{v^2}{U},\n",
    "\\end{align*}\n",
    "So this portion evolves at the fast timescale."
   ]
  },
  {
   "cell_type": "markdown",
   "metadata": {},
   "source": [
    "2.v.\\\n",
    "The period is mostly contributed by $(u,v)$ on the $u$-nullcline as the other parts evolve at a fast timescale. Therefore,\n",
    "$$v=\\frac{(1-u)(u+d)}{a}$$\n",
    "As $\\frac{dv}{du}=\\frac{1-d-2u}{a}$ then\n",
    "$$\\frac{1}{\\epsilon}\\int_{v_1}^{v_2}\\frac{u}{v\\left(u-v\\right)}dv=\\int_0^Td\\tau$$\n",
    "Therefore\n",
    "$$\\frac{1}{\\epsilon}\\int_{u_1}^{u_2}\\frac{u}{v\\left(u-v\\right)}\\frac{1-d-2u}{a}du=\\int_0^Td\\tau$$\n",
    "Therefore\n",
    "$$T =\\frac{1}{a\\epsilon}\\int_{u_1}^{u_2}\\frac{u(1 - d - 2u)}{v(u)(u - v(u))}du$$"
   ]
  },
  {
   "cell_type": "code",
   "execution_count": 2,
   "metadata": {},
   "outputs": [
    {
     "data": {
      "image/png": "[encoded data removed]",
      "text/plain": [
       "<Figure size 432x288 with 1 Axes>"
      ]
     },
     "metadata": {
      "needs_background": "light"
     },
     "output_type": "display_data"
    },
    {
     "data": {
      "image/png": "[encoded data removed]",
      "text/plain": [
       "<Figure size 432x288 with 1 Axes>"
      ]
     },
     "metadata": {
      "needs_background": "light"
     },
     "output_type": "display_data"
    }
   ],
   "source": [
    "import numpy as np\n",
    "import matplotlib.pyplot as plt\n",
    "%matplotlib inline \n",
    "from scipy.integrate import odeint\n",
    "\n",
    "a = 0.8\n",
    "b = 0.001\n",
    "d = 0.1\n",
    "\n",
    "u = np.linspace(0,1,100000)\n",
    "v1 = u\n",
    "v2 = (1 - u)*(u + d)/a\n",
    "plt.figure(0)\n",
    "plt.rcParams.update({'font.size': 14})  # increase the font size\n",
    "plt.xlabel(\"u\")\n",
    "plt.ylabel(\"v\")\n",
    "plt.plot(u,v1)\n",
    "plt.plot(u,v2)\n",
    "\n",
    "def du_dt(u, t):\n",
    "    return [u[0]*(1 - u[0]) - a*u[0]*u[1]/(u[0] + d), b*u[1]*(1 - u[1]/u[0])]\n",
    "\n",
    "u0 = [0.99, 0.1]\n",
    "ts = np.linspace(0, 6000, 1000000)\n",
    "us = odeint(du_dt, u0, ts)\n",
    "pop1 = us[:,0]\n",
    "pop2 = us[:,1]\n",
    "plt.figure(0)\n",
    "plt.plot(pop1,pop2,'k-')\n",
    "\n",
    "plt.figure(1)\n",
    "plt.plot(ts,pop1)\n",
    "plt.plot(ts,pop2);\n",
    "plt.xlabel(\"t\");\n",
    "plt.ylabel(\"u,v\");\n"
   ]
  },
  {
   "cell_type": "markdown",
   "metadata": {},
   "source": [
    "## 3. Genetic toggle switch\n",
    "The genetic toggle switch is a common model for decision making in cells. In the model, two proteins $P_1$ and $P_2$ are expressed from their corresponding genes $G_1$ and $G_2$:\n",
    "\n",
    "\\begin{align*}\n",
    "G_1 &\\xrightarrow{k_0} G_1 + P_1, \\\\\n",
    "G_2 &\\xrightarrow{k_0} G_2 + P_2.\n",
    "\\end{align*}\t\n",
    "\n",
    "Each of these proteins may form a dimer $D_1$ or $D_2$,\n",
    "\n",
    "\\begin{align*}\n",
    "2P_1 \t&\\underset{\\alpha_2}{\\stackrel{\\alpha_1}{\\rightleftharpoons}} D_1, \\\\\n",
    "2P_2\t&\\underset{\\alpha_2}{\\stackrel{\\alpha_1}{\\rightleftharpoons}} D_2,\n",
    "\\end{align*}\t\n",
    "\n",
    "which can subsequently bind to the other gene to deactivate it:\n",
    "\n",
    "\\begin{align*}\n",
    "G_1 + D_2 &\\underset{\\beta_2}{\\stackrel{\\beta_1}{\\rightleftharpoons}} G_1^\\ast, \\\\\n",
    "G_2 + D_1 &\\underset{\\beta_2}{\\stackrel{\\beta_1}{\\rightleftharpoons}} G_2^\\ast.\n",
    "\\end{align*}\t\n",
    "\n",
    "Finally, the proteins are degraded\n",
    "\\begin{align*}\n",
    "P_1 &\\xrightarrow{k_1} \\varnothing, \\\\\n",
    "P_2 &\\xrightarrow{k_1} \\varnothing.\n",
    "\\end{align*}\t\n",
    "\n",
    "\\begin{enumerate}\n",
    "  \\item Used the law of mass action to find the system of ODEs of that describe the dynamics of the concentrations of the various chemicals species.\n",
    "  \n",
    "  \\item Reduce the model assuming that $D_{1}$, $D_2$, $G_{1}$, $G_{2}$, $G_{1}^\\ast$ and $G_{2}^\\ast$ are at quasi-steady state. Show that, under suitable rescaling, the reduced model is\n",
    "  \n",
    "\\begin{align*}\n",
    "  \t\\frac{d x}{d \\tau} &= \\frac{a_1}{1+y^2} - x, \\\\\n",
    "  \t\\frac{d y}{d \\tau} &= \\frac{a_2}{1+x^2} - y, \n",
    "\\end{align*}\n",
    "\n",
    "where $x$ and $y$ are the non-dimensional concentrations of $P_1$ and $P_2$, respectively. Determine the parameters $a_{1}$ and $a_2$.\n",
    "\n",
    "  \\item Assume that $a=a_1=a_2$ (symmetric toggle switch). Find the steady-states of the model and determine $a_c$, the value of $a$ at which a bifurcation occurs. *Hint: Use computer algebra software such as Wolfram Alpha (https://www.wolframalpha.com)*\n",
    "  \n",
    "  \\item Assess the stability of the fixed points. Construct a bifurcation diagram by plotting the $x$-steady states as a function of $a$, indicating stable branches as a solid line and unstable branches as a dashed line.  What kind of bifurcation occurs at $a_c$? \n",
    "  \n",
    "\\end{enumerate}\n"
   ]
  },
  {
   "cell_type": "markdown",
   "metadata": {},
   "source": [
    "3.i.\\\n",
    "The ODEs are\n",
    "\\begin{align*}\n",
    "\t\\frac{d G_1}{d t} &= - \\beta_1 G_1 D_2 + \\beta_2 G_1^\\ast, \\\\ \n",
    "    \\frac{d G_2}{d t} &= - \\beta_1 G_2 D_1 + \\beta_2 G_2^\\ast, \\\\\n",
    "\t\\frac{d G_1^\\ast}{d t} &= - \\frac{d G_1}{d t}, \\\\\n",
    "    \\frac{d G_2^\\ast}{d t} &= - \\frac{d G_2}{d t},  \\\\\n",
    "\t\\frac{d D_1}{d t} &=  \\alpha_1 P_1^2 - \\alpha_2 D_1 + \\frac{d G_2}{d t}, \\\\ \n",
    "    \\frac{d D_2}{d t} &=   \\alpha_1 P_2^2 - \\alpha_2 D_2 + \\frac{d G_1}{d t} \\\\\n",
    "\t\\frac{d P_1}{d t} &= - 2 \\alpha_1 P_1^2 + 2\\alpha_2 D_1 + k_0 G_1 - k_1 P_1, \\\\\n",
    "\t\\frac{d P_2}{d t} &= - 2 \\alpha_1 P_2^2 + 2\\alpha_2 D_2 + k_0 G_2 - k_1 P_2\n",
    "\\end{align*}"
   ]
  },
  {
   "cell_type": "markdown",
   "metadata": {},
   "source": [
    "3.ii.\\\n",
    "Firstly,\n",
    "\\begin{align*}\n",
    "\\frac{dG_1}{dt}+\\frac{dG^*_1}{dt} = 0 \\\\\n",
    "\\frac{dG_2}{dt}+\\frac{dG^*_2}{dt} = 0\n",
    "\\end{align*}\n",
    "Therefore $G_1+G^*_1=g_1$ and $G_2+G^*_2=g_2$ are constants. Setting the first $5$ equations to zero gives\n",
    "\\begin{align*}\n",
    "D_1 = \\frac{\\beta_2 G^*_2}{\\beta_1 G_2} \\\\\n",
    "D_2 = \\frac{\\beta_2 G^*_1}{\\beta_1 G_1} \\\\\n",
    "0=\\alpha_1 P_1^2 -\\alpha_2 \\frac{\\beta_2 G^*_2}{\\beta_1 G_2} \\\\\n",
    "0=\\alpha_1 P_2^2 -\\alpha_2 \\frac{\\beta_2 G^*_1}{\\beta_1 G_1} \\\\\n",
    "G_1 = \\frac{\\alpha_2\\beta_2 G^*_1}{\\alpha_1\\beta_1P_2^2} = \\frac{\\alpha_2\\beta_2 (g_1-G_1)}{\\alpha_1\\beta_1P_2^2} \\\\\n",
    "G_2 = \\frac{\\alpha_2\\beta_2 G^*_2}{\\alpha_1\\beta_1P_1^2} = \\frac{\\alpha_2\\beta_2 (g_2-G_2)}{\\alpha_1\\beta_1P_1^2} \\\\\n",
    "G_1 = \\frac{\\alpha_2\\beta_2g_1}{\\alpha_1\\beta_1 P_1^2 + \\alpha_2\\beta_2} \\\\\n",
    "G_2 = \\frac{\\alpha_2\\beta_2g_1}{\\alpha_1\\beta_1 P_2^2 + \\alpha_2\\beta_2}\n",
    "\\end{align*}\n",
    "Therefore\n",
    "\\begin{align*}\n",
    "\t\\frac{d P_1}{d t} &= \\frac{k_0\\alpha_2\\beta_2g_1}{\\alpha_1\\beta_1 P_1^2 + \\alpha_2\\beta_2} - k_1 P_1, \\\\\n",
    "\t\\frac{d P_2}{d t} &= \\frac{k_0\\alpha_2\\beta_2g_1}{\\alpha_1\\beta_1 P_2^2 + \\alpha_2\\beta_2} - k_1 P_2.\n",
    "\\end{align*}\n",
    "\n",
    "Setting $\\tau=k_1 t$, $x=P_1/K$ and $y=P_2/K$ where $K^2=\\frac{\\beta_2}{\\beta_1} \\frac{\\alpha_2}{\\alpha_1}$, we find the non-dimensional equations\n",
    "\n",
    "\\begin{align}\n",
    " \\frac{d x}{d \\tau} &= \\frac{a_1}{1+y^2} - x, \\\\\n",
    " \\frac{d y}{d \\tau} &= \\frac{a_2}{1+x^2} - y. \n",
    "\\end{align}\n",
    "\n",
    "where $a_{n}= k_0g_n/(k_1K).$"
   ]
  },
  {
   "cell_type": "markdown",
   "metadata": {},
   "source": [
    "3.iii.\\\n",
    "Assume that $a=a_1=a_2$. Note that there is one symmetric solution $x^*=y^*$, which satisfies\n",
    "\n",
    "\\begin{align*}\n",
    "\t0=\\frac{a}{1+(x^\\ast)^2} - x^\\ast,\n",
    "\\end{align*}\n",
    "\n",
    "which can be found using Wolfram Alpha command 'solve -x+a/(1+x\\^2)=0 for x' and gives one real solution\n",
    "\n",
    "\\begin{align}\n",
    "    \\label{sol1}\n",
    "\tx^* = \\frac{{\\frac{2}{3}}^{1/3}}{({\\sqrt{3(27 a^2+4})-9 a)}}-\\frac{({\\sqrt{3} \\sqrt{27 a^2+4}-9 a})}{\\sqrt[3]{2} 3^{2/3}}.\n",
    "\\end{align}\n",
    "\n",
    "To find the other solutions, we again query Wolfram Alpha with 'solve -x+a/(1+y\\^2)=0, -y+a/(1+x\\^2)=0 for x,y' to find that \n",
    "\n",
    "\\begin{align}\n",
    "\tx^\\ast&=\\frac{1}{2} \\left(a+\\sqrt{a^2-4}\\right), \\\\\n",
    "\ty^\\ast&=\\frac{1}{2} \\left(a-\\sqrt{a^2-4}\\right)\n",
    "    \\label{sol2}\n",
    "\\end{align}\n",
    "\n",
    "and\n",
    "\n",
    "\\begin{align}\n",
    "x^\\ast&=\\frac{1}{2} \\left(a-\\sqrt{a^2-4}\\right), \\\\\n",
    "y^\\ast&=\\frac{1}{2} \\left(a+\\sqrt{a^2-4}\\right)\n",
    "\\label{sol3}\n",
    "\\end{align}\n",
    "\n",
    "are two other real solutions for $a\\ge 2$."
   ]
  },
  {
   "cell_type": "markdown",
   "metadata": {},
   "source": [
    "3.iv.\\\n",
    "To assess the stability of the fixed points, we consider the Jacobian \n",
    "\n",
    "\\begin{align*}\n",
    "J(x^\\ast,y^\\ast) = \\left[\\begin{array}{cc}\n",
    "-1 & g(x^\\ast) \\\\\n",
    "g(y^\\ast) & -1\n",
    "\\end{array}\\right]\n",
    "\\end{align*}\n",
    "\n",
    "where $g(z) = -2az/(1+z^2)^2$. The eigenvalues are \n",
    "\n",
    "\\begin{align*}\n",
    "\\lambda_{\\pm} = 1 \\pm \\sqrt{g(x^\\ast)g(y^\\ast)}.\n",
    "\\end{align*}\n",
    "\n",
    "\\textbf{Asymmetric solution}\n",
    "\n",
    "Using the values of $x^\\ast$ and $y^\\ast$ for the asymmetric solution, we see that \n",
    "\n",
    "\\begin{align*}\n",
    "\\lambda=-1 \\pm \\frac{2}{a}\n",
    "\\end{align*}\n",
    "\n",
    "Since the asymmetric solutions exist only for $a\\ge2$, we find that they are stable and the symmetric solution is unstable. \n",
    "\n",
    "It remains to to be shown that the symmetric solution is stable for $a<2$. \n",
    "This can be seen from the eigenvalues\n",
    "\n",
    "\\begin{align*}\n",
    "\\lambda=-1 \\pm g(x^\\ast)\n",
    "\\end{align*}\n",
    "\n",
    "and $g(x^\\ast) \\leq a/2$.\n",
    "The bifurcation is a supercritical pitchfork bifurcation at $a=2$."
   ]
  },
  {
   "cell_type": "markdown",
   "metadata": {},
   "source": [
    "## 4. The Brusselator\n",
    "\n",
    "The 'Brusselator' reaction mechanism,\n",
    "\n",
    "\\begin{align*}\n",
    "A &\\xrightarrow{k_1} X, \\\\\n",
    "B + X &\\xrightarrow{k_2} Y + D, \\\\\n",
    "2X + Y &\\xrightarrow{k_3} 3X, \\\\\n",
    "X &\\xrightarrow{k_4} E\n",
    "\\end{align*}\n",
    "\n",
    "is a model for a class of autocatalytic reactions that exhibit oscillations.  \n",
    "\n",
    "\\begin{enumerate}\n",
    "\\item Assuming that the concentrations of $A$ and $B$ are kept constant, use the law of mass action to find they system of ODEs that governs the dynamics of the concentrations of $X$ and $Y$.\n",
    "\\item Nondimensionalise the system to obtain,\n",
    "\n",
    "\\begin{align*}\n",
    "\\frac{du}{d\\tau} = 1 - (\\beta + 1)u + \\alpha u^2v,\\\\  \n",
    "\\frac{dv}{d\\tau} = \\beta u - \\alpha u^2v.\n",
    "\\end{align*}\n",
    "\n",
    "What are $\\alpha$ and $\\beta$ in terms of the original parameters in the reaction?\n",
    "\n",
    "\\item Determine the fixed point and show that a bifurcation occurs at $\\beta_c = 1 + \\alpha$, as the fixed point goes from a stable to an unstable spiral. \n",
    "\\item Show that the outer boundary of the trapping set can be constructed of two horizontal lines, two vertical lines and one diagonal line with slope $-1$, and therefore, conclude that a limit cycle emerges. \n",
    "\\item Compute the period of the limit cycle that emerges just after the bifurcation?\n",
    "\\item *A challenge for those of you that are very keen:* Use the Stuart-Landau solution to obtain an expression for the limit cycle just after the bifurcation.  This is done in the notes for the Fitzhugh-Nagumo model.  Modify the Python cell in the notes to evaluate your expression and compare the resulting limit cycle with that shown in the Python cell below.\n",
    "\\end{enumerate}\n"
   ]
  },
  {
   "cell_type": "markdown",
   "metadata": {},
   "source": [
    "4.i. \\\n",
    "The ODEs are\n",
    "\\begin{align*}\n",
    "\\frac{dx}{dt} &= k_1a -k_2bx +k_3x^2y - k_4x \\\\\n",
    "\\frac{dy}{dt} &= k_2bx -k_3x^2y\n",
    "\\end{align*}"
   ]
  },
  {
   "cell_type": "markdown",
   "metadata": {},
   "source": [
    "4.ii.\\\n",
    "Let $x=\\frac{k_1a}{k_4}u,y=\\frac{k_1a}{k_4}v,t=\\frac{\\tau}{k_4}$ then\n",
    "\\begin{align*}\n",
    "k_1a\\frac{du}{d\\tau} &= k_1a-k_2b\\frac{k_1a}{k_4}u +k_3\\frac{k_1^3a^3}{k_4^3}u^2v - k_4k_1au \\\\\n",
    "k_1a\\frac{dv}{d\\tau} &= k_2b\\frac{k_1a}{k_4}u -k_3\\frac{k_1^3a^3}{k_4^3}u^2v\n",
    "\\end{align*}\n",
    "This simplifies to\n",
    "\\begin{align*}\n",
    "\\frac{du}{d\\tau} &= 1-\\left(\\frac{k_2b}{k_4}+1\\right)u+\\frac{k_1^2k_3a^2}{k_4^3}u^2v=1-\\left(\\beta+1\\right)u+\\alpha u^{2}v \\\\\n",
    "\\frac{dv}{d\\tau} &= \\frac{k_2b}{k_4}u-\\frac{k_1^2k_3a^2}{k_4^3}u^2v=\\beta u-\\alpha u^{2}v\n",
    "\\end{align*}\n",
    "Therefore $\\alpha=\\frac{k_1^2k_3a^2}{k_4^3}$ and $\\beta=\\frac{k_2b}{k_4}$."
   ]
  },
  {
   "cell_type": "markdown",
   "metadata": {},
   "source": [
    "4.iii.\\\n",
    "The fixed point is given by\n",
    "\\begin{align*}\n",
    "1 - (\\beta + 1)u + \\alpha u^2v=0 \\\\\n",
    "\\beta u - \\alpha u^2v=u(\\beta - \\alpha uv)=0\n",
    "\\end{align*}\n",
    "Both equations are satisfied when $(u^*,v^*)=\\left(1,\\frac{\\beta}{\\alpha}\\right)$. The stability of this fixed point is determined by $\\det{(J)}$ and $\\textrm{trace}(J)$ where $J$ is the Jacobian.\n",
    "\\begin{align*}\n",
    "J(u,v)=\n",
    "\\begin{bmatrix}\n",
    "2\\alpha uv-(\\beta+1) & \\alpha u^2 \\\\\n",
    "\\beta-2\\alpha uv & -\\alpha u^2\n",
    "\\end{bmatrix}\n",
    "\\quad\\Rightarrow\\quad\n",
    "J(u^*,v^*)=\n",
    "\\begin{bmatrix}\n",
    "\\beta-1 & \\alpha \\\\\n",
    "-\\beta & -\\alpha\n",
    "\\end{bmatrix}\n",
    "\\end{align*}\n",
    "The bifurcation occurs when the trace $-\\alpha+\\beta-1=0$ so $\\beta_c=\\alpha+1$."
   ]
  },
  {
   "cell_type": "markdown",
   "metadata": {},
   "source": [
    "4.iv.\\\n",
    "Form the trapping set\n",
    "\\begin{itemize}\n",
    "\\item A vertical line connecting $(0,0)$ and $\\left(0, \\frac{\\left(\\beta+1\\right)^{2}}{2\\alpha}\\right)$.\n",
    "\\item A horizontal line connecting $\\left(0, \\frac{\\left(\\beta+1\\right)^{2}}{2\\alpha}\\right)$ and $\\left(1,\\frac{\\left(\\beta+1\\right)^{2}}{2\\alpha}\\right)$.\n",
    "\\item A diagonal line of slope $-1$ from the point $\\left(1,\\frac{\\left(\\beta+1\\right)^{2}}{2\\alpha}\\right)$ to the point where it intersects the $u$-nullcline.  Call the point of where they intesect $(u_0, v_0)$.\n",
    "\\item A vertical line from $(u_0, v_0)$ to $(u_0, 0)$.\n",
    "\\item A horizontal line from $(u_0, 0)$ to $(0, 0)$. \n",
    "\\end{itemize}\n",
    "Then\n",
    "\\begin{itemize}\n",
    "\\item For $u=0,0\\leq v\\leq\\frac{\\left(\\beta+1\\right)^{2}}{2\\alpha}$ then $(f_1(0,v),f_2(0,v))\\cdot(-1,0)=-1<0\\leq 0$.\n",
    "\\item For $0\\leq u\\leq 1,v=\\frac{\\left(\\beta+1\\right)^{2}}{2\\alpha}$ then $\\left(f_1\\left(u,\\frac{\\left(\\beta+1\\right)^{2}}{2\\alpha}\\right),f_2\\left(u,\\frac{\\left(\\beta+1\\right)^{2}}{2\\alpha}\\right)\\right)\\cdot(0,1)=-\\frac{\\left(\\beta^{2}+1\\right)}{2}<0$.\n",
    "\\item For $1\\leq u\\leq u_0, v-\\frac{\\left(\\beta+1\\right)^{2}}{2\\alpha}=1-u$ then $(f_1(u,v),f_2(u,v))\\cdot\\left(\\frac{1}{\\sqrt{2}},\\frac{1}{\\sqrt{2}}\\right)=\\frac{1}{\\sqrt{2}}\\left(1-u\\right)\\leq 0$.\n",
    "\\item For $u=u_0,0\\leq v\\leq \\frac{\\left(\\beta+1\\right)u_{0}-1}{\\alpha u_{0}^{2}}$ then $(f_1(u_0,v),f_2(u_0,v))\\cdot(1,0)=1-\\left(\\beta+1\\right)u_{0}+\\alpha u_{0}^{2}v\\leq\\left(\\frac{\\left(\\beta+1\\right)u_{0}-1}{\\alpha u_{0}^{2}}\\right)=0$.\n",
    "\\item For $0\\leq u \\leq u_0, v=0$ then $(f_1(u,0),f_2(u,0))\\cdot(0,-1)=-\\beta u<0$\n",
    "\\end{itemize}\n",
    "Therefore this is a trapping set."
   ]
  },
  {
   "cell_type": "markdown",
   "metadata": {},
   "source": [
    "4.v.\\\n",
    "The period $T=\\frac{2\\pi}{\\omega(\\beta_c)}$ where $\\omega(\\beta_c)$ is the magnitude of imaginary component of the eigenvalues at $\\beta_c$. In this case,\n",
    "\\begin{align*}\n",
    "\\omega(\\beta_c)=\\frac{\\sqrt{4\\alpha-(\\alpha-\\beta_c+1)}}{2}=\\frac{\\sqrt{4\\alpha}}{2}=\\sqrt{\\alpha}\n",
    "\\end{align*}\n",
    "So $T=\\frac{2\\pi}{\\sqrt{\\alpha}}$."
   ]
  },
  {
   "cell_type": "code",
   "execution_count": 4,
   "metadata": {},
   "outputs": [
    {
     "data": {
      "image/png": "[encoded data removed]",
      "text/plain": [
       "<Figure size 432x288 with 1 Axes>"
      ]
     },
     "metadata": {
      "needs_background": "light"
     },
     "output_type": "display_data"
    }
   ],
   "source": [
    "import numpy as np\n",
    "import matplotlib.pyplot as plt\n",
    "%matplotlib inline \n",
    "from scipy.integrate import odeint\n",
    "\n",
    "a = 1.0\n",
    "b = 1.0 + a*(1 + 0.01)\n",
    "\n",
    "plt.figure(0)\n",
    "\n",
    "u = np.linspace(0.1, 5, 100)\n",
    "v1 = b/(a*u);\n",
    "v2 = ((1 + b)*u - 1)/(a*u**2)\n",
    "plt.plot(u,v1,'b-');\n",
    "plt.plot(u,v2,'g-');\n",
    "\n",
    "def du_dt(u, t):\n",
    "    return [1 - (b + 1)*u[0] + a*u[0]**2*u[1], b*u[0] - a*u[0]**2*u[1]]\n",
    "\n",
    "ts = np.linspace(0, 10000, 100000)\n",
    "u0 = [0.1, 0.1]\n",
    "us = odeint(du_dt, u0, ts)\n",
    "pop1 = us[:,0]\n",
    "pop2 = us[:,1]\n",
    "plt.plot(pop1,pop2,'k-');\n",
    "plt.xlim(0, 3)\n",
    "plt.ylim(0,3);\n"
   ]
  },
  {
   "cell_type": "code",
   "execution_count": null,
   "metadata": {},
   "outputs": [],
   "source": []
  }
 ],
 "metadata": {
  "kernelspec": {
   "display_name": "Python 3",
   "language": "python",
   "name": "python3"
  },
  "language_info": {
   "codemirror_mode": {
    "name": "ipython",
    "version": 3
   },
   "file_extension": ".py",
   "mimetype": "text/x-python",
   "name": "python",
   "nbconvert_exporter": "python",
   "pygments_lexer": "ipython3",
   "version": "3.8.3"
  },
  "latex_envs": {
   "LaTeX_envs_menu_present": true,
   "autoclose": false,
   "autocomplete": true,
   "bibliofile": "biblio.bib",
   "cite_by": "apalike",
   "current_citInitial": 1,
   "eqLabelWithNumbers": true,
   "eqNumInitial": 1,
   "hotkeys": {
    "equation": "Ctrl-E",
    "itemize": "Ctrl-I"
   },
   "labels_anchors": false,
   "latex_user_defs": false,
   "report_style_numbering": false,
   "user_envs_cfg": false
  },
  "toc": {
   "base_numbering": 1,
   "nav_menu": {},
   "number_sections": true,
   "sideBar": true,
   "skip_h1_title": false,
   "title_cell": "Table of Contents",
   "title_sidebar": "Contents",
   "toc_cell": false,
   "toc_position": {},
   "toc_section_display": true,
   "toc_window_display": false
  }
 },
 "nbformat": 4,
 "nbformat_minor": 4
}
