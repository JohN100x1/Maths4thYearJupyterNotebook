{
 "cells": [
  {
   "cell_type": "markdown",
   "metadata": {},
   "source": [
    "# 1. Spruce budworm model with spatial dynamics\n",
    "\n",
    "Consider the spatial spread of the spruce budworm as described by the dimensionless reaction-diffusion equation \n",
    "\n",
    "\\begin{align*}\n",
    "\\frac{\\partial u}{\\partial t}  = f(u) + \\frac{\\partial^2 u}{\\partial x^2},\n",
    "\\end{align*}\n",
    "\n",
    "where $f(u) = ru(1 - u/q) - u^2/(1 + u^2)$.  Recall that depending on the values of the parameters $r$ and $q$, the differential equation\n",
    "\n",
    "\\begin{align*}\n",
    "\\frac{d u}{d t}  = f(u),\n",
    "\\end{align*}\n",
    "\n",
    "can have 4 fixed points, $u^* = 0, u_1, u_2,$ and $u_3$, with $ 0 < u_1 < u_2 < u_3$, where $0$ and $u_2$ are unstable, and $u_1$ and $u_3$ are stable.  In our discussion, $u_1$ was referred to as the refuge level, $u_3$ the outbreak level, and $u_2$ the threshold level.\n",
    "\n",
    "\\begin{enumerate}\n",
    "\\item Assuming a travelling wave solution, $U(\\xi)$, where $\\xi = x - ct$, find the second-order differential equation for $U$.  Introduce $V = dU/d\\xi$ and obtain a system of first-order equations.  \n",
    "\\item Consider the case where all four fixed points exist. Perform a phase plane analysis by establishing the fixed points and classifying their type and how it depends on $c$ and $\\frac{df}{du}(u^*)$.  \n",
    "\\item Based on your results, what are the permitted wave speeds assuming that \n",
    "\n",
    "\\begin{align*}\n",
    "U \\rightarrow u_1 \\text{ as } \\xi \\rightarrow -\\infty \\text{ and } U \\rightarrow 0 \\text{ as }  \\xi \\rightarrow \\infty.\n",
    "\\end{align*}\n",
    "\n",
    "\\item It turns out that there exists a value of $c$ for which a trajectory connects the fixed points corresponding to refuge and outbreak levels.  Hence, we can consider the conditions\n",
    "\n",
    "\\begin{align*}\n",
    "U \\rightarrow u_3 \\text{ as } \\xi \\rightarrow -\\infty \\text{ and } U \\rightarrow u_1 \\text{ as }  \\xi \\rightarrow \\infty.\n",
    "\\end{align*}\n",
    "\n",
    "Thus, if $c > 0$, then the wave moves to the right and the population goes from the outbreak to refuge.  If $c < 0$, then the wave moves to the left and outbreak spreads.\n",
    "\n",
    "Take the second-order differential equation for $U$.  Multiply this equation by $dU/d\\xi$ and integrate over all space.  Show that \n",
    "\n",
    "\\begin{align*}\n",
    "c = -\\frac{\\int_{u_3}^{u_1}f(U)dU}{\\int_{-\\infty}^{\\infty}\\left(\\frac{dU}{d\\xi}\\right)^2d\\xi}\n",
    "\\end{align*}\n",
    "\n",
    "and conclude that the outbreak spreads if $\\int_{u_1}^{u_3}f(U)dU < 0$.\n",
    "\n",
    "\\item Examining this integral and integrand, discuss which parameter should be adjusted to ensure that the outbreak does not spread.\n",
    "\\end{enumerate}"
   ]
  },
  {
   "cell_type": "markdown",
   "metadata": {},
   "source": [
    "1.i.\\\n",
    "\\begin{align*}\n",
    "\\frac{\\partial u}{\\partial t}=-c\\frac{dU}{d\\xi} \\\\\n",
    "\\frac{\\partial^2 u}{\\partial x^2}=\\frac{d^2U}{d\\xi^2}\n",
    "\\end{align*}\n",
    "Therefore\n",
    "\\begin{align*}\n",
    "-c\\frac{dU}{d\\xi}=f(U)+\\frac{d^2U}{d\\xi^2}\n",
    "\\end{align*}\n",
    "Let $V=\\frac{dU}{d\\xi}$ then\n",
    "\\begin{align*}\n",
    "\\frac{dU}{d\\xi} &=V \\\\\n",
    "\\frac{dV}{d\\xi} &=-f(U)-cV\n",
    "\\end{align*}"
   ]
  },
  {
   "cell_type": "markdown",
   "metadata": {},
   "source": [
    "1.ii.\\\n",
    "The nullclines are $V=0$ and $-f(U)-cV=0$. \\\n",
    "The fixed points are $(0,0)$, $(u_1,0)$, $(u_2,0)$, $(u_3,0)$ and satisfy $f(u_i)=0$. \\\n",
    "The Jacobian is\n",
    "\\begin{align*}\n",
    "J(U,V)=\n",
    "\\begin{bmatrix}\n",
    "0 & 1 \\\\\n",
    "-\\frac{df(U)}{dU} & -c\n",
    "\\end{bmatrix}\n",
    "\\end{align*}\n",
    "The eigenvalues are \n",
    "$$\\lambda_\\pm=\\frac{-c\\pm\\sqrt{c^2-4\\frac{df}{du}(u^*)}}{2}$$\n",
    "\\begin{equation*}\n",
    "(0,0) = \n",
    "\\begin{cases}\n",
    "      \\text{stable node,}  & c^2 > 4f'(0)\\\\\n",
    "       \\text{stable spiral,}  & c^2 < 4f'(0)\n",
    "    \\end{cases} \\\\\n",
    "(u_2,0) = \n",
    "\\begin{cases}\n",
    "      \\text{stable node,}  & c^2 > 4f'(u_2)\\\\\n",
    "       \\text{stable spiral,}  & c^2 < 4f'(u_2)\n",
    "    \\end{cases} \\\\\n",
    "(u_1,0) = \\text{saddle, } \\\\\n",
    "(u_3,0) = \\text{saddle }\n",
    "\\end{equation*}"
   ]
  },
  {
   "cell_type": "markdown",
   "metadata": {},
   "source": [
    "1.iii.\\\n",
    "For the following condition to hold,\n",
    "\\begin{align*}\n",
    "U \\rightarrow u_1 \\text{ as } \\xi \\rightarrow -\\infty \\text{ and } U \\rightarrow 0 \\text{ as }  \\xi \\rightarrow \\infty.\n",
    "\\end{align*}\n",
    "It must be that $U$ goes from $u_1$ to $0$. Therefore $(u_1,0)$ is a saddle and $(0,0)$ is a stable node. Note that oscillations can't happen at $(0,0)$ because then $u<0$ or $v<0$ at some point in that spiral.\n",
    "$$0<\\frac{df}{du}(0)<\\frac{c^2}{4}\\quad\\textrm{and}\\quad\\frac{df}{du}(u_1)<0$$\n",
    "Since $\\frac{df}{du}(0)=r$ then the wave speed $c^2>4r$."
   ]
  },
  {
   "cell_type": "markdown",
   "metadata": {},
   "source": [
    "1.iv.\\\n",
    "Multiplication and integration gives\n",
    "\\begin{align*}\n",
    "-c\\int_{-\\infty}^{\\infty}\\left(\\frac{dU}{d\\xi}\\right)^2d\\xi\n",
    "&=\\int_{-\\infty}^{\\infty}f(U)\\frac{dU}{d\\xi}+\\frac{d^2U}{d\\xi^2}\\frac{dU}{d\\xi}d\\xi \\\\\n",
    "&=\\int_{u_1}^{u_3}f(U)dU+\\int_{-\\infty}^{\\infty}\\frac{d^2U}{d\\xi^2}\\frac{dU}{d\\xi}d\\xi \\\\\n",
    "&=\\int_{u_1}^{u_3}f(U)dU+\\frac{1}{2}\\left(\\frac{dU}{d\\xi}(\\infty)\\right)^2-\\frac{1}{2}\\left(\\frac{dU}{d\\xi}(-\\infty)\\right)^2 \\\\\n",
    "&=\\int_{u_1}^{u_3}f(U)dU\n",
    "\\end{align*}\n",
    "Since derivatives must converge to zero if the limits exist. Therefore by re-arranging,\n",
    "\\begin{align*}\n",
    "c = -\\frac{\\int_{u_3}^{u_1}f(U)dU}{\\int_{-\\infty}^{\\infty}\\left(\\frac{dU}{d\\xi}\\right)^2d\\xi}\n",
    "\\end{align*}\n",
    "Since\n",
    "\\begin{align*}\n",
    "c = \\frac{\\int_{u_1}^{u_3}f(U)dU}{\\int_{-\\infty}^{\\infty}\\left(\\frac{dU}{d\\xi}\\right)^2d\\xi}\n",
    "\\end{align*}\n",
    "Then $\\int_{u_1}^{u_3}f(U)dU<0$ implies that $c<0$, and hence the wave moves left and outbreak spreads."
   ]
  },
  {
   "cell_type": "markdown",
   "metadata": {},
   "source": [
    "1.v.\\\n",
    "Since $u_1<u_3$ then for $c>0$ (outbreak doesn't spread), we need to have $f(U)>0$ within this range. This means we need\n",
    "$$ru\\left(1-\\frac{u}{q}\\right)-\\frac{u^2}{1+u^2}>0$$\n",
    "For $u_1<u<u_3$. By inspection, increasing $r$ such that $ru\\left(1-\\frac{u}{q}\\right)>\\frac{u^2}{1+u^2}$ would be one such method."
   ]
  },
  {
   "cell_type": "markdown",
   "metadata": {},
   "source": [
    "# 2. Diffusive prey system\n",
    "\n",
    "Consider the predator-prey system,\n",
    "\n",
    "\\begin{align*}\n",
    "\\frac{\\partial u}{\\partial \\tau}  &= u\\left(1 - u - v\\right) + D\\frac{\\partial ^2 u}{\\partial X^2},\\\\\n",
    "\\frac{\\partial v}{\\partial \\tau}  &= \\alpha v(u - \\beta),\n",
    "\\end{align*}\n",
    "\n",
    "where the prey are allowed to diffuse, while the predators cannot.\n",
    "\n",
    "\\begin{enumerate}\n",
    "\\item Perform the phase plane analysis of the ODE system\n",
    "\n",
    "\\begin{align*}\n",
    "\\frac{d u}{d \\tau}  &= u\\left(1 - u - v\\right) \\\\\n",
    "\\frac{d v}{d \\tau}  &= \\alpha v(u - \\beta), \\\\\n",
    "\\end{align*}\n",
    "\n",
    "establishing the fixed points an their stability.  Sketch trajectories in the phase plane, indicating the flow in the different regions of phase space. \n",
    "\n",
    "\\item Consider the diffusive prey system with the conditions\n",
    "\n",
    "\\begin{align*}\n",
    "U \\rightarrow 0 \\text{ and } V \\rightarrow 0, \\text{ as } \\xi \\rightarrow \\infty, \\text{     } U \\rightarrow 1 \\text{ and } V \\rightarrow 0, \\text{ as } \\xi \\rightarrow -\\infty.\n",
    "\\end{align*}\n",
    "\n",
    "Assume a travelling wave solution and obtain the value of the wavespeed, $c$.  *Hint: first address the question: what is $V(\\xi)$?*\n",
    "\n",
    "\\end{enumerate}"
   ]
  },
  {
   "cell_type": "markdown",
   "metadata": {},
   "source": [
    "2.i.\\\n",
    "The nullclines are\n",
    "\\begin{align*}\n",
    "0=u(1-u-v) \\\\\n",
    "0=\\alpha v(u-\\beta)\n",
    "\\end{align*}\n",
    "The fixed points are $(0,0)$, $(1,0)$, and $(\\beta,1-\\beta)$. The jacobian is\n",
    "\\begin{align*}\n",
    "J(u,v)=\n",
    "\\begin{bmatrix}\n",
    "1-2u-v & -u \\\\\n",
    "\\alpha v & \\alpha(u-\\beta)\n",
    "\\end{bmatrix}\n",
    "\\end{align*}\n",
    "Therefore\n",
    "\\begin{align*}\n",
    "J(0,0)=\n",
    "\\begin{bmatrix}\n",
    "1 & 0 \\\\\n",
    "0 & -\\alpha\\beta\n",
    "\\end{bmatrix}\n",
    "\\end{align*}\n",
    "So $(0,0)$ is a saddle for $\\alpha, \\beta >0$ with eigenvectors $\\begin{bmatrix}1 \\\\ 0\\end{bmatrix}$ and $\\begin{bmatrix}0 \\\\ 1\\end{bmatrix}$ for eigenvalues $1$ and $-\\alpha\\beta$ respectively.\n",
    "\\begin{align*}\n",
    "J(1,0)=\n",
    "\\begin{bmatrix}\n",
    "-1 & -1 \\\\\n",
    "0 & \\alpha(1-\\beta)\n",
    "\\end{bmatrix}\n",
    "\\end{align*}\n",
    "So $(1,0)$ is a stable node if $\\alpha(1-\\beta)<0$ and a saddle if $\\alpha(1-\\beta)>0$.\n",
    "\\begin{align*}\n",
    "J(\\beta,1-\\beta)=\n",
    "\\begin{bmatrix}\n",
    "-\\beta & -1 \\\\\n",
    "\\alpha(1-\\beta) & 0\n",
    "\\end{bmatrix}\n",
    "\\end{align*}\n",
    "This has eigenvalues\n",
    "$$\\lambda=\\frac{-\\beta\\pm\\sqrt{\\beta^2-4\\alpha(1-\\beta)}}{2}$$\n",
    "So $(\\beta,1-\\beta)$ is a saddle if $\\alpha(1-\\beta)<0$ and stable if $\\beta^2\\leq 4\\alpha(1-\\beta)$."
   ]
  },
  {
   "cell_type": "markdown",
   "metadata": {},
   "source": [
    "For the case $1-\\beta >0$, then $(1,0)$ is a saddle and $(\\beta,1-\\beta)$ is a stable node or spiral.\n",
    "\\begin{figure}\n",
    "\\includegraphics[width=\\textwidth]{p4q2a.png}\n",
    "\\end{figure}"
   ]
  },
  {
   "cell_type": "markdown",
   "metadata": {},
   "source": [
    "2.ii. For the conditions to hold, $V(\\xi)=0$ so there are no predators. This means\n",
    "\\begin{align*}\n",
    "\\frac{\\partial u}{\\partial \\tau}  &= u\\left(1 - u\\right) + D\\frac{\\partial ^2 u}{\\partial X^2}\n",
    "\\end{align*}"
   ]
  },
  {
   "cell_type": "markdown",
   "metadata": {},
   "source": [
    "This is the FK equation. Taking $u=U(\\xi)$ where $\\xi=x-c\\tau$ gives\n",
    "\\begin{align*}\n",
    "-c\\frac{\\partial U}{\\partial \\tau}  = U\\left(1 - U\\right) + D\\frac{\\partial ^2 U}{\\partial X^2}\n",
    "\\end{align*}\n",
    "Working through this ODE as in the notes, $c=2\\sqrt{D}$."
   ]
  },
  {
   "cell_type": "markdown",
   "metadata": {},
   "source": [
    "# 3. Turing instability for the Brusselator\n",
    "\n",
    "Consider the reaction-diffusion equation based on the Brusselator system,\n",
    "\n",
    "\\begin{align*}\n",
    "\\frac{\\partial u}{\\partial t} &= a - (1 + b)u + u^2v + \\nabla^2 u\\\\\n",
    "\\frac{\\partial v}{\\partial t} &= bu - u^2v + d \\nabla^2 v.\n",
    "\\end{align*}\n",
    "\n",
    "For these equations, \n",
    "\n",
    "\\begin{enumerate}\n",
    "\\item Find the spatially homogeneous steady state.\n",
    "\\item Using the necessary conditions for a Turing instability, show that \n",
    "\n",
    "\\begin{align*}\n",
    "\\left(1 + \\frac{a}{\\sqrt{d}}\\right)^2 < b < 1 + a^2.\n",
    "\\end{align*}\n",
    "\n",
    "\\item Determine the value of $k$ at the bifurcation.\n",
    "\\end{enumerate}\n"
   ]
  },
  {
   "cell_type": "markdown",
   "metadata": {},
   "source": [
    "3.i. For a spatially homogeneous ($\\nabla^2u=0$) steady state $\\frac{\\partial u}{\\partial t}=\\frac{\\partial v}{\\partial t}=0$, then\n",
    "\\begin{align*}\n",
    "0 &= a - (1 + b)u + u^2v \\\\\n",
    "0 &= bu - u^2v\n",
    "\\end{align*}"
   ]
  },
  {
   "cell_type": "markdown",
   "metadata": {},
   "source": [
    "This gives\n",
    "\\begin{align*}\n",
    "u=a,\\quad\\quad v = \\frac{b}{a}\n",
    "\\end{align*}"
   ]
  },
  {
   "cell_type": "markdown",
   "metadata": {},
   "source": [
    "3.ii. The Jacobian for the spatially homogeneous system is \n",
    "\\begin{align*}\n",
    "J(u,v) =\n",
    "\\begin{bmatrix}\n",
    "-(1+b)+2uv & u^2 \\\\\n",
    "b-2uv & -u^2\n",
    "\\end{bmatrix} \\\\\n",
    "\\end{align*}\n",
    "Therefore\n",
    "\\begin{align*}\n",
    "J(a,\\tfrac{b}{a}) =\n",
    "\\begin{bmatrix}\n",
    "b-1 & a^2 \\\\\n",
    "-b & -a^2\n",
    "\\end{bmatrix} \\\\\n",
    "\\end{align*}"
   ]
  },
  {
   "cell_type": "markdown",
   "metadata": {},
   "source": [
    "Therefore\n",
    "\\begin{align*}\n",
    "\\textrm{trace}(J) &= b-1-a^2 \\\\\n",
    "\\det(J) &= a^2 > 0\n",
    "\\end{align*}\n",
    "For $\\textrm{trace}(J)<0$ to hold, we need $b-1-a^2<0$ which means $b<1+a^2$."
   ]
  },
  {
   "cell_type": "markdown",
   "metadata": {},
   "source": [
    "For the other condition, we need $\\textrm{Re}(\\lambda)>0$ which means $D_2J_{11}+D_1J_{22}>0$ and $(D_2J_{11}+D_1J_{22})^2-4D_1D_2\\det(J)>0$. Therefore\n",
    "\\begin{align*}\n",
    "(d(b-1)-a^2)^2-4da^2&>0 \\\\\n",
    "(d(b-1)-a^2)^2&>4da^2 \\\\\n",
    "d(b-1)-a^2&>2a\\sqrt{d} \\\\\n",
    "d(b-1)&>a^2+2a\\sqrt{d} \\\\\n",
    "b-1&>\\frac{a^2}{d}+\\frac{2a}{\\sqrt{d}} \\\\\n",
    "b&>1+\\frac{a^2}{d}+\\frac{2a}{\\sqrt{d}} \\\\\n",
    "b&>\\left(1+\\frac{a}{\\sqrt{d}}\\right)^2\n",
    "\\end{align*}\n",
    "Hence\n",
    "\\begin{align*}\n",
    "\\left(1 + \\frac{a}{\\sqrt{d}}\\right)^2 < b < 1 + a^2.\n",
    "\\end{align*}"
   ]
  },
  {
   "cell_type": "markdown",
   "metadata": {},
   "source": [
    "3.iii. The range of $k^2$ for which we have instability is \n",
    "\n",
    "\\begin{equation*}\n",
    "k_{\\pm}^2  = \\frac{(d(1+b) -a^2) \\pm \\sqrt{(d(1+b) -a^2)^2 - 4da^2}}{2d}\n",
    "\\end{equation*}\n",
    "\n",
    "At the bifurcation, we have $k_c^2 = a/\\sqrt{d}$."
   ]
  },
  {
   "cell_type": "markdown",
   "metadata": {},
   "source": [
    "# 4. Stripes vs. Spots\n",
    "\n",
    "In the notes, we showed that by varying the aspect ratio of a rectangular domain, the patterns that emerge can either be stripes (rectangular domain), or spots (square domain).\n",
    "\n",
    "Take the dimensions of the domain to be $L$ in the $x$-direction and $H$ in the $y$-direction (as in the notes).  Assume that the parameters in the reaction diffusion equation are such that there is a range of unstable modes, $k_{-}^2 < k^2 < k_+^2$, and that there exists at least one mode for the 1D case such $k_{-}^2 < (n\\pi/L)^2 < k_+^2$.  \n",
    "\n",
    "For what values of $H$ will there be spots? \n"
   ]
  },
  {
   "cell_type": "markdown",
   "metadata": {},
   "source": [
    "4. For instability in a rectangular domain, \n",
    "\n",
    "\\begin{equation*}\n",
    "k_{-}^2 < \\left(\\frac{n\\pi}{L}\\right)^2 + \\left(\\frac{m\\pi}{H}\\right)^2 < k_{+}^2.\n",
    "\\end{equation*}\n",
    "\n",
    "Dividing by $(\\pi/L)^2$, we have that \n",
    "\n",
    "\\begin{equation*}\n",
    "\\left( \\frac{k_{-}L}{\\pi} \\right)^2 < n^2 + m^2\\left( \\frac{L}{H} \\right)^2 < \\left( \\frac{k_{+}L}{\\pi} \\right)^2 \n",
    "\\end{equation*}\n",
    "\n",
    "To have stripes only, the mode $n^2 + \\left( \\frac{L}{H} \\right)^2$ must be stable. Therefore, we have \n",
    "\n",
    "\\begin{equation*}\n",
    "\\frac{L}{H} > \\sqrt{\\left(\\frac{k_{+}L}{\\pi}\\right)^2 - n^2}.\n",
    "\\end{equation*}"
   ]
  },
  {
   "cell_type": "markdown",
   "metadata": {},
   "source": [
    "# 5. Zebra stripes\n",
    "\n",
    "The surface of a zebra's leg is modelled as a cone of angle $\\alpha$, so that in terms of spherical polar coordinates $(r,\\,\\theta,\\,\\eta)$ it occupies $\\theta = \\alpha$, $0<r<L$, $0<\\eta<2\\pi$. In these coordinates, the equation \n",
    "\n",
    "\\begin{align*}\n",
    "\\nabla^2\\phi + k^2\\phi=0\n",
    "\\end{align*}\n",
    "\n",
    "for $\\phi(r,\\eta)$ is\n",
    "\n",
    "\\begin{align*}\n",
    "\\frac{1}{r^2\\sin^2\\alpha}\\frac{\\partial^2\\phi}{\\partial \\eta^2}+\\frac{1}{r^2}\\frac{\\partial}{\\partial r}\\left(r^2\\frac{\\partial \\phi}{\\partial r}\\right)+k^2\\phi=0, \\text{ with } \\frac{\\partial \\phi}{\\partial r}(L,\\eta)=0.\n",
    "\\end{align*}\n",
    "\n",
    "\\begin{enumerate}\n",
    "\\item Write $\\phi=\\psi(r)/r$ and find the $\\eta$-independent eigenfunctions. \n",
    "\\item Show that the eigenvalues satisfy $\\tan kL=kL$ and find the smallest possible value of $k$.\n",
    "\\end{enumerate}"
   ]
  },
  {
   "cell_type": "markdown",
   "metadata": {},
   "source": [
    "5.i. $\\phi(0,\\eta)<\\infty$. If $\\phi=\\frac{\\psi}{r}$ then $\\frac{\\partial^2 \\phi}{\\partial \\eta^2}=0$, $\\frac{d\\phi}{dr}=\\frac{1}{r}\\frac{d\\psi}{dr}-\\frac{1}{r^2}\\psi$.Therefore"
   ]
  },
  {
   "cell_type": "markdown",
   "metadata": {},
   "source": [
    "\\begin{align*}\n",
    "\\frac{1}{r^2}\\frac{d}{dr}\\left(r\\frac{d\\psi}{dr}-\\psi\\right)+\\frac{k^2}{r}\\psi=0 \\\\\n",
    "\\frac{1}{r^2}\\left(\\frac{d\\psi}{dr}+r\\frac{d^2\\psi}{dr^2}-\\frac{d\\psi}{dr}\\right)+\\frac{k^2}{r}\\psi=0 \\\\\n",
    "\\frac{d^2\\psi}{dr^2}+k^2\\psi=0 \\\\\n",
    "\\end{align*}"
   ]
  },
  {
   "cell_type": "markdown",
   "metadata": {},
   "source": [
    "Therefore $\\psi(r)=A\\cos(kr)+Bsin(kr)$ and the general solution is\n",
    "\\begin{align*}\n",
    "\\phi(r)=A\\frac{\\cos(kr)}{r}+B\\frac{sin(kr)}{r}\n",
    "\\end{align*}"
   ]
  },
  {
   "cell_type": "markdown",
   "metadata": {},
   "source": [
    "For $\\phi(0)<\\infty$ then $A=0$. As the boundary $\\frac{d\\phi}{dr}(L)=Bk\\frac{\\cos(kL)}{L}-B\\frac{\\sin(kL)}{L^2}=0$ which means\n",
    "\\begin{align*}\n",
    "kL\\cos(kL)=\\sin(kL) \\\\\n",
    "\\tan(kL)=kL\n",
    "\\end{align*}\n",
    "The smallest $k$ for which this occurs is $k\\approx \\frac{4.5}{L}$."
   ]
  },
  {
   "cell_type": "markdown",
   "metadata": {},
   "source": [
    "# 6. Patterns in a petri dish\n",
    "\n",
    "A mixture of two chemicals was set to react in a circular petri dish of radius $R$.  The system obeys a reaction-diffusion equation and conditions are such that a Turing instability occurs, leading to a spatial pattern in the chemical concentrations.\n",
    "\n",
    "The spatial modes $\\phi$ satisfy\n",
    "\n",
    "\\begin{align*}\n",
    "\\nabla^2\\phi + k^2\\phi &= 0, \\\\\n",
    "\\end{align*}\n",
    "\n",
    "which in polar coordinates is\n",
    "\n",
    "\\begin{align*}\n",
    "\\frac{1}{r}\\frac{\\partial}{\\partial r}\\left(r \\frac{\\partial \\phi}{\\partial r}\\right) +\\frac{1}{r^2}\\frac{\\partial^2 \\phi}{\\partial \\theta^2} + k^2\\phi &= 0, \\\\\n",
    "\\end{align*}\n",
    "\n",
    "where $r \\in [0,R)$ is the radial distance from the centre of the dish, and $\\theta \\in [0, 2\\pi)$ is the polar angle.  At the boundary $r = R$, we have \n",
    "\n",
    "\\begin{align*}\n",
    "\\frac{\\partial \\phi}{\\partial r}(R, \\theta) = 0.\n",
    "\\end{align*}\n",
    "\n",
    "Additionally, $\\phi$ should be a $2\\pi$-periodic function of $\\theta$, i.e. $\\phi(r,0) = \\phi(r,2\\pi)$.'\n",
    "\n",
    "\\begin{enumerate}\n",
    "\\item Writing the solution as $\\phi(r,\\theta) = \\psi(r) f(\\theta)$, use separation of variables to show that \n",
    "\n",
    "\\begin{align*}\n",
    "r^2\\frac{d^2\\psi}{dr^2} + r \\frac{d\\psi}{dr} + \\left(r^2 k^2 - m^2\\right)\\psi &= 0 \\\\\n",
    "\\frac{d^2 f}{d \\theta^2} + m^2 f &= 0\n",
    "\\end{align*}\n",
    "\n",
    "where $m^2$ is the constant introduced when separating variables.\n",
    "\n",
    "\\item Solve the equation for $f$ and determine the permitted values of $m^2$.  \n",
    "\\item By appropriately rescaling $r$, show that the equation for $\\psi$ can be written as \n",
    "\n",
    "\\begin{align*}\n",
    "\\rho^2 \\frac{d^2 \\psi}{d \\rho^2} + \\rho \\frac{d \\psi}{d \\rho} + \\left(\\rho^2 - m^2\\right)\\psi &= 0\n",
    "\\end{align*}\n",
    "\n",
    "where $\\rho$ is the recalled radial distance.\n",
    "\\item This is what is known as Bessel's equation which has solutions $\\psi(\\rho) = J_m(\\rho)$ for each value of $m$, where the function $J_{m}(\\rho)$ are known as Bessel functions.\n",
    "\n",
    "Suppose that $k_{-}^2 = 3$ and $k_{+}^2 = 3.5$.  How large should our petri dish be for the pattern to be two concentric rings (i.e. two minima in the solution within the interior of the petri dish)?  \\textit{Hints: The derivative of the $J_0(\\rho)$ is given by,}\n",
    "\n",
    "\\begin{align*}\n",
    "\\frac{dJ_{0}}{d\\rho} = -J_1(\\rho),\n",
    "\\end{align*}\n",
    "\n",
    "\\textit{and numerical values for the zeros of the Bessel function can be found here:} $\\texttt{https://mathworld.wolfram.com/BesselFunctionZeros.html}.$\n",
    "\\end{enumerate}\n"
   ]
  },
  {
   "cell_type": "markdown",
   "metadata": {},
   "source": [
    "6.i. Let $\\phi(r,\\theta)=\\psi(r)f(\\theta)$. Then\n",
    "\\begin{align*}\n",
    "\\frac{f}{r}\\frac{\\partial}{\\partial r}\\left(r \\frac{\\partial \\psi}{\\partial r}\\right) +\\frac{\\psi}{r^2}\\frac{\\partial^2 f}{\\partial \\theta^2} + k^2\\psi f = 0\n",
    "\\end{align*}"
   ]
  },
  {
   "cell_type": "markdown",
   "metadata": {},
   "source": [
    "Dividing both sides by $\\frac{\\psi f}{r^2}$ and re-arranging gives\n",
    "\\begin{align*}\n",
    "\\frac{r}{\\psi}\\left(\\frac{\\partial \\psi}{\\partial r}+r\\frac{\\partial^2\\psi}{\\partial r}\\right) +k^2 r^2=-\\frac{1}{f}\\frac{\\partial^2 f}{\\partial\\theta^2}=m^2\n",
    "\\end{align*}"
   ]
  },
  {
   "cell_type": "markdown",
   "metadata": {},
   "source": [
    "This gives\n",
    "\\begin{align*}\n",
    "r^2\\frac{d^2\\psi}{dr^2} + r \\frac{d\\psi}{dr} + \\left(r^2 k^2 - m^2\\right)\\psi &= 0 \\\\\n",
    "\\frac{d^2 f}{d \\theta^2} + m^2 f &= 0\n",
    "\\end{align*}"
   ]
  },
  {
   "cell_type": "markdown",
   "metadata": {},
   "source": [
    "6.ii. The general solution for $f$ is $f(\\theta)=A\\cos(m\\theta)+B\\sin(m\\theta)$. For a $2\\pi$ periodic solution, $m\\in\\mathbb{Z}$."
   ]
  },
  {
   "cell_type": "markdown",
   "metadata": {},
   "source": [
    "6.iii. Let $\\rho=kr$ then $\\frac{d\\psi}{d\\rho}=\\frac{1}{k}\\frac{d\\psi}{dr}$ so $r\\frac{d\\psi}{dr}=\\rho\\frac{d\\psi}{d\\rho}$ and similarly $r^2\\frac{d^2\\psi}{dr^2}=\\rho^2\\frac{d^2\\psi}{d\\rho^2}$. Therefore\n",
    "\\begin{align*}\n",
    "\\rho^2 \\frac{d^2 \\psi}{d \\rho^2} + \\rho \\frac{d \\psi}{d \\rho} + \\left(\\rho^2 - m^2\\right)\\psi &= 0\n",
    "\\end{align*}"
   ]
  },
  {
   "cell_type": "markdown",
   "metadata": {},
   "source": [
    "6.iv. From the condition that\n",
    "\n",
    "\\begin{equation*}\n",
    "\\left.\\frac{d\\phi}{dr}\\right|_{r = R} = 0,\n",
    "\\end{equation*}\n",
    "\n",
    "we have,\n",
    "\n",
    "\\begin{equation*}\n",
    "\\left.\\frac{d\\psi}{dr}\\right|_{r = R} = \\left.k \\frac{dJ_m}{d\\rho}\\right|_{\\rho = kR} = 0.\n",
    "\\end{equation*}\n",
    "\n",
    "For the case of concentric rings, $\\phi$ will not depend on $\\theta$. Hence, $f = $ const. and therefore $m^2 = 0$ and $\\psi(r) = J_0(kr)$.  The boundary condition requires that\n",
    "\n",
    "\\begin{equation*}\n",
    "\\left.\\frac{dJ_0}{d\\rho} \\right|_{\\rho = kR} = -J_1(kR) = 0\n",
    "\\end{equation*}\n",
    "\n",
    "We see then that the values of $k$ are determined by the values of $kR$ where $J_1(kR) = 0$. For $J_0(\\rho)$ to have two minima, we take the zero of $J_1$ to be $kR = 13.3237$. A value of $R = 4$ ensures $3 < k < 3.5$ (other choices are possible). "
   ]
  }
 ],
 "metadata": {
  "kernelspec": {
   "display_name": "Python 3",
   "language": "python",
   "name": "python3"
  },
  "language_info": {
   "codemirror_mode": {
    "name": "ipython",
    "version": 3
   },
   "file_extension": ".py",
   "mimetype": "text/x-python",
   "name": "python",
   "nbconvert_exporter": "python",
   "pygments_lexer": "ipython3",
   "version": "3.8.3"
  },
  "latex_envs": {
   "LaTeX_envs_menu_present": true,
   "autoclose": false,
   "autocomplete": false,
   "bibliofile": "biblio.bib",
   "cite_by": "apalike",
   "current_citInitial": 1,
   "eqLabelWithNumbers": true,
   "eqNumInitial": 1,
   "hotkeys": {
    "equation": "Ctrl-E",
    "itemize": "Ctrl-I"
   },
   "labels_anchors": false,
   "latex_user_defs": false,
   "report_style_numbering": false,
   "user_envs_cfg": false
  }
 },
 "nbformat": 4,
 "nbformat_minor": 2
}
